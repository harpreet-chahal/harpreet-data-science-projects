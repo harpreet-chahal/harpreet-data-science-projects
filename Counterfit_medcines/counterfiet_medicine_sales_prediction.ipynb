{
 "cells": [
  {
   "cell_type": "code",
   "execution_count": 4,
   "metadata": {},
   "outputs": [],
   "source": [
    "file1=r\"C:\\Users\\swadhin biswal\\Desktop\\happy data scientist\\python\\PROJECTS\\project3\\counterfeit_train.csv\"\n",
    "file2=r\"C:\\Users\\swadhin biswal\\Desktop\\happy data scientist\\python\\PROJECTS\\project3\\counterfeit_test.csv\""
   ]
  },
  {
   "cell_type": "code",
   "execution_count": 2,
   "metadata": {},
   "outputs": [],
   "source": [
    "import pandas as pd\n",
    "import numpy as np\n",
    "from sklearn.model_selection import train_test_split\n",
    "from sklearn.linear_model import LinearRegression\n",
    "from sklearn.metrics import mean_absolute_error\n",
    "from sklearn.ensemble import RandomForestRegressor,GradientBoostingRegressor,ExtraTreesRegressor\n",
    "from sklearn.tree import DecisionTreeRegressor\n",
    "from sklearn.svm import SVR\n",
    "from sklearn.neighbors import KNeighborsRegressor\n",
    "from sklearn.neural_network import MLPRegressor\n",
    "from xgboost.sklearn import XGBRegressor\n",
    "from sklearn.preprocessing import scale"
   ]
  },
  {
   "cell_type": "code",
   "execution_count": 5,
   "metadata": {},
   "outputs": [],
   "source": [
    "ld_train=pd.read_csv(file1)\n",
    "ld_test=pd.read_csv(file2)"
   ]
  },
  {
   "cell_type": "code",
   "execution_count": 7,
   "metadata": {},
   "outputs": [
    {
     "data": {
      "text/plain": [
       "(6818, 12)"
      ]
     },
     "execution_count": 7,
     "metadata": {},
     "output_type": "execute_result"
    }
   ],
   "source": [
    "ld_train.shape"
   ]
  },
  {
   "cell_type": "code",
   "execution_count": 8,
   "metadata": {},
   "outputs": [
    {
     "data": {
      "text/plain": [
       "(1705, 11)"
      ]
     },
     "execution_count": 8,
     "metadata": {},
     "output_type": "execute_result"
    }
   ],
   "source": [
    "ld_test.shape"
   ]
  },
  {
   "cell_type": "code",
   "execution_count": 12,
   "metadata": {},
   "outputs": [
    {
     "data": {
      "text/html": [
       "<div>\n",
       "<style scoped>\n",
       "    .dataframe tbody tr th:only-of-type {\n",
       "        vertical-align: middle;\n",
       "    }\n",
       "\n",
       "    .dataframe tbody tr th {\n",
       "        vertical-align: top;\n",
       "    }\n",
       "\n",
       "    .dataframe thead th {\n",
       "        text-align: right;\n",
       "    }\n",
       "</style>\n",
       "<table border=\"1\" class=\"dataframe\">\n",
       "  <thead>\n",
       "    <tr style=\"text-align: right;\">\n",
       "      <th></th>\n",
       "      <th>Medicine_ID</th>\n",
       "      <th>Counterfeit_Weight</th>\n",
       "      <th>DistArea_ID</th>\n",
       "      <th>Active_Since</th>\n",
       "      <th>Medicine_MRP</th>\n",
       "      <th>Medicine_Type</th>\n",
       "      <th>SidEffect_Level</th>\n",
       "      <th>Availability_rating</th>\n",
       "      <th>Area_Type</th>\n",
       "      <th>Area_City_Type</th>\n",
       "      <th>Area_dist_level</th>\n",
       "      <th>Counterfeit_Sales</th>\n",
       "      <th>data</th>\n",
       "    </tr>\n",
       "  </thead>\n",
       "  <tbody>\n",
       "    <tr>\n",
       "      <th>0</th>\n",
       "      <td>RRA15</td>\n",
       "      <td>13.100</td>\n",
       "      <td>Area046</td>\n",
       "      <td>1995</td>\n",
       "      <td>160.2366</td>\n",
       "      <td>Antimalarial</td>\n",
       "      <td>critical</td>\n",
       "      <td>0.070422</td>\n",
       "      <td>DownTown</td>\n",
       "      <td>Tier 1</td>\n",
       "      <td>Small</td>\n",
       "      <td>1775.5026</td>\n",
       "      <td>train</td>\n",
       "    </tr>\n",
       "    <tr>\n",
       "      <th>1</th>\n",
       "      <td>YVV26</td>\n",
       "      <td>NaN</td>\n",
       "      <td>Area027</td>\n",
       "      <td>1983</td>\n",
       "      <td>110.4384</td>\n",
       "      <td>Mstablizers</td>\n",
       "      <td>mild</td>\n",
       "      <td>0.013000</td>\n",
       "      <td>CityLimits</td>\n",
       "      <td>Tier 3</td>\n",
       "      <td>Medium</td>\n",
       "      <td>3069.1520</td>\n",
       "      <td>train</td>\n",
       "    </tr>\n",
       "    <tr>\n",
       "      <th>2</th>\n",
       "      <td>LJC15</td>\n",
       "      <td>9.025</td>\n",
       "      <td>Area046</td>\n",
       "      <td>1995</td>\n",
       "      <td>259.4092</td>\n",
       "      <td>Cardiac</td>\n",
       "      <td>mild</td>\n",
       "      <td>0.060783</td>\n",
       "      <td>DownTown</td>\n",
       "      <td>Tier 1</td>\n",
       "      <td>Small</td>\n",
       "      <td>2603.0920</td>\n",
       "      <td>train</td>\n",
       "    </tr>\n",
       "    <tr>\n",
       "      <th>3</th>\n",
       "      <td>GWC40</td>\n",
       "      <td>11.800</td>\n",
       "      <td>Area046</td>\n",
       "      <td>1995</td>\n",
       "      <td>99.9830</td>\n",
       "      <td>OralContraceptives</td>\n",
       "      <td>mild</td>\n",
       "      <td>0.065555</td>\n",
       "      <td>DownTown</td>\n",
       "      <td>Tier 1</td>\n",
       "      <td>Small</td>\n",
       "      <td>1101.7130</td>\n",
       "      <td>train</td>\n",
       "    </tr>\n",
       "    <tr>\n",
       "      <th>4</th>\n",
       "      <td>QMN13</td>\n",
       "      <td>NaN</td>\n",
       "      <td>Area019</td>\n",
       "      <td>1983</td>\n",
       "      <td>56.4402</td>\n",
       "      <td>Hreplacements</td>\n",
       "      <td>critical</td>\n",
       "      <td>0.248859</td>\n",
       "      <td>MidTownResidential</td>\n",
       "      <td>Tier 1</td>\n",
       "      <td>Small</td>\n",
       "      <td>158.9402</td>\n",
       "      <td>train</td>\n",
       "    </tr>\n",
       "  </tbody>\n",
       "</table>\n",
       "</div>"
      ],
      "text/plain": [
       "  Medicine_ID  Counterfeit_Weight  ...   Counterfeit_Sales   data\n",
       "0       RRA15              13.100  ...           1775.5026  train\n",
       "1       YVV26                 NaN  ...           3069.1520  train\n",
       "2       LJC15               9.025  ...           2603.0920  train\n",
       "3       GWC40              11.800  ...           1101.7130  train\n",
       "4       QMN13                 NaN  ...            158.9402  train\n",
       "\n",
       "[5 rows x 13 columns]"
      ]
     },
     "execution_count": 12,
     "metadata": {},
     "output_type": "execute_result"
    }
   ],
   "source": [
    "ld_train.head()"
   ]
  },
  {
   "cell_type": "code",
   "execution_count": 10,
   "metadata": {},
   "outputs": [],
   "source": [
    "ld_test[\"Counterfeit_Sales\"]=np.nan\n",
    "ld_test[\"data\"]=\"test\"\n",
    "ld_train[\"data\"]=\"train\"\n",
    "ld_test=ld_test[ld_train.columns]"
   ]
  },
  {
   "cell_type": "code",
   "execution_count": 11,
   "metadata": {},
   "outputs": [
    {
     "data": {
      "text/html": [
       "<div>\n",
       "<style scoped>\n",
       "    .dataframe tbody tr th:only-of-type {\n",
       "        vertical-align: middle;\n",
       "    }\n",
       "\n",
       "    .dataframe tbody tr th {\n",
       "        vertical-align: top;\n",
       "    }\n",
       "\n",
       "    .dataframe thead th {\n",
       "        text-align: right;\n",
       "    }\n",
       "</style>\n",
       "<table border=\"1\" class=\"dataframe\">\n",
       "  <thead>\n",
       "    <tr style=\"text-align: right;\">\n",
       "      <th></th>\n",
       "      <th>Medicine_ID</th>\n",
       "      <th>Counterfeit_Weight</th>\n",
       "      <th>DistArea_ID</th>\n",
       "      <th>Active_Since</th>\n",
       "      <th>Medicine_MRP</th>\n",
       "      <th>Medicine_Type</th>\n",
       "      <th>SidEffect_Level</th>\n",
       "      <th>Availability_rating</th>\n",
       "      <th>Area_Type</th>\n",
       "      <th>Area_City_Type</th>\n",
       "      <th>Area_dist_level</th>\n",
       "      <th>Counterfeit_Sales</th>\n",
       "      <th>data</th>\n",
       "    </tr>\n",
       "  </thead>\n",
       "  <tbody>\n",
       "    <tr>\n",
       "      <th>0</th>\n",
       "      <td>HLZ81</td>\n",
       "      <td>NaN</td>\n",
       "      <td>Area027</td>\n",
       "      <td>1983</td>\n",
       "      <td>85.5328</td>\n",
       "      <td>Antibiotics</td>\n",
       "      <td>mild</td>\n",
       "      <td>0.112747</td>\n",
       "      <td>CityLimits</td>\n",
       "      <td>Tier 3</td>\n",
       "      <td>Medium</td>\n",
       "      <td>NaN</td>\n",
       "      <td>test</td>\n",
       "    </tr>\n",
       "    <tr>\n",
       "      <th>1</th>\n",
       "      <td>ECE94</td>\n",
       "      <td>13.45</td>\n",
       "      <td>Area045</td>\n",
       "      <td>2000</td>\n",
       "      <td>257.1460</td>\n",
       "      <td>OralContraceptives</td>\n",
       "      <td>mild</td>\n",
       "      <td>0.144446</td>\n",
       "      <td>DownTown</td>\n",
       "      <td>Tier 2</td>\n",
       "      <td>Unknown</td>\n",
       "      <td>NaN</td>\n",
       "      <td>test</td>\n",
       "    </tr>\n",
       "    <tr>\n",
       "      <th>2</th>\n",
       "      <td>SAD14</td>\n",
       "      <td>7.10</td>\n",
       "      <td>Area045</td>\n",
       "      <td>2000</td>\n",
       "      <td>98.1172</td>\n",
       "      <td>Antipyretics</td>\n",
       "      <td>mild</td>\n",
       "      <td>0.144221</td>\n",
       "      <td>DownTown</td>\n",
       "      <td>Tier 2</td>\n",
       "      <td>Unknown</td>\n",
       "      <td>NaN</td>\n",
       "      <td>test</td>\n",
       "    </tr>\n",
       "    <tr>\n",
       "      <th>3</th>\n",
       "      <td>EQV63</td>\n",
       "      <td>18.30</td>\n",
       "      <td>Area010</td>\n",
       "      <td>1996</td>\n",
       "      <td>135.3730</td>\n",
       "      <td>Tranquilizers</td>\n",
       "      <td>mild</td>\n",
       "      <td>0.100388</td>\n",
       "      <td>MidTownResidential</td>\n",
       "      <td>Tier 3</td>\n",
       "      <td>Unknown</td>\n",
       "      <td>NaN</td>\n",
       "      <td>test</td>\n",
       "    </tr>\n",
       "    <tr>\n",
       "      <th>4</th>\n",
       "      <td>AIR10</td>\n",
       "      <td>NaN</td>\n",
       "      <td>Area019</td>\n",
       "      <td>1983</td>\n",
       "      <td>112.8016</td>\n",
       "      <td>OralContraceptives</td>\n",
       "      <td>mild</td>\n",
       "      <td>0.022585</td>\n",
       "      <td>MidTownResidential</td>\n",
       "      <td>Tier 1</td>\n",
       "      <td>Small</td>\n",
       "      <td>NaN</td>\n",
       "      <td>test</td>\n",
       "    </tr>\n",
       "  </tbody>\n",
       "</table>\n",
       "</div>"
      ],
      "text/plain": [
       "  Medicine_ID  Counterfeit_Weight  ...  Counterfeit_Sales  data\n",
       "0       HLZ81                 NaN  ...                NaN  test\n",
       "1       ECE94               13.45  ...                NaN  test\n",
       "2       SAD14                7.10  ...                NaN  test\n",
       "3       EQV63               18.30  ...                NaN  test\n",
       "4       AIR10                 NaN  ...                NaN  test\n",
       "\n",
       "[5 rows x 13 columns]"
      ]
     },
     "execution_count": 11,
     "metadata": {},
     "output_type": "execute_result"
    }
   ],
   "source": [
    "ld_test.head()"
   ]
  },
  {
   "cell_type": "code",
   "execution_count": 13,
   "metadata": {},
   "outputs": [],
   "source": [
    "ld=pd.concat([ld_train,ld_test],axis=0)"
   ]
  },
  {
   "cell_type": "code",
   "execution_count": 14,
   "metadata": {},
   "outputs": [
    {
     "data": {
      "text/html": [
       "<div>\n",
       "<style scoped>\n",
       "    .dataframe tbody tr th:only-of-type {\n",
       "        vertical-align: middle;\n",
       "    }\n",
       "\n",
       "    .dataframe tbody tr th {\n",
       "        vertical-align: top;\n",
       "    }\n",
       "\n",
       "    .dataframe thead th {\n",
       "        text-align: right;\n",
       "    }\n",
       "</style>\n",
       "<table border=\"1\" class=\"dataframe\">\n",
       "  <thead>\n",
       "    <tr style=\"text-align: right;\">\n",
       "      <th></th>\n",
       "      <th>Medicine_ID</th>\n",
       "      <th>Counterfeit_Weight</th>\n",
       "      <th>DistArea_ID</th>\n",
       "      <th>Active_Since</th>\n",
       "      <th>Medicine_MRP</th>\n",
       "      <th>Medicine_Type</th>\n",
       "      <th>SidEffect_Level</th>\n",
       "      <th>Availability_rating</th>\n",
       "      <th>Area_Type</th>\n",
       "      <th>Area_City_Type</th>\n",
       "      <th>Area_dist_level</th>\n",
       "      <th>Counterfeit_Sales</th>\n",
       "      <th>data</th>\n",
       "    </tr>\n",
       "  </thead>\n",
       "  <tbody>\n",
       "    <tr>\n",
       "      <th>0</th>\n",
       "      <td>RRA15</td>\n",
       "      <td>13.100</td>\n",
       "      <td>Area046</td>\n",
       "      <td>1995</td>\n",
       "      <td>160.2366</td>\n",
       "      <td>Antimalarial</td>\n",
       "      <td>critical</td>\n",
       "      <td>0.070422</td>\n",
       "      <td>DownTown</td>\n",
       "      <td>Tier 1</td>\n",
       "      <td>Small</td>\n",
       "      <td>1775.5026</td>\n",
       "      <td>train</td>\n",
       "    </tr>\n",
       "    <tr>\n",
       "      <th>1</th>\n",
       "      <td>YVV26</td>\n",
       "      <td>NaN</td>\n",
       "      <td>Area027</td>\n",
       "      <td>1983</td>\n",
       "      <td>110.4384</td>\n",
       "      <td>Mstablizers</td>\n",
       "      <td>mild</td>\n",
       "      <td>0.013000</td>\n",
       "      <td>CityLimits</td>\n",
       "      <td>Tier 3</td>\n",
       "      <td>Medium</td>\n",
       "      <td>3069.1520</td>\n",
       "      <td>train</td>\n",
       "    </tr>\n",
       "    <tr>\n",
       "      <th>2</th>\n",
       "      <td>LJC15</td>\n",
       "      <td>9.025</td>\n",
       "      <td>Area046</td>\n",
       "      <td>1995</td>\n",
       "      <td>259.4092</td>\n",
       "      <td>Cardiac</td>\n",
       "      <td>mild</td>\n",
       "      <td>0.060783</td>\n",
       "      <td>DownTown</td>\n",
       "      <td>Tier 1</td>\n",
       "      <td>Small</td>\n",
       "      <td>2603.0920</td>\n",
       "      <td>train</td>\n",
       "    </tr>\n",
       "    <tr>\n",
       "      <th>3</th>\n",
       "      <td>GWC40</td>\n",
       "      <td>11.800</td>\n",
       "      <td>Area046</td>\n",
       "      <td>1995</td>\n",
       "      <td>99.9830</td>\n",
       "      <td>OralContraceptives</td>\n",
       "      <td>mild</td>\n",
       "      <td>0.065555</td>\n",
       "      <td>DownTown</td>\n",
       "      <td>Tier 1</td>\n",
       "      <td>Small</td>\n",
       "      <td>1101.7130</td>\n",
       "      <td>train</td>\n",
       "    </tr>\n",
       "    <tr>\n",
       "      <th>4</th>\n",
       "      <td>QMN13</td>\n",
       "      <td>NaN</td>\n",
       "      <td>Area019</td>\n",
       "      <td>1983</td>\n",
       "      <td>56.4402</td>\n",
       "      <td>Hreplacements</td>\n",
       "      <td>critical</td>\n",
       "      <td>0.248859</td>\n",
       "      <td>MidTownResidential</td>\n",
       "      <td>Tier 1</td>\n",
       "      <td>Small</td>\n",
       "      <td>158.9402</td>\n",
       "      <td>train</td>\n",
       "    </tr>\n",
       "  </tbody>\n",
       "</table>\n",
       "</div>"
      ],
      "text/plain": [
       "  Medicine_ID  Counterfeit_Weight  ...   Counterfeit_Sales   data\n",
       "0       RRA15              13.100  ...           1775.5026  train\n",
       "1       YVV26                 NaN  ...           3069.1520  train\n",
       "2       LJC15               9.025  ...           2603.0920  train\n",
       "3       GWC40              11.800  ...           1101.7130  train\n",
       "4       QMN13                 NaN  ...            158.9402  train\n",
       "\n",
       "[5 rows x 13 columns]"
      ]
     },
     "execution_count": 14,
     "metadata": {},
     "output_type": "execute_result"
    }
   ],
   "source": [
    "ld.head()"
   ]
  },
  {
   "cell_type": "code",
   "execution_count": 15,
   "metadata": {},
   "outputs": [
    {
     "data": {
      "text/plain": [
       "Medicine_ID             object\n",
       "Counterfeit_Weight     float64\n",
       "DistArea_ID             object\n",
       "Active_Since             int64\n",
       "Medicine_MRP           float64\n",
       "Medicine_Type           object\n",
       "SidEffect_Level         object\n",
       "Availability_rating    float64\n",
       "Area_Type               object\n",
       "Area_City_Type          object\n",
       "Area_dist_level         object\n",
       "Counterfeit_Sales      float64\n",
       "data                    object\n",
       "dtype: object"
      ]
     },
     "execution_count": 15,
     "metadata": {},
     "output_type": "execute_result"
    }
   ],
   "source": [
    " ld.dtypes"
   ]
  },
  {
   "cell_type": "code",
   "execution_count": 28,
   "metadata": {},
   "outputs": [
    {
     "data": {
      "text/plain": [
       "Index(['DistArea_ID', 'Medicine_Type', 'SidEffect_Level', 'Area_Type',\n",
       "       'Area_City_Type', 'Area_dist_level', 'data'],\n",
       "      dtype='object')"
      ]
     },
     "execution_count": 28,
     "metadata": {},
     "output_type": "execute_result"
    }
   ],
   "source": [
    "ld.select_dtypes([\"object\"]).columns"
   ]
  },
  {
   "cell_type": "code",
   "execution_count": 26,
   "metadata": {},
   "outputs": [
    {
     "name": "stdout",
     "output_type": "stream",
     "text": [
      "Medicine_ID 1557\n",
      "DistArea_ID 10\n",
      "Medicine_Type 16\n",
      "SidEffect_Level 2\n",
      "Area_Type 4\n",
      "Area_City_Type 3\n",
      "Area_dist_level 4\n",
      "data 2\n"
     ]
    }
   ],
   "source": [
    "for col in cols:\n",
    "    print(col,ld[col].nunique())"
   ]
  },
  {
   "cell_type": "code",
   "execution_count": 27,
   "metadata": {},
   "outputs": [],
   "source": [
    "ld.drop([\"Medicine_ID\"],axis=1,inplace=True)"
   ]
  },
  {
   "cell_type": "code",
   "execution_count": 37,
   "metadata": {},
   "outputs": [],
   "source": [
    "cols=['DistArea_ID', 'Medicine_Type', 'SidEffect_Level', 'Area_Type',\n",
    "       'Area_City_Type', 'Area_dist_level','Active_Since']"
   ]
  },
  {
   "cell_type": "code",
   "execution_count": 38,
   "metadata": {},
   "outputs": [
    {
     "ename": "KeyError",
     "evalue": "'DistArea_ID'",
     "output_type": "error",
     "traceback": [
      "\u001b[1;31m---------------------------------------------------------------------------\u001b[0m",
      "\u001b[1;31mKeyError\u001b[0m                                  Traceback (most recent call last)",
      "\u001b[1;32mC:\\Users\\swadhin\\Anaconda3\\lib\\site-packages\\pandas\\core\\indexes\\base.py\u001b[0m in \u001b[0;36mget_loc\u001b[1;34m(self, key, method, tolerance)\u001b[0m\n\u001b[0;32m   3077\u001b[0m             \u001b[1;32mtry\u001b[0m\u001b[1;33m:\u001b[0m\u001b[1;33m\u001b[0m\u001b[1;33m\u001b[0m\u001b[0m\n\u001b[1;32m-> 3078\u001b[1;33m                 \u001b[1;32mreturn\u001b[0m \u001b[0mself\u001b[0m\u001b[1;33m.\u001b[0m\u001b[0m_engine\u001b[0m\u001b[1;33m.\u001b[0m\u001b[0mget_loc\u001b[0m\u001b[1;33m(\u001b[0m\u001b[0mkey\u001b[0m\u001b[1;33m)\u001b[0m\u001b[1;33m\u001b[0m\u001b[1;33m\u001b[0m\u001b[0m\n\u001b[0m\u001b[0;32m   3079\u001b[0m             \u001b[1;32mexcept\u001b[0m \u001b[0mKeyError\u001b[0m\u001b[1;33m:\u001b[0m\u001b[1;33m\u001b[0m\u001b[1;33m\u001b[0m\u001b[0m\n",
      "\u001b[1;32mpandas\\_libs\\index.pyx\u001b[0m in \u001b[0;36mpandas._libs.index.IndexEngine.get_loc\u001b[1;34m()\u001b[0m\n",
      "\u001b[1;32mpandas\\_libs\\index.pyx\u001b[0m in \u001b[0;36mpandas._libs.index.IndexEngine.get_loc\u001b[1;34m()\u001b[0m\n",
      "\u001b[1;32mpandas\\_libs\\hashtable_class_helper.pxi\u001b[0m in \u001b[0;36mpandas._libs.hashtable.PyObjectHashTable.get_item\u001b[1;34m()\u001b[0m\n",
      "\u001b[1;32mpandas\\_libs\\hashtable_class_helper.pxi\u001b[0m in \u001b[0;36mpandas._libs.hashtable.PyObjectHashTable.get_item\u001b[1;34m()\u001b[0m\n",
      "\u001b[1;31mKeyError\u001b[0m: 'DistArea_ID'",
      "\nDuring handling of the above exception, another exception occurred:\n",
      "\u001b[1;31mKeyError\u001b[0m                                  Traceback (most recent call last)",
      "\u001b[1;32m<ipython-input-38-49596b98d03a>\u001b[0m in \u001b[0;36m<module>\u001b[1;34m\u001b[0m\n\u001b[0;32m      1\u001b[0m \u001b[1;32mfor\u001b[0m \u001b[0mcol\u001b[0m \u001b[1;32min\u001b[0m \u001b[0mcols\u001b[0m\u001b[1;33m:\u001b[0m\u001b[1;33m\u001b[0m\u001b[1;33m\u001b[0m\u001b[0m\n\u001b[1;32m----> 2\u001b[1;33m     \u001b[0mfreq\u001b[0m\u001b[1;33m=\u001b[0m\u001b[0mld\u001b[0m\u001b[1;33m[\u001b[0m\u001b[0mcol\u001b[0m\u001b[1;33m]\u001b[0m\u001b[1;33m.\u001b[0m\u001b[0mvalue_counts\u001b[0m\u001b[1;33m(\u001b[0m\u001b[1;33m)\u001b[0m\u001b[1;33m\u001b[0m\u001b[1;33m\u001b[0m\u001b[0m\n\u001b[0m\u001b[0;32m      3\u001b[0m     \u001b[0mfreq\u001b[0m\u001b[1;33m=\u001b[0m\u001b[0mfreq\u001b[0m\u001b[1;33m.\u001b[0m\u001b[0mindex\u001b[0m\u001b[1;33m[\u001b[0m\u001b[1;33m:\u001b[0m\u001b[1;33m-\u001b[0m\u001b[1;36m1\u001b[0m\u001b[1;33m]\u001b[0m\u001b[1;33m\u001b[0m\u001b[1;33m\u001b[0m\u001b[0m\n\u001b[0;32m      4\u001b[0m \u001b[1;33m\u001b[0m\u001b[0m\n\u001b[0;32m      5\u001b[0m     \u001b[1;32mfor\u001b[0m \u001b[0mf\u001b[0m \u001b[1;32min\u001b[0m \u001b[0mfreq\u001b[0m\u001b[1;33m:\u001b[0m\u001b[1;33m\u001b[0m\u001b[1;33m\u001b[0m\u001b[0m\n",
      "\u001b[1;32mC:\\Users\\swadhin\\Anaconda3\\lib\\site-packages\\pandas\\core\\frame.py\u001b[0m in \u001b[0;36m__getitem__\u001b[1;34m(self, key)\u001b[0m\n\u001b[0;32m   2686\u001b[0m             \u001b[1;32mreturn\u001b[0m \u001b[0mself\u001b[0m\u001b[1;33m.\u001b[0m\u001b[0m_getitem_multilevel\u001b[0m\u001b[1;33m(\u001b[0m\u001b[0mkey\u001b[0m\u001b[1;33m)\u001b[0m\u001b[1;33m\u001b[0m\u001b[1;33m\u001b[0m\u001b[0m\n\u001b[0;32m   2687\u001b[0m         \u001b[1;32melse\u001b[0m\u001b[1;33m:\u001b[0m\u001b[1;33m\u001b[0m\u001b[1;33m\u001b[0m\u001b[0m\n\u001b[1;32m-> 2688\u001b[1;33m             \u001b[1;32mreturn\u001b[0m \u001b[0mself\u001b[0m\u001b[1;33m.\u001b[0m\u001b[0m_getitem_column\u001b[0m\u001b[1;33m(\u001b[0m\u001b[0mkey\u001b[0m\u001b[1;33m)\u001b[0m\u001b[1;33m\u001b[0m\u001b[1;33m\u001b[0m\u001b[0m\n\u001b[0m\u001b[0;32m   2689\u001b[0m \u001b[1;33m\u001b[0m\u001b[0m\n\u001b[0;32m   2690\u001b[0m     \u001b[1;32mdef\u001b[0m \u001b[0m_getitem_column\u001b[0m\u001b[1;33m(\u001b[0m\u001b[0mself\u001b[0m\u001b[1;33m,\u001b[0m \u001b[0mkey\u001b[0m\u001b[1;33m)\u001b[0m\u001b[1;33m:\u001b[0m\u001b[1;33m\u001b[0m\u001b[1;33m\u001b[0m\u001b[0m\n",
      "\u001b[1;32mC:\\Users\\swadhin\\Anaconda3\\lib\\site-packages\\pandas\\core\\frame.py\u001b[0m in \u001b[0;36m_getitem_column\u001b[1;34m(self, key)\u001b[0m\n\u001b[0;32m   2693\u001b[0m         \u001b[1;31m# get column\u001b[0m\u001b[1;33m\u001b[0m\u001b[1;33m\u001b[0m\u001b[1;33m\u001b[0m\u001b[0m\n\u001b[0;32m   2694\u001b[0m         \u001b[1;32mif\u001b[0m \u001b[0mself\u001b[0m\u001b[1;33m.\u001b[0m\u001b[0mcolumns\u001b[0m\u001b[1;33m.\u001b[0m\u001b[0mis_unique\u001b[0m\u001b[1;33m:\u001b[0m\u001b[1;33m\u001b[0m\u001b[1;33m\u001b[0m\u001b[0m\n\u001b[1;32m-> 2695\u001b[1;33m             \u001b[1;32mreturn\u001b[0m \u001b[0mself\u001b[0m\u001b[1;33m.\u001b[0m\u001b[0m_get_item_cache\u001b[0m\u001b[1;33m(\u001b[0m\u001b[0mkey\u001b[0m\u001b[1;33m)\u001b[0m\u001b[1;33m\u001b[0m\u001b[1;33m\u001b[0m\u001b[0m\n\u001b[0m\u001b[0;32m   2696\u001b[0m \u001b[1;33m\u001b[0m\u001b[0m\n\u001b[0;32m   2697\u001b[0m         \u001b[1;31m# duplicate columns & possible reduce dimensionality\u001b[0m\u001b[1;33m\u001b[0m\u001b[1;33m\u001b[0m\u001b[1;33m\u001b[0m\u001b[0m\n",
      "\u001b[1;32mC:\\Users\\swadhin\\Anaconda3\\lib\\site-packages\\pandas\\core\\generic.py\u001b[0m in \u001b[0;36m_get_item_cache\u001b[1;34m(self, item)\u001b[0m\n\u001b[0;32m   2487\u001b[0m         \u001b[0mres\u001b[0m \u001b[1;33m=\u001b[0m \u001b[0mcache\u001b[0m\u001b[1;33m.\u001b[0m\u001b[0mget\u001b[0m\u001b[1;33m(\u001b[0m\u001b[0mitem\u001b[0m\u001b[1;33m)\u001b[0m\u001b[1;33m\u001b[0m\u001b[1;33m\u001b[0m\u001b[0m\n\u001b[0;32m   2488\u001b[0m         \u001b[1;32mif\u001b[0m \u001b[0mres\u001b[0m \u001b[1;32mis\u001b[0m \u001b[1;32mNone\u001b[0m\u001b[1;33m:\u001b[0m\u001b[1;33m\u001b[0m\u001b[1;33m\u001b[0m\u001b[0m\n\u001b[1;32m-> 2489\u001b[1;33m             \u001b[0mvalues\u001b[0m \u001b[1;33m=\u001b[0m \u001b[0mself\u001b[0m\u001b[1;33m.\u001b[0m\u001b[0m_data\u001b[0m\u001b[1;33m.\u001b[0m\u001b[0mget\u001b[0m\u001b[1;33m(\u001b[0m\u001b[0mitem\u001b[0m\u001b[1;33m)\u001b[0m\u001b[1;33m\u001b[0m\u001b[1;33m\u001b[0m\u001b[0m\n\u001b[0m\u001b[0;32m   2490\u001b[0m             \u001b[0mres\u001b[0m \u001b[1;33m=\u001b[0m \u001b[0mself\u001b[0m\u001b[1;33m.\u001b[0m\u001b[0m_box_item_values\u001b[0m\u001b[1;33m(\u001b[0m\u001b[0mitem\u001b[0m\u001b[1;33m,\u001b[0m \u001b[0mvalues\u001b[0m\u001b[1;33m)\u001b[0m\u001b[1;33m\u001b[0m\u001b[1;33m\u001b[0m\u001b[0m\n\u001b[0;32m   2491\u001b[0m             \u001b[0mcache\u001b[0m\u001b[1;33m[\u001b[0m\u001b[0mitem\u001b[0m\u001b[1;33m]\u001b[0m \u001b[1;33m=\u001b[0m \u001b[0mres\u001b[0m\u001b[1;33m\u001b[0m\u001b[1;33m\u001b[0m\u001b[0m\n",
      "\u001b[1;32mC:\\Users\\swadhin\\Anaconda3\\lib\\site-packages\\pandas\\core\\internals.py\u001b[0m in \u001b[0;36mget\u001b[1;34m(self, item, fastpath)\u001b[0m\n\u001b[0;32m   4113\u001b[0m \u001b[1;33m\u001b[0m\u001b[0m\n\u001b[0;32m   4114\u001b[0m             \u001b[1;32mif\u001b[0m \u001b[1;32mnot\u001b[0m \u001b[0misna\u001b[0m\u001b[1;33m(\u001b[0m\u001b[0mitem\u001b[0m\u001b[1;33m)\u001b[0m\u001b[1;33m:\u001b[0m\u001b[1;33m\u001b[0m\u001b[1;33m\u001b[0m\u001b[0m\n\u001b[1;32m-> 4115\u001b[1;33m                 \u001b[0mloc\u001b[0m \u001b[1;33m=\u001b[0m \u001b[0mself\u001b[0m\u001b[1;33m.\u001b[0m\u001b[0mitems\u001b[0m\u001b[1;33m.\u001b[0m\u001b[0mget_loc\u001b[0m\u001b[1;33m(\u001b[0m\u001b[0mitem\u001b[0m\u001b[1;33m)\u001b[0m\u001b[1;33m\u001b[0m\u001b[1;33m\u001b[0m\u001b[0m\n\u001b[0m\u001b[0;32m   4116\u001b[0m             \u001b[1;32melse\u001b[0m\u001b[1;33m:\u001b[0m\u001b[1;33m\u001b[0m\u001b[1;33m\u001b[0m\u001b[0m\n\u001b[0;32m   4117\u001b[0m                 \u001b[0mindexer\u001b[0m \u001b[1;33m=\u001b[0m \u001b[0mnp\u001b[0m\u001b[1;33m.\u001b[0m\u001b[0marange\u001b[0m\u001b[1;33m(\u001b[0m\u001b[0mlen\u001b[0m\u001b[1;33m(\u001b[0m\u001b[0mself\u001b[0m\u001b[1;33m.\u001b[0m\u001b[0mitems\u001b[0m\u001b[1;33m)\u001b[0m\u001b[1;33m)\u001b[0m\u001b[1;33m[\u001b[0m\u001b[0misna\u001b[0m\u001b[1;33m(\u001b[0m\u001b[0mself\u001b[0m\u001b[1;33m.\u001b[0m\u001b[0mitems\u001b[0m\u001b[1;33m)\u001b[0m\u001b[1;33m]\u001b[0m\u001b[1;33m\u001b[0m\u001b[1;33m\u001b[0m\u001b[0m\n",
      "\u001b[1;32mC:\\Users\\swadhin\\Anaconda3\\lib\\site-packages\\pandas\\core\\indexes\\base.py\u001b[0m in \u001b[0;36mget_loc\u001b[1;34m(self, key, method, tolerance)\u001b[0m\n\u001b[0;32m   3078\u001b[0m                 \u001b[1;32mreturn\u001b[0m \u001b[0mself\u001b[0m\u001b[1;33m.\u001b[0m\u001b[0m_engine\u001b[0m\u001b[1;33m.\u001b[0m\u001b[0mget_loc\u001b[0m\u001b[1;33m(\u001b[0m\u001b[0mkey\u001b[0m\u001b[1;33m)\u001b[0m\u001b[1;33m\u001b[0m\u001b[1;33m\u001b[0m\u001b[0m\n\u001b[0;32m   3079\u001b[0m             \u001b[1;32mexcept\u001b[0m \u001b[0mKeyError\u001b[0m\u001b[1;33m:\u001b[0m\u001b[1;33m\u001b[0m\u001b[1;33m\u001b[0m\u001b[0m\n\u001b[1;32m-> 3080\u001b[1;33m                 \u001b[1;32mreturn\u001b[0m \u001b[0mself\u001b[0m\u001b[1;33m.\u001b[0m\u001b[0m_engine\u001b[0m\u001b[1;33m.\u001b[0m\u001b[0mget_loc\u001b[0m\u001b[1;33m(\u001b[0m\u001b[0mself\u001b[0m\u001b[1;33m.\u001b[0m\u001b[0m_maybe_cast_indexer\u001b[0m\u001b[1;33m(\u001b[0m\u001b[0mkey\u001b[0m\u001b[1;33m)\u001b[0m\u001b[1;33m)\u001b[0m\u001b[1;33m\u001b[0m\u001b[1;33m\u001b[0m\u001b[0m\n\u001b[0m\u001b[0;32m   3081\u001b[0m \u001b[1;33m\u001b[0m\u001b[0m\n\u001b[0;32m   3082\u001b[0m         \u001b[0mindexer\u001b[0m \u001b[1;33m=\u001b[0m \u001b[0mself\u001b[0m\u001b[1;33m.\u001b[0m\u001b[0mget_indexer\u001b[0m\u001b[1;33m(\u001b[0m\u001b[1;33m[\u001b[0m\u001b[0mkey\u001b[0m\u001b[1;33m]\u001b[0m\u001b[1;33m,\u001b[0m \u001b[0mmethod\u001b[0m\u001b[1;33m=\u001b[0m\u001b[0mmethod\u001b[0m\u001b[1;33m,\u001b[0m \u001b[0mtolerance\u001b[0m\u001b[1;33m=\u001b[0m\u001b[0mtolerance\u001b[0m\u001b[1;33m)\u001b[0m\u001b[1;33m\u001b[0m\u001b[1;33m\u001b[0m\u001b[0m\n",
      "\u001b[1;32mpandas\\_libs\\index.pyx\u001b[0m in \u001b[0;36mpandas._libs.index.IndexEngine.get_loc\u001b[1;34m()\u001b[0m\n",
      "\u001b[1;32mpandas\\_libs\\index.pyx\u001b[0m in \u001b[0;36mpandas._libs.index.IndexEngine.get_loc\u001b[1;34m()\u001b[0m\n",
      "\u001b[1;32mpandas\\_libs\\hashtable_class_helper.pxi\u001b[0m in \u001b[0;36mpandas._libs.hashtable.PyObjectHashTable.get_item\u001b[1;34m()\u001b[0m\n",
      "\u001b[1;32mpandas\\_libs\\hashtable_class_helper.pxi\u001b[0m in \u001b[0;36mpandas._libs.hashtable.PyObjectHashTable.get_item\u001b[1;34m()\u001b[0m\n",
      "\u001b[1;31mKeyError\u001b[0m: 'DistArea_ID'"
     ]
    }
   ],
   "source": [
    "for col in cols:\n",
    "    freq=ld[col].value_counts()\n",
    "    freq=freq.index[:-1]\n",
    "    \n",
    "    for f in freq:\n",
    "        name=col+\"_\"+str(f)\n",
    "        ld[name]=(ld[col]==f).astype(int)\n",
    "        \n",
    "    del ld[col]"
   ]
  },
  {
   "cell_type": "code",
   "execution_count": 33,
   "metadata": {},
   "outputs": [
    {
     "data": {
      "text/plain": [
       "1983    1463\n",
       "1985     932\n",
       "1997     930\n",
       "1995     930\n",
       "2002     930\n",
       "2000     929\n",
       "2007     928\n",
       "2005     926\n",
       "1996     555\n",
       "Name: Active_Since, dtype: int64"
      ]
     },
     "execution_count": 33,
     "metadata": {},
     "output_type": "execute_result"
    }
   ],
   "source": [
    "ld[\"Active_Since\"].value_counts()"
   ]
  },
  {
   "cell_type": "code",
   "execution_count": 39,
   "metadata": {},
   "outputs": [
    {
     "data": {
      "text/plain": [
       "(8523, 46)"
      ]
     },
     "execution_count": 39,
     "metadata": {},
     "output_type": "execute_result"
    }
   ],
   "source": [
    "ld.shape"
   ]
  },
  {
   "cell_type": "code",
   "execution_count": 41,
   "metadata": {},
   "outputs": [
    {
     "data": {
      "text/plain": [
       "Index(['data'], dtype='object')"
      ]
     },
     "execution_count": 41,
     "metadata": {},
     "output_type": "execute_result"
    }
   ],
   "source": [
    "ld.select_dtypes([\"object\"]).columns"
   ]
  },
  {
   "cell_type": "code",
   "execution_count": 42,
   "metadata": {},
   "outputs": [
    {
     "data": {
      "text/plain": [
       "1      NaN\n",
       "4      NaN\n",
       "12     NaN\n",
       "36     NaN\n",
       "43     NaN\n",
       "57     NaN\n",
       "60     NaN\n",
       "65     NaN\n",
       "71     NaN\n",
       "73     NaN\n",
       "82     NaN\n",
       "83     NaN\n",
       "105    NaN\n",
       "111    NaN\n",
       "112    NaN\n",
       "118    NaN\n",
       "120    NaN\n",
       "121    NaN\n",
       "125    NaN\n",
       "126    NaN\n",
       "127    NaN\n",
       "130    NaN\n",
       "133    NaN\n",
       "141    NaN\n",
       "154    NaN\n",
       "158    NaN\n",
       "163    NaN\n",
       "164    NaN\n",
       "167    NaN\n",
       "175    NaN\n",
       "        ..\n",
       "1541   NaN\n",
       "1547   NaN\n",
       "1548   NaN\n",
       "1550   NaN\n",
       "1553   NaN\n",
       "1555   NaN\n",
       "1561   NaN\n",
       "1565   NaN\n",
       "1583   NaN\n",
       "1586   NaN\n",
       "1587   NaN\n",
       "1589   NaN\n",
       "1593   NaN\n",
       "1595   NaN\n",
       "1610   NaN\n",
       "1615   NaN\n",
       "1617   NaN\n",
       "1630   NaN\n",
       "1643   NaN\n",
       "1644   NaN\n",
       "1646   NaN\n",
       "1648   NaN\n",
       "1649   NaN\n",
       "1650   NaN\n",
       "1653   NaN\n",
       "1658   NaN\n",
       "1665   NaN\n",
       "1684   NaN\n",
       "1691   NaN\n",
       "1700   NaN\n",
       "Name: Counterfeit_Weight, Length: 1463, dtype: float64"
      ]
     },
     "execution_count": 42,
     "metadata": {},
     "output_type": "execute_result"
    }
   ],
   "source": [
    "ld.loc[ld[\"Counterfeit_Weight\"].isnull(),\"Counterfeit_Weight\"]"
   ]
  },
  {
   "cell_type": "code",
   "execution_count": 43,
   "metadata": {},
   "outputs": [
    {
     "data": {
      "text/plain": [
       "(6818,)"
      ]
     },
     "execution_count": 43,
     "metadata": {},
     "output_type": "execute_result"
    }
   ],
   "source": [
    "ld.loc[ld[\"data\"]==\"train\",\"Counterfeit_Weight\"].shape"
   ]
  },
  {
   "cell_type": "code",
   "execution_count": 89,
   "metadata": {},
   "outputs": [
    {
     "data": {
      "text/plain": [
       "(8523, 46)"
      ]
     },
     "execution_count": 89,
     "metadata": {},
     "output_type": "execute_result"
    }
   ],
   "source": [
    "ld.shape"
   ]
  },
  {
   "cell_type": "code",
   "execution_count": 44,
   "metadata": {},
   "outputs": [],
   "source": [
    "ld.loc[ld[\"Counterfeit_Weight\"].isnull(),\"Counterfeit_Weight\"]=ld.loc[ld[\"data\"]==\"train\",\"Counterfeit_Weight\"].mean()"
   ]
  },
  {
   "cell_type": "code",
   "execution_count": 46,
   "metadata": {},
   "outputs": [
    {
     "data": {
      "text/plain": [
       "Counterfeit_Weight                     0\n",
       "Medicine_MRP                           0\n",
       "Availability_rating                    0\n",
       "Counterfeit_Sales                   1705\n",
       "data                                   0\n",
       "DistArea_ID_Area027                    0\n",
       "DistArea_ID_Area013                    0\n",
       "DistArea_ID_Area046                    0\n",
       "DistArea_ID_Area035                    0\n",
       "DistArea_ID_Area049                    0\n",
       "DistArea_ID_Area045                    0\n",
       "DistArea_ID_Area018                    0\n",
       "DistArea_ID_Area017                    0\n",
       "DistArea_ID_Area010                    0\n",
       "Medicine_Type_Antibiotics              0\n",
       "Medicine_Type_Hreplacements            0\n",
       "Medicine_Type_Antiseptics              0\n",
       "Medicine_Type_OralContraceptives       0\n",
       "Medicine_Type_Antipyretics             0\n",
       "Medicine_Type_Cardiac                  0\n",
       "Medicine_Type_Mstablizers              0\n",
       "Medicine_Type_Tranquilizers            0\n",
       "Medicine_Type_Analgesics               0\n",
       "Medicine_Type_Antimalarial             0\n",
       "Medicine_Type_Antacids                 0\n",
       "Medicine_Type_Statins                  0\n",
       "Medicine_Type_MuscleRelaxants          0\n",
       "Medicine_Type_Antifungal               0\n",
       "Medicine_Type_Stimulants               0\n",
       "SidEffect_Level_mild                   0\n",
       "Area_Type_DownTown                     0\n",
       "Area_Type_MidTownResidential           0\n",
       "Area_Type_CityLimits                   0\n",
       "Area_City_Type_Tier 3                  0\n",
       "Area_City_Type_Tier 2                  0\n",
       "Area_dist_level_Medium                 0\n",
       "Area_dist_level_Unknown                0\n",
       "Area_dist_level_Small                  0\n",
       "Active_Since_1983                      0\n",
       "Active_Since_1985                      0\n",
       "Active_Since_1997                      0\n",
       "Active_Since_1995                      0\n",
       "Active_Since_2002                      0\n",
       "Active_Since_2000                      0\n",
       "Active_Since_2007                      0\n",
       "Active_Since_2005                      0\n",
       "dtype: int64"
      ]
     },
     "execution_count": 46,
     "metadata": {},
     "output_type": "execute_result"
    }
   ],
   "source": [
    "ld.isnull().sum()"
   ]
  },
  {
   "cell_type": "code",
   "execution_count": 52,
   "metadata": {},
   "outputs": [],
   "source": [
    "ld_train=ld.loc[ld[\"data\"]==\"train\",]\n",
    "ld_test=ld.loc[ld[\"data\"]==\"test\",]\n",
    "del ld_train[\"data\"]"
   ]
  },
  {
   "cell_type": "code",
   "execution_count": 57,
   "metadata": {},
   "outputs": [
    {
     "data": {
      "text/plain": [
       "Index(['Counterfeit_Weight', 'Medicine_MRP', 'Availability_rating',\n",
       "       'DistArea_ID_Area027', 'DistArea_ID_Area013', 'DistArea_ID_Area046',\n",
       "       'DistArea_ID_Area035', 'DistArea_ID_Area049', 'DistArea_ID_Area045',\n",
       "       'DistArea_ID_Area018', 'DistArea_ID_Area017', 'DistArea_ID_Area010',\n",
       "       'Medicine_Type_Antibiotics', 'Medicine_Type_Hreplacements',\n",
       "       'Medicine_Type_Antiseptics', 'Medicine_Type_OralContraceptives',\n",
       "       'Medicine_Type_Antipyretics', 'Medicine_Type_Cardiac',\n",
       "       'Medicine_Type_Mstablizers', 'Medicine_Type_Tranquilizers',\n",
       "       'Medicine_Type_Analgesics', 'Medicine_Type_Antimalarial',\n",
       "       'Medicine_Type_Antacids', 'Medicine_Type_Statins',\n",
       "       'Medicine_Type_MuscleRelaxants', 'Medicine_Type_Antifungal',\n",
       "       'Medicine_Type_Stimulants', 'SidEffect_Level_mild',\n",
       "       'Area_Type_DownTown', 'Area_Type_MidTownResidential',\n",
       "       'Area_Type_CityLimits', 'Area_City_Type_Tier 3',\n",
       "       'Area_City_Type_Tier 2', 'Area_dist_level_Medium',\n",
       "       'Area_dist_level_Unknown', 'Area_dist_level_Small', 'Active_Since_1983',\n",
       "       'Active_Since_1985', 'Active_Since_1997', 'Active_Since_1995',\n",
       "       'Active_Since_2002', 'Active_Since_2000', 'Active_Since_2007',\n",
       "       'Active_Since_2005'],\n",
       "      dtype='object')"
      ]
     },
     "execution_count": 57,
     "metadata": {},
     "output_type": "execute_result"
    }
   ],
   "source": [
    "ld_test.columns"
   ]
  },
  {
   "cell_type": "code",
   "execution_count": 56,
   "metadata": {},
   "outputs": [
    {
     "name": "stderr",
     "output_type": "stream",
     "text": [
      "C:\\Users\\swadhin\\Anaconda3\\lib\\site-packages\\pandas\\core\\frame.py:3697: SettingWithCopyWarning: \n",
      "A value is trying to be set on a copy of a slice from a DataFrame\n",
      "\n",
      "See the caveats in the documentation: http://pandas.pydata.org/pandas-docs/stable/indexing.html#indexing-view-versus-copy\n",
      "  errors=errors)\n"
     ]
    }
   ],
   "source": [
    "ld_test.drop([\"data\",\"Counterfeit_Sales\"],axis=1,inplace=True)"
   ]
  },
  {
   "cell_type": "code",
   "execution_count": 58,
   "metadata": {},
   "outputs": [],
   "source": [
    "ld_train_train,ld_train_val=train_test_split(ld_train,test_size=0.2,random_state=2)"
   ]
  },
  {
   "cell_type": "code",
   "execution_count": 60,
   "metadata": {},
   "outputs": [],
   "source": [
    "x_ld_train_train=ld_train_train.drop([\"Counterfeit_Sales\"],axis=1)\n",
    "y_ld_train_train=ld_train_train[\"Counterfeit_Sales\"]\n",
    "x_ld_train_val=ld_train_val.drop([\"Counterfeit_Sales\"],axis=1)"
   ]
  },
  {
   "cell_type": "code",
   "execution_count": 61,
   "metadata": {},
   "outputs": [
    {
     "data": {
      "text/plain": [
       "LinearRegression(copy_X=True, fit_intercept=True, n_jobs=None,\n",
       "         normalize=False)"
      ]
     },
     "execution_count": 61,
     "metadata": {},
     "output_type": "execute_result"
    }
   ],
   "source": [
    "lr=LinearRegression()\n",
    "lr.fit(x_ld_train_train,y_ld_train_train)"
   ]
  },
  {
   "cell_type": "code",
   "execution_count": 63,
   "metadata": {},
   "outputs": [],
   "source": [
    "p=lr.predict(x_ld_train_val)"
   ]
  },
  {
   "cell_type": "code",
   "execution_count": 64,
   "metadata": {},
   "outputs": [
    {
     "data": {
      "text/plain": [
       "830.050146841315"
      ]
     },
     "execution_count": 64,
     "metadata": {},
     "output_type": "execute_result"
    }
   ],
   "source": [
    "mean_absolute_error(ld_train_val[\"Counterfeit_Sales\"],p)"
   ]
  },
  {
   "cell_type": "code",
   "execution_count": 65,
   "metadata": {},
   "outputs": [],
   "source": [
    "lambdas=np.linspace(1,100,100)\n",
    "params={\"alpha\":lambdas}\n",
    "from sklearn.model_selection import GridSearchCV\n",
    "from sklearn.model_selection import RandomizedSearchCV"
   ]
  },
  {
   "cell_type": "code",
   "execution_count": 66,
   "metadata": {},
   "outputs": [],
   "source": [
    "from sklearn.linear_model import Ridge,Lasso"
   ]
  },
  {
   "cell_type": "code",
   "execution_count": 67,
   "metadata": {},
   "outputs": [],
   "source": [
    "l=Ridge()\n",
    "l_gs=GridSearchCV(l,param_grid=params,cv=5,scoring=\"neg_mean_absolute_error\")"
   ]
  },
  {
   "cell_type": "code",
   "execution_count": 68,
   "metadata": {},
   "outputs": [
    {
     "data": {
      "text/plain": [
       "825.8856238200808"
      ]
     },
     "execution_count": 68,
     "metadata": {},
     "output_type": "execute_result"
    }
   ],
   "source": [
    "l_gs.fit(x_ld_train_train,y_ld_train_train)\n",
    "p_l=l_gs.predict(x_ld_train_val)\n",
    "mean_absolute_error(ld_train_val[\"Counterfeit_Sales\"],p_l)"
   ]
  },
  {
   "cell_type": "code",
   "execution_count": 71,
   "metadata": {},
   "outputs": [
    {
     "name": "stderr",
     "output_type": "stream",
     "text": [
      "C:\\Users\\swadhin\\Anaconda3\\lib\\site-packages\\sklearn\\utils\\deprecation.py:125: FutureWarning: You are accessing a training score ('split0_train_score'), which will not be available by default any more in 0.21. If you need training scores, please set return_train_score=True\n",
      "  warnings.warn(*warn_args, **warn_kwargs)\n",
      "C:\\Users\\swadhin\\Anaconda3\\lib\\site-packages\\sklearn\\utils\\deprecation.py:125: FutureWarning: You are accessing a training score ('split1_train_score'), which will not be available by default any more in 0.21. If you need training scores, please set return_train_score=True\n",
      "  warnings.warn(*warn_args, **warn_kwargs)\n",
      "C:\\Users\\swadhin\\Anaconda3\\lib\\site-packages\\sklearn\\utils\\deprecation.py:125: FutureWarning: You are accessing a training score ('split2_train_score'), which will not be available by default any more in 0.21. If you need training scores, please set return_train_score=True\n",
      "  warnings.warn(*warn_args, **warn_kwargs)\n",
      "C:\\Users\\swadhin\\Anaconda3\\lib\\site-packages\\sklearn\\utils\\deprecation.py:125: FutureWarning: You are accessing a training score ('split3_train_score'), which will not be available by default any more in 0.21. If you need training scores, please set return_train_score=True\n",
      "  warnings.warn(*warn_args, **warn_kwargs)\n",
      "C:\\Users\\swadhin\\Anaconda3\\lib\\site-packages\\sklearn\\utils\\deprecation.py:125: FutureWarning: You are accessing a training score ('split4_train_score'), which will not be available by default any more in 0.21. If you need training scores, please set return_train_score=True\n",
      "  warnings.warn(*warn_args, **warn_kwargs)\n",
      "C:\\Users\\swadhin\\Anaconda3\\lib\\site-packages\\sklearn\\utils\\deprecation.py:125: FutureWarning: You are accessing a training score ('mean_train_score'), which will not be available by default any more in 0.21. If you need training scores, please set return_train_score=True\n",
      "  warnings.warn(*warn_args, **warn_kwargs)\n",
      "C:\\Users\\swadhin\\Anaconda3\\lib\\site-packages\\sklearn\\utils\\deprecation.py:125: FutureWarning: You are accessing a training score ('std_train_score'), which will not be available by default any more in 0.21. If you need training scores, please set return_train_score=True\n",
      "  warnings.warn(*warn_args, **warn_kwargs)\n"
     ]
    },
    {
     "data": {
      "text/plain": [
       "{'mean_fit_time': array([0.14191222, 0.00939269, 0.02138758, 0.01219468, 0.0117928 ,\n",
       "        0.01079531, 0.01139379, 0.01079564, 0.01039491, 0.01059532,\n",
       "        0.01239543, 0.01099386, 0.0090095 , 0.00819645, 0.00999613,\n",
       "        0.01818981, 0.0111949 , 0.01219354, 0.01159339, 0.01279578,\n",
       "        0.01359344, 0.01019683, 0.00919566, 0.00819654, 0.00839648,\n",
       "        0.00799651, 0.00859718, 0.01559229, 0.01059566, 0.0089922 ,\n",
       "        0.00899353, 0.00939784, 0.00839319, 0.00877857, 0.00799327,\n",
       "        0.00799785, 0.00799799, 0.0085917 , 0.0088016 , 0.00879312,\n",
       "        0.00880351, 0.00899467, 0.01019464, 0.01299181, 0.01199436,\n",
       "        0.00879636, 0.00799742, 0.0107935 , 0.0113946 , 0.00839639,\n",
       "        0.00839653, 0.01159387, 0.01299348, 0.0081975 , 0.00799632,\n",
       "        0.00819831, 0.01179428, 0.01379261, 0.00819712, 0.01099372,\n",
       "        0.00959487, 0.0089963 , 0.00879683, 0.0099937 , 0.01239195,\n",
       "        0.0091959 , 0.00979528, 0.0097971 , 0.00959353, 0.00959435,\n",
       "        0.01059465, 0.01239414, 0.01079392, 0.01359324, 0.00899639,\n",
       "        0.00739751, 0.00859647, 0.00939531, 0.00819602, 0.00979609,\n",
       "        0.01219435, 0.00879631, 0.00840092, 0.00878491, 0.01258559,\n",
       "        0.01098256, 0.00959172, 0.01039538, 0.00859628, 0.00819654,\n",
       "        0.00959997, 0.01079478, 0.00820007, 0.00879636, 0.00919242,\n",
       "        0.00859537, 0.00959482, 0.00799875, 0.01219401, 0.01239448]),\n",
       " 'std_fit_time': array([2.55408803e-01, 7.91219352e-04, 1.19360061e-02, 1.83088606e-03,\n",
       "        1.59944905e-03, 2.39815018e-03, 2.86862455e-03, 1.83206613e-03,\n",
       "        8.01457841e-04, 1.85297567e-03, 1.19736232e-03, 6.31505094e-04,\n",
       "        1.89667803e-03, 3.98588594e-04, 2.52845142e-03, 1.26797344e-02,\n",
       "        1.59911017e-03, 2.92308187e-03, 1.73987162e-03, 2.70752845e-03,\n",
       "        3.44049023e-03, 1.16591010e-03, 1.59882373e-03, 1.16651506e-03,\n",
       "        1.01843974e-03, 6.31656402e-04, 7.99352899e-04, 1.27471185e-02,\n",
       "        1.62424983e-03, 1.09133723e-03, 6.26741102e-04, 4.91214131e-04,\n",
       "        1.02121416e-03, 7.78237145e-04, 8.89417848e-04, 6.38215419e-04,\n",
       "        1.08735602e-06, 7.97080149e-04, 4.00804383e-04, 7.50840711e-04,\n",
       "        7.55844499e-04, 9.41146583e-06, 3.42717957e-03, 3.28439961e-03,\n",
       "        1.26474430e-03, 1.46817315e-03, 6.31584516e-04, 1.93767743e-03,\n",
       "        3.00381515e-03, 1.01866479e-03, 1.01832728e-03, 2.24363392e-03,\n",
       "        2.82582836e-03, 1.16451211e-03, 6.32490780e-04, 4.00046978e-04,\n",
       "        3.24727661e-03, 2.63602358e-03, 7.47232802e-04, 6.32184061e-04,\n",
       "        4.90329853e-04, 6.30751469e-04, 4.07721998e-04, 1.67268650e-03,\n",
       "        1.62436746e-03, 1.93736747e-03, 4.16404777e-03, 9.77963496e-04,\n",
       "        4.90310376e-04, 1.01839306e-03, 1.85537613e-03, 3.49524555e-03,\n",
       "        1.71966988e-03, 4.89920987e-04, 1.26350016e-03, 4.89025592e-04,\n",
       "        4.89726675e-04, 1.01802849e-03, 3.99044491e-04, 9.78928260e-04,\n",
       "        1.71970360e-03, 1.71865624e-03, 4.94877514e-04, 1.15656434e-03,\n",
       "        3.66944444e-03, 2.39136680e-03, 1.01629592e-03, 1.01979662e-03,\n",
       "        1.35503188e-03, 9.79190212e-04, 1.01983492e-03, 4.22056454e-03,\n",
       "        1.17091563e-03, 3.99988409e-04, 3.91040091e-04, 1.19758607e-03,\n",
       "        4.88928779e-04, 1.26534841e-03, 4.39770241e-03, 4.12470672e-03]),\n",
       " 'mean_score_time': array([0.00240178, 0.00159693, 0.00199904, 0.00199847, 0.00160098,\n",
       "        0.00119743, 0.0025991 , 0.00159841, 0.00179892, 0.00179939,\n",
       "        0.00219812, 0.00159931, 0.00186772, 0.00099807, 0.00199828,\n",
       "        0.00139942, 0.00199866, 0.00139961, 0.00159912, 0.00159745,\n",
       "        0.00159869, 0.0017971 , 0.00139871, 0.00139785, 0.00139775,\n",
       "        0.00139837, 0.00139747, 0.00140243, 0.00179796, 0.00120192,\n",
       "        0.0010046 , 0.00120015, 0.00120072, 0.00159688, 0.00140185,\n",
       "        0.00119634, 0.00119686, 0.0011991 , 0.00139732, 0.00140052,\n",
       "        0.00100088, 0.00160003, 0.00159445, 0.00219941, 0.00219755,\n",
       "        0.00139771, 0.00139809, 0.00139966, 0.00179815, 0.00099797,\n",
       "        0.00139804, 0.00159917, 0.00219865, 0.00139747, 0.00120058,\n",
       "        0.00139627, 0.00279799, 0.00159888, 0.00119791, 0.00139961,\n",
       "        0.00159888, 0.00159817, 0.00140123, 0.00139952, 0.0013988 ,\n",
       "        0.00159812, 0.00099888, 0.00159888, 0.00100036, 0.00139956,\n",
       "        0.00100002, 0.00159912, 0.00179868, 0.00199819, 0.00119829,\n",
       "        0.00139775, 0.00159826, 0.00139847, 0.00139842, 0.00139747,\n",
       "        0.00179768, 0.0011991 , 0.00119743, 0.00100965, 0.00220218,\n",
       "        0.001401  , 0.00119958, 0.00159869, 0.0017982 , 0.00099826,\n",
       "        0.00139799, 0.00139451, 0.0013989 , 0.00139785, 0.00140209,\n",
       "        0.00159926, 0.00139852, 0.00159702, 0.00159826, 0.00159688]),\n",
       " 'std_score_time': array([1.35240683e-03, 4.90954118e-04, 7.77697870e-07, 1.40969710e-06,\n",
       "        7.99477656e-04, 4.00261627e-04, 1.19931778e-03, 4.90213516e-04,\n",
       "        7.46811884e-04, 4.00449918e-04, 3.97974548e-04, 4.89493956e-04,\n",
       "        2.44445229e-04, 1.18155591e-06, 6.32259417e-04, 4.88792618e-04,\n",
       "        6.30903585e-04, 4.89126964e-04, 4.89051531e-04, 4.85780915e-04,\n",
       "        4.89963872e-04, 4.00735678e-04, 4.90160526e-04, 4.89882757e-04,\n",
       "        4.89668176e-04, 4.89648831e-04, 4.90099128e-04, 4.94072225e-04,\n",
       "        4.00209924e-04, 3.98084565e-04, 8.83449420e-06, 3.98475396e-04,\n",
       "        4.07672915e-04, 4.90135935e-04, 4.87268840e-04, 4.00927036e-04,\n",
       "        4.00069445e-04, 3.99071356e-04, 4.90410904e-04, 4.87372514e-04,\n",
       "        9.22035885e-06, 4.85277342e-04, 8.02666216e-04, 3.99351960e-04,\n",
       "        7.48189463e-04, 4.90291576e-04, 4.89983256e-04, 4.89084288e-04,\n",
       "        4.00305377e-04, 2.37654415e-06, 4.89531775e-04, 4.88792153e-04,\n",
       "        3.98898363e-04, 4.90585646e-04, 3.99765457e-04, 4.89999047e-04,\n",
       "        1.83186795e-03, 4.91089063e-04, 3.99662810e-04, 4.89706831e-04,\n",
       "        4.89337889e-04, 4.90410347e-04, 4.87202691e-04, 4.89201624e-04,\n",
       "        4.89882177e-04, 4.89882618e-04, 1.69662923e-06, 4.88952212e-04,\n",
       "        8.58306885e-07, 4.90232463e-04, 1.32831462e-06, 4.90896094e-04,\n",
       "        7.47767776e-04, 6.31807003e-04, 4.00902865e-04, 4.89862952e-04,\n",
       "        4.89317495e-04, 4.89473368e-04, 4.90876621e-04, 4.88055273e-04,\n",
       "        7.47501007e-04, 3.99788492e-04, 4.00138878e-04, 9.96509804e-06,\n",
       "        7.41171950e-04, 4.86977413e-04, 3.98116983e-04, 4.89475923e-04,\n",
       "        7.48850727e-04, 1.08735602e-06, 4.89181535e-04, 4.93130041e-04,\n",
       "        4.89323930e-04, 4.89590123e-04, 4.85904771e-04, 4.88778868e-04,\n",
       "        4.89727928e-04, 4.91225425e-04, 7.99668746e-04, 7.99042208e-04]),\n",
       " 'param_alpha': masked_array(data=[1.0, 2.0, 3.0, 4.0, 5.0, 6.0, 7.0, 8.0, 9.0, 10.0,\n",
       "                    11.0, 12.0, 13.0, 14.0, 15.0, 16.0, 17.0, 18.0, 19.0,\n",
       "                    20.0, 21.0, 22.0, 23.0, 24.0, 25.0, 26.0, 27.0, 28.0,\n",
       "                    29.0, 30.0, 31.0, 32.0, 33.0, 34.0, 35.0, 36.0, 37.0,\n",
       "                    38.0, 39.0, 40.0, 41.0, 42.0, 43.0, 44.0, 45.0, 46.0,\n",
       "                    47.0, 48.0, 49.0, 50.0, 51.0, 52.0, 53.0, 54.0, 55.0,\n",
       "                    56.0, 57.0, 58.0, 59.0, 60.0, 61.0, 62.0, 63.0, 64.0,\n",
       "                    65.0, 66.0, 67.0, 68.0, 69.0, 70.0, 71.0, 72.0, 73.0,\n",
       "                    74.0, 75.0, 76.0, 77.0, 78.0, 79.0, 80.0, 81.0, 82.0,\n",
       "                    83.0, 84.0, 85.0, 86.0, 87.0, 88.0, 89.0, 90.0, 91.0,\n",
       "                    92.0, 93.0, 94.0, 95.0, 96.0, 97.0, 98.0, 99.0, 100.0],\n",
       "              mask=[False, False, False, False, False, False, False, False,\n",
       "                    False, False, False, False, False, False, False, False,\n",
       "                    False, False, False, False, False, False, False, False,\n",
       "                    False, False, False, False, False, False, False, False,\n",
       "                    False, False, False, False, False, False, False, False,\n",
       "                    False, False, False, False, False, False, False, False,\n",
       "                    False, False, False, False, False, False, False, False,\n",
       "                    False, False, False, False, False, False, False, False,\n",
       "                    False, False, False, False, False, False, False, False,\n",
       "                    False, False, False, False, False, False, False, False,\n",
       "                    False, False, False, False, False, False, False, False,\n",
       "                    False, False, False, False, False, False, False, False,\n",
       "                    False, False, False, False],\n",
       "        fill_value='?',\n",
       "             dtype=object),\n",
       " 'params': [{'alpha': 1.0},\n",
       "  {'alpha': 2.0},\n",
       "  {'alpha': 3.0},\n",
       "  {'alpha': 4.0},\n",
       "  {'alpha': 5.0},\n",
       "  {'alpha': 6.0},\n",
       "  {'alpha': 7.0},\n",
       "  {'alpha': 8.0},\n",
       "  {'alpha': 9.0},\n",
       "  {'alpha': 10.0},\n",
       "  {'alpha': 11.0},\n",
       "  {'alpha': 12.0},\n",
       "  {'alpha': 13.0},\n",
       "  {'alpha': 14.0},\n",
       "  {'alpha': 15.0},\n",
       "  {'alpha': 16.0},\n",
       "  {'alpha': 17.0},\n",
       "  {'alpha': 18.0},\n",
       "  {'alpha': 19.0},\n",
       "  {'alpha': 20.0},\n",
       "  {'alpha': 21.0},\n",
       "  {'alpha': 22.0},\n",
       "  {'alpha': 23.0},\n",
       "  {'alpha': 24.0},\n",
       "  {'alpha': 25.0},\n",
       "  {'alpha': 26.0},\n",
       "  {'alpha': 27.0},\n",
       "  {'alpha': 28.0},\n",
       "  {'alpha': 29.0},\n",
       "  {'alpha': 30.0},\n",
       "  {'alpha': 31.0},\n",
       "  {'alpha': 32.0},\n",
       "  {'alpha': 33.0},\n",
       "  {'alpha': 34.0},\n",
       "  {'alpha': 35.0},\n",
       "  {'alpha': 36.0},\n",
       "  {'alpha': 37.0},\n",
       "  {'alpha': 38.0},\n",
       "  {'alpha': 39.0},\n",
       "  {'alpha': 40.0},\n",
       "  {'alpha': 41.0},\n",
       "  {'alpha': 42.0},\n",
       "  {'alpha': 43.0},\n",
       "  {'alpha': 44.0},\n",
       "  {'alpha': 45.0},\n",
       "  {'alpha': 46.0},\n",
       "  {'alpha': 47.0},\n",
       "  {'alpha': 48.0},\n",
       "  {'alpha': 49.0},\n",
       "  {'alpha': 50.0},\n",
       "  {'alpha': 51.0},\n",
       "  {'alpha': 52.0},\n",
       "  {'alpha': 53.0},\n",
       "  {'alpha': 54.0},\n",
       "  {'alpha': 55.0},\n",
       "  {'alpha': 56.0},\n",
       "  {'alpha': 57.0},\n",
       "  {'alpha': 58.0},\n",
       "  {'alpha': 59.0},\n",
       "  {'alpha': 60.0},\n",
       "  {'alpha': 61.0},\n",
       "  {'alpha': 62.0},\n",
       "  {'alpha': 63.0},\n",
       "  {'alpha': 64.0},\n",
       "  {'alpha': 65.0},\n",
       "  {'alpha': 66.0},\n",
       "  {'alpha': 67.0},\n",
       "  {'alpha': 68.0},\n",
       "  {'alpha': 69.0},\n",
       "  {'alpha': 70.0},\n",
       "  {'alpha': 71.0},\n",
       "  {'alpha': 72.0},\n",
       "  {'alpha': 73.0},\n",
       "  {'alpha': 74.0},\n",
       "  {'alpha': 75.0},\n",
       "  {'alpha': 76.0},\n",
       "  {'alpha': 77.0},\n",
       "  {'alpha': 78.0},\n",
       "  {'alpha': 79.0},\n",
       "  {'alpha': 80.0},\n",
       "  {'alpha': 81.0},\n",
       "  {'alpha': 82.0},\n",
       "  {'alpha': 83.0},\n",
       "  {'alpha': 84.0},\n",
       "  {'alpha': 85.0},\n",
       "  {'alpha': 86.0},\n",
       "  {'alpha': 87.0},\n",
       "  {'alpha': 88.0},\n",
       "  {'alpha': 89.0},\n",
       "  {'alpha': 90.0},\n",
       "  {'alpha': 91.0},\n",
       "  {'alpha': 92.0},\n",
       "  {'alpha': 93.0},\n",
       "  {'alpha': 94.0},\n",
       "  {'alpha': 95.0},\n",
       "  {'alpha': 96.0},\n",
       "  {'alpha': 97.0},\n",
       "  {'alpha': 98.0},\n",
       "  {'alpha': 99.0},\n",
       "  {'alpha': 100.0}],\n",
       " 'split0_test_score': array([-852.16827106, -851.96865153, -851.81711212, -851.69169198,\n",
       "        -851.58647296, -851.49164678, -851.40540528, -851.32336548,\n",
       "        -851.24445965, -851.1679743 , -851.09603533, -851.02609475,\n",
       "        -850.95773867, -850.89135366, -850.82628394, -850.76496858,\n",
       "        -850.7060706 , -850.64787401, -850.59031442, -850.53333855,\n",
       "        -850.47690181, -850.42096655, -850.36550066, -850.31047652,\n",
       "        -850.25651363, -850.20502701, -850.15390369, -850.10312819,\n",
       "        -850.05268673, -850.00261289, -849.95304233, -849.90463058,\n",
       "        -849.8598355 , -849.81530691, -849.77103746, -849.72702036,\n",
       "        -849.68324935, -849.6397186 , -849.59642271, -849.55367463,\n",
       "        -849.51261951, -849.47536737, -849.43828841, -849.40138007,\n",
       "        -849.36641583, -849.33169533, -849.29960159, -849.26927915,\n",
       "        -849.23911119, -849.20909531, -849.17968283, -849.15123238,\n",
       "        -849.12438411, -849.10014396, -849.07602721, -849.05203209,\n",
       "        -849.02815689, -849.00439998, -848.98075978, -848.95723476,\n",
       "        -848.93382344, -848.91052439, -848.88821574, -848.86890465,\n",
       "        -848.84985757, -848.83089792, -848.81386563, -848.79776793,\n",
       "        -848.78174746, -848.76580352, -848.7508622 , -848.73827947,\n",
       "        -848.72576352, -848.71331369, -848.70092936, -848.68860987,\n",
       "        -848.67635463, -848.66416302, -848.65301793, -848.64222875,\n",
       "        -848.63149122, -848.62080496, -848.61016956, -848.59961637,\n",
       "        -848.58941123, -848.57925408, -848.57072468, -848.56325344,\n",
       "        -848.55750767, -848.55205601, -848.54664524, -848.54127501,\n",
       "        -848.5362302 , -848.53123177, -848.52627326, -848.52249273,\n",
       "        -848.51951929, -848.51658196, -848.51368042, -848.51081435]),\n",
       " 'split1_test_score': array([-847.72116971, -847.67053979, -847.6386224 , -847.61776011,\n",
       "        -847.60317813, -847.5931028 , -847.59262337, -847.59620271,\n",
       "        -847.60179525, -847.60903288, -847.61872402, -847.63207398,\n",
       "        -847.64990242, -847.6705066 , -847.69308493, -847.71867697,\n",
       "        -847.74618471, -847.77461068, -847.80342723, -847.83252014,\n",
       "        -847.8618561 , -847.89140614, -847.92114486, -847.95104993,\n",
       "        -847.98110154, -848.01128212, -848.04157593, -848.07196891,\n",
       "        -848.10244837, -848.13300287, -848.16362204, -848.19429646,\n",
       "        -848.22501757, -848.25577753, -848.28857807, -848.32409732,\n",
       "        -848.35962394, -848.39515261, -848.43067841, -848.46619681,\n",
       "        -848.50170359, -848.53719486, -848.572667  , -848.60811665,\n",
       "        -848.64354069, -848.68261625, -848.72196989, -848.76282589,\n",
       "        -848.80761787, -848.85234689, -848.89701095, -848.94160818,\n",
       "        -848.98613686, -849.03120795, -849.07639861, -849.12168784,\n",
       "        -849.16798807, -849.21653543, -849.26665146, -849.31684069,\n",
       "        -849.36693716, -849.41693995, -849.46684822, -849.51666119,\n",
       "        -849.56637811, -849.61599833, -849.66552121, -849.71494619,\n",
       "        -849.76477534, -849.81456126, -849.86424524, -849.91382691,\n",
       "        -849.96330592, -850.01268197, -850.06195476, -850.11112405,\n",
       "        -850.16018961, -850.20915125, -850.25942869, -850.31026818,\n",
       "        -850.36100226, -850.4116308 , -850.46215368, -850.51257081,\n",
       "        -850.56288212, -850.61322405, -850.66539622, -850.7184636 ,\n",
       "        -850.77371737, -850.82995523, -850.89196636, -850.95497111,\n",
       "        -851.017838  , -851.08056725, -851.14315909, -851.20561377,\n",
       "        -851.26793153, -851.33011264, -851.39215734, -851.45711123]),\n",
       " 'split2_test_score': array([-788.09030142, -787.83950667, -787.66356663, -787.52385206,\n",
       "        -787.40682693, -787.30519229, -787.21256917, -787.12638253,\n",
       "        -787.04497828, -786.96843374, -786.89642782, -786.82669073,\n",
       "        -786.75882216, -786.69252081, -786.62755538, -786.56374515,\n",
       "        -786.50094671, -786.43996438, -786.38081957, -786.32236756,\n",
       "        -786.26454335, -786.20729241, -786.15247069, -786.09940232,\n",
       "        -786.04808934, -785.99821484, -785.94871452, -785.89956731,\n",
       "        -785.85075464, -785.80241583, -785.75830101, -785.71446057,\n",
       "        -785.67088297, -785.62812058, -785.58823969, -785.54858668,\n",
       "        -785.50915365, -785.47098877, -785.43601261, -785.4028257 ,\n",
       "        -785.37015759, -785.33766578, -785.30534542, -785.27319199,\n",
       "        -785.24120125, -785.20943447, -785.17812709, -785.14697016,\n",
       "        -785.11682348, -785.08834658, -785.06265136, -785.03824045,\n",
       "        -785.0166213 , -784.99511306, -784.9737134 , -784.9551024 ,\n",
       "        -784.9410917 , -784.92768468, -784.91435443, -784.90109926,\n",
       "        -784.88791755, -784.87480774, -784.86176837, -784.848798  ,\n",
       "        -784.83589528, -784.82305891, -784.81028764, -784.79758027,\n",
       "        -784.78493564, -784.7732749 , -784.76790824, -784.76515749,\n",
       "        -784.76260128, -784.76206135, -784.76409394, -784.76629262,\n",
       "        -784.7685112 , -784.770749  , -784.77300539, -784.77527974,\n",
       "        -784.77757144, -784.78002984, -784.78255299, -784.78509166,\n",
       "        -784.78764536, -784.79021356, -784.79299705, -784.79917415,\n",
       "        -784.8053536 , -784.81153504, -784.8177181 , -784.82586574,\n",
       "        -784.83563594, -784.84539568, -784.85514472, -784.8679676 ,\n",
       "        -784.88112349, -784.89425838, -784.90737212, -784.92046458]),\n",
       " 'split3_test_score': array([-846.31502909, -846.21704546, -846.13070469, -846.05029524,\n",
       "        -845.97341344, -845.9185187 , -845.86460993, -845.80809604,\n",
       "        -845.75328871, -845.69885618, -845.64390713, -845.58885439,\n",
       "        -845.5333481 , -845.47892339, -845.42505413, -845.37106982,\n",
       "        -845.31703217, -845.26326798, -845.21307242, -845.16293177,\n",
       "        -845.11286925, -845.06290334, -845.01304873, -844.9633171 ,\n",
       "        -844.91371773, -844.86592926, -844.81918773, -844.77259205,\n",
       "        -844.72875315, -844.68706722, -844.64607946, -844.60522801,\n",
       "        -844.56451369, -844.52431552, -844.48633142, -844.44847933,\n",
       "        -844.41075884, -844.37316933, -844.33571003, -844.29838003,\n",
       "        -844.26199318, -844.22583649, -844.18980289, -844.15389111,\n",
       "        -844.11809983, -844.08242768, -844.04687329, -844.01143524,\n",
       "        -843.97611213, -843.94161827, -843.90738643, -843.87340088,\n",
       "        -843.83951856, -843.80573818, -843.77339767, -843.74357474,\n",
       "        -843.71383894, -843.68598115, -843.6588605 , -843.63181835,\n",
       "        -843.60485355, -843.577965  , -843.55115159, -843.52509855,\n",
       "        -843.50149656, -843.47796257, -843.4544955 , -843.4310943 ,\n",
       "        -843.40775792, -843.38448534, -843.36127557, -843.33812763,\n",
       "        -843.31504058, -843.29201346, -843.26904538, -843.24613544,\n",
       "        -843.22328276, -843.2004865 , -843.17774581, -843.15635694,\n",
       "        -843.13555702, -843.11481011, -843.09434056, -843.0743127 ,\n",
       "        -843.05433347, -843.03440215, -843.01457392, -842.99528173,\n",
       "        -842.97627084, -842.95893748, -842.94360244, -842.92846593,\n",
       "        -842.91342861, -842.89842043, -842.88344089, -842.86848948,\n",
       "        -842.85573624, -842.84410651, -842.83471023, -842.82725355]),\n",
       " 'split4_test_score': array([-818.38074154, -818.24273872, -818.10028794, -817.95720591,\n",
       "        -817.81978369, -817.68621727, -817.5542494 , -817.42403894,\n",
       "        -817.29563113, -817.16901403, -817.04414706, -816.92145032,\n",
       "        -816.80154147, -816.68308582, -816.5660377 , -816.4525575 ,\n",
       "        -816.34345214, -816.23556702, -816.12886379, -816.02330552,\n",
       "        -815.91885682, -815.81845791, -815.71996384, -815.62264745,\n",
       "        -815.52627114, -815.43125961, -815.33714937, -815.24389844,\n",
       "        -815.15148301, -815.06408439, -814.97961148, -814.89713077,\n",
       "        -814.81680457, -814.7371792 , -814.65823757, -814.5799633 ,\n",
       "        -814.50250112, -814.42633825, -814.35091049, -814.27608672,\n",
       "        -814.20185371, -814.12819871, -814.05510945, -813.98257409,\n",
       "        -813.91058125, -813.83911991, -813.76817945, -813.69840385,\n",
       "        -813.63040742, -813.56701246, -813.50426362, -813.44197187,\n",
       "        -813.3801287 , -813.31872589, -813.25775547, -813.1972097 ,\n",
       "        -813.13708109, -813.07736238, -813.0180465 , -812.95912662,\n",
       "        -812.90059608, -812.84244842, -812.78467737, -812.72727683,\n",
       "        -812.67024088, -812.61356373, -812.55957384, -812.50978824,\n",
       "        -812.46032858, -812.41118975, -812.36236679, -812.31385485,\n",
       "        -812.26564924, -812.21774536, -812.17192704, -812.12654435,\n",
       "        -812.08216839, -812.04028432, -811.99867512, -811.95733689,\n",
       "        -811.91626578, -811.87568133, -811.83742323, -811.80266789,\n",
       "        -811.76856539, -811.73520942, -811.70220455, -811.66942461,\n",
       "        -811.6368665 , -811.60452718, -811.57240368, -811.54049309,\n",
       "        -811.50879258, -811.47729935, -811.4460107 , -811.41492396,\n",
       "        -811.38403651, -811.35334582, -811.32284938, -811.29254474]),\n",
       " 'mean_test_score': array([-830.53733109, -830.38992323, -830.2722901 , -830.17039996,\n",
       "        -830.08018258, -830.00119312, -829.92815979, -829.85789649,\n",
       "        -829.7903211 , -829.72496396, -829.66216138, -829.60135729,\n",
       "        -829.54260623, -829.48562499, -829.42996141, -829.37657281,\n",
       "        -829.32511704, -829.27464711, -829.22570037, -829.17730407,\n",
       "        -829.1294272 , -829.08263683, -829.03686698, -828.99182947,\n",
       "        -828.94759905, -828.90481251, -828.86258571, -828.82071985,\n",
       "        -828.77972348, -828.74034375, -828.70264694, -828.6656733 ,\n",
       "        -828.62994306, -828.59468028, -828.56103348, -828.52818636,\n",
       "        -828.49562257, -828.4636468 , -828.43252826, -828.40202232,\n",
       "        -828.37226321, -828.34345856, -828.3148567 , -828.28645294,\n",
       "        -828.25859802, -828.23169715, -828.2055969 , -828.18043768,\n",
       "        -828.15667735, -828.13435436, -828.11287706, -828.09197636,\n",
       "        -828.0720512 , -828.05288685, -828.03416726, -828.01663802,\n",
       "        -828.00035605, -827.98512559, -827.97047559, -827.95597313,\n",
       "        -827.94158284, -827.92730243, -827.91330561, -827.9001293 ,\n",
       "        -827.88756329, -827.87509401, -827.86355426, -827.85304808,\n",
       "        -827.84272886, -827.83268999, -827.82416603, -827.81669122,\n",
       "        -827.80932154, -827.80242012, -827.79645435, -827.79061277,\n",
       "        -827.78497993, -827.77985216, -827.77526672, -827.77119307,\n",
       "        -827.76728332, -827.76350393, -827.76024694, -827.75777675,\n",
       "        -827.75549821, -827.75339708, -827.75212152, -827.75206774,\n",
       "        -827.75289756, -827.75436274, -827.75743417, -827.76118772,\n",
       "        -827.76536519, -827.76956956, -827.77379891, -827.77889732,\n",
       "        -827.78467595, -827.79069432, -827.79717394, -827.80466466]),\n",
       " 'std_test_score': array([24.33950767, 24.38549105, 24.4185579 , 24.4460576 , 24.47004049,\n",
       "        24.49364875, 24.51702158, 24.53901409, 24.56027857, 24.58043898,\n",
       "        24.59998493, 24.61944969, 24.63891416, 24.65863988, 24.67841297,\n",
       "        24.69856116, 24.71866108, 24.73835983, 24.75798976, 24.77746948,\n",
       "        24.79681453, 24.81572013, 24.83376343, 24.85124846, 24.86830401,\n",
       "        24.88544777, 24.90263255, 24.91974871, 24.93713403, 24.95420751,\n",
       "        24.96973895, 24.98522645, 25.00106993, 25.01671533, 25.03198478,\n",
       "        25.04763472, 25.06322363, 25.07833478, 25.09237057, 25.10587772,\n",
       "        25.1195878 , 25.13388196, 25.14813676, 25.16235332, 25.17683052,\n",
       "        25.19185926, 25.20721391, 25.22298139, 25.23892579, 25.25393358,\n",
       "        25.26808335, 25.2819648 , 25.29515362, 25.30883173, 25.32268311,\n",
       "        25.33592645, 25.3477976 , 25.36008649, 25.37271931, 25.38536533,\n",
       "        25.39799714, 25.41061492, 25.42336399, 25.43665967, 25.45025801,\n",
       "        25.46383716, 25.4774199 , 25.49065762, 25.50395994, 25.51693932,\n",
       "        25.52794642, 25.53844655, 25.54888104, 25.55863614, 25.56730706,\n",
       "        25.57590475, 25.58440762, 25.59263211, 25.60125909, 25.61020059,\n",
       "        25.61919799, 25.62810901, 25.63676577, 25.64506131, 25.65334439,\n",
       "        25.66157831, 25.67032897, 25.67834161, 25.68706194, 25.69620947,\n",
       "        25.70664357, 25.71663963, 25.72614373, 25.73564809, 25.7451517 ,\n",
       "        25.75380978, 25.76273075, 25.77178158, 25.78109117, 25.79118282]),\n",
       " 'rank_test_score': array([100,  99,  98,  97,  96,  95,  94,  93,  92,  91,  90,  89,  88,\n",
       "         87,  86,  85,  84,  83,  82,  81,  80,  79,  78,  77,  76,  75,\n",
       "         74,  73,  72,  71,  70,  69,  68,  67,  66,  65,  64,  63,  62,\n",
       "         61,  60,  59,  58,  57,  56,  55,  54,  53,  52,  51,  50,  49,\n",
       "         48,  47,  46,  45,  44,  43,  42,  41,  40,  39,  38,  37,  36,\n",
       "         35,  34,  33,  32,  31,  30,  29,  28,  26,  24,  22,  21,  19,\n",
       "         17,  15,  13,  11,   9,   8,   6,   4,   2,   1,   3,   5,   7,\n",
       "         10,  12,  14,  16,  18,  20,  23,  25,  27]),\n",
       " 'split0_train_score': array([-818.05541533, -818.05298707, -818.02818818, -817.99600828,\n",
       "        -817.96260334, -817.92669356, -817.89496504, -817.86552225,\n",
       "        -817.83630739, -817.80619397, -817.77599027, -817.74583343,\n",
       "        -817.71654507, -817.68731679, -817.6581321 , -817.63036253,\n",
       "        -817.60327534, -817.57756798, -817.55254847, -817.52761954,\n",
       "        -817.50262815, -817.4775606 , -817.4527576 , -817.42798051,\n",
       "        -817.40334682, -817.37932513, -817.35529037, -817.33132986,\n",
       "        -817.30762004, -817.28462538, -817.26333951, -817.24313905,\n",
       "        -817.22354036, -817.20421979, -817.18612783, -817.16869531,\n",
       "        -817.15128734, -817.13572125, -817.12182818, -817.10854577,\n",
       "        -817.0954135 , -817.082268  , -817.06961497, -817.05793478,\n",
       "        -817.04725996, -817.03657541, -817.02691317, -817.01835657,\n",
       "        -817.0103007 , -817.00309891, -816.9962473 , -816.98996416,\n",
       "        -816.98448439, -816.97898558, -816.97359634, -816.96934243,\n",
       "        -816.9655642 , -816.96185073, -816.95811532, -816.95481267,\n",
       "        -816.95264844, -816.95091457, -816.94982737, -816.95066988,\n",
       "        -816.95180789, -816.9529168 , -816.95410772, -816.95536738,\n",
       "        -816.95662154, -816.9581612 , -816.95985425, -816.96202546,\n",
       "        -816.96437377, -816.96677446, -816.96919137, -816.97214537,\n",
       "        -816.97553232, -816.97960099, -816.98364035, -816.98829785,\n",
       "        -816.99322859, -816.99849189, -817.00420306, -817.01100409,\n",
       "        -817.01820291, -817.02608099, -817.03429393, -817.04295225,\n",
       "        -817.05249709, -817.06235371, -817.07260436, -817.08284694,\n",
       "        -817.09305045, -817.10329543, -817.11399209, -817.12616433,\n",
       "        -817.13895558, -817.15249101, -817.16714047, -817.18236149]),\n",
       " 'split1_train_score': array([-817.50912258, -817.45212816, -817.39663482, -817.3427331 ,\n",
       "        -817.29088906, -817.24118998, -817.19243726, -817.14432843,\n",
       "        -817.09686933, -817.05068861, -817.00619768, -816.96251107,\n",
       "        -816.91926728, -816.87700345, -816.83551273, -816.79585021,\n",
       "        -816.7574128 , -816.72137505, -816.68690696, -816.65377317,\n",
       "        -816.62234988, -816.59262447, -816.56358852, -816.53528513,\n",
       "        -816.50731552, -816.48013042, -816.45364545, -816.42783169,\n",
       "        -816.40242468, -816.37723144, -816.35209868, -816.32780763,\n",
       "        -816.30581408, -816.28401602, -816.26226684, -816.24056667,\n",
       "        -816.2191922 , -816.19885707, -816.17873433, -816.15924712,\n",
       "        -816.14088765, -816.1226009 , -816.10435163, -816.08614001,\n",
       "        -816.06803846, -816.05000652, -816.03201168, -816.01405403,\n",
       "        -815.99616273, -815.97881071, -815.96162899, -815.94461701,\n",
       "        -815.92842269, -815.91235741, -815.89699586, -815.88288897,\n",
       "        -815.87007124, -815.85850504, -815.84695866, -815.83543214,\n",
       "        -815.82494004, -815.81517648, -815.80593811, -815.79848031,\n",
       "        -815.79197448, -815.78675805, -815.78194138, -815.77767352,\n",
       "        -815.77375378, -815.76983726, -815.76604776, -815.7623327 ,\n",
       "        -815.75901147, -815.75640458, -815.75412296, -815.75203923,\n",
       "        -815.74995214, -815.7485493 , -815.74796421, -815.74779278,\n",
       "        -815.74867154, -815.7498416 , -815.75197794, -815.75481375,\n",
       "        -815.75773376, -815.76072752, -815.76370388, -815.76667977,\n",
       "        -815.76979599, -815.77408958, -815.77863036, -815.78315043,\n",
       "        -815.78764997, -815.79217267, -815.79743141, -815.80357478,\n",
       "        -815.80999446, -815.81690038, -815.82378008, -815.83085593]),\n",
       " 'split2_train_score': array([-833.42020478, -833.48798341, -833.5278533 , -833.54447275,\n",
       "        -833.54743305, -833.54115768, -833.52903758, -833.51272442,\n",
       "        -833.49589428, -833.4780189 , -833.46031356, -833.44228185,\n",
       "        -833.42360061, -833.40517111, -833.38652434, -833.3674633 ,\n",
       "        -833.34827231, -833.32873034, -833.30866263, -833.2880701 ,\n",
       "        -833.26727901, -833.24745244, -833.2278034 , -833.20896318,\n",
       "        -833.19051199, -833.17203739, -833.15452383, -833.13723191,\n",
       "        -833.12009556, -833.10380487, -833.08746576, -833.07155221,\n",
       "        -833.05635345, -833.04156765, -833.02668685, -833.0117206 ,\n",
       "        -832.99667746, -832.98200548, -832.9680629 , -832.9547572 ,\n",
       "        -832.94247943, -832.9306485 , -832.91876521, -832.90689158,\n",
       "        -832.89642062, -832.88717079, -832.87791762, -832.86987016,\n",
       "        -832.8622939 , -832.85536172, -832.84925954, -832.84380793,\n",
       "        -832.83944342, -832.83542269, -832.83180836, -832.82875156,\n",
       "        -832.8258946 , -832.82304014, -832.8205936 , -832.81828238,\n",
       "        -832.81593712, -832.81355922, -832.8116934 , -832.81037221,\n",
       "        -832.80906665, -832.80773186, -832.80636891, -832.80602548,\n",
       "        -832.80748795, -832.81034429, -832.8140603 , -832.81799218,\n",
       "        -832.82191274, -832.82588552, -832.83070361, -832.83567536,\n",
       "        -832.84151513, -832.84738986, -832.85322814, -832.85905163,\n",
       "        -832.86542015, -832.87175291, -832.87805128, -832.88475456,\n",
       "        -832.89146126, -832.89813209, -832.90510935, -832.91223544,\n",
       "        -832.91971593, -832.92716255, -832.93489885, -832.94285502,\n",
       "        -832.95077749, -832.95903085, -832.96757022, -832.97618234,\n",
       "        -832.9852985 , -832.9950544 , -833.00500275, -833.01493506]),\n",
       " 'split3_train_score': array([-819.92721857, -819.9528027 , -819.95246178, -819.94017994,\n",
       "        -819.92129423, -819.89913207, -819.87561002, -819.85442695,\n",
       "        -819.83196166, -819.80818661, -819.78330089, -819.75756334,\n",
       "        -819.73105251, -819.70408158, -819.67752572, -819.65055658,\n",
       "        -819.62324711, -819.59628043, -819.5711119 , -819.54634002,\n",
       "        -819.5213978 , -819.49644639, -819.47202888, -819.44819676,\n",
       "        -819.42561693, -819.40393943, -819.3828751 , -819.36247711,\n",
       "        -819.34250888, -819.32422287, -819.30712593, -819.29222461,\n",
       "        -819.27785779, -819.2645374 , -819.25210764, -819.23964307,\n",
       "        -819.22753439, -819.21613655, -819.20547089, -819.19529759,\n",
       "        -819.18540664, -819.17558031, -819.1663061 , -819.15828913,\n",
       "        -819.1516607 , -819.1453637 , -819.13943968, -819.13367437,\n",
       "        -819.12788593, -819.12213355, -819.11686518, -819.11182043,\n",
       "        -819.10754434, -819.10331149, -819.09943728, -819.09682   ,\n",
       "        -819.09440565, -819.09200922, -819.08998949, -819.08842566,\n",
       "        -819.08863037, -819.08905351, -819.08945544, -819.09001933,\n",
       "        -819.0916039 , -819.09316679, -819.09470862, -819.09623003,\n",
       "        -819.09822366, -819.10075162, -819.10348474, -819.10640537,\n",
       "        -819.1103243 , -819.1152914 , -819.12023457, -819.12545939,\n",
       "        -819.13233586, -819.14019622, -819.14827811, -819.15662005,\n",
       "        -819.16624384, -819.17706171, -819.18836339, -819.19998014,\n",
       "        -819.21243967, -819.22546211, -819.23844786, -819.25191171,\n",
       "        -819.26573185, -819.28048171, -819.29582074, -819.31220922,\n",
       "        -819.32915241, -819.34605013, -819.36290273, -819.37972762,\n",
       "        -819.39653816, -819.41411998, -819.43165595, -819.44926501]),\n",
       " 'split4_train_score': array([-827.49799937, -827.51900975, -827.52448464, -827.52472953,\n",
       "        -827.52190084, -827.51253318, -827.49755928, -827.47862566,\n",
       "        -827.45680297, -827.43327588, -827.40909906, -827.38480507,\n",
       "        -827.36104243, -827.33652381, -827.31199886, -827.28708369,\n",
       "        -827.26184562, -827.236521  , -827.21124738, -827.18690654,\n",
       "        -827.16253977, -827.1379962 , -827.11362531, -827.0900167 ,\n",
       "        -827.06650966, -827.04308227, -827.01957311, -826.99599753,\n",
       "        -826.97245713, -826.94916454, -826.92664992, -826.90462657,\n",
       "        -826.8825793 , -826.86063393, -826.83941601, -826.81923391,\n",
       "        -826.79999826, -826.78223559, -826.76467724, -826.74711562,\n",
       "        -826.73000799, -826.71319979, -826.69789897, -826.68372089,\n",
       "        -826.67053822, -826.65964783, -826.64955449, -826.64191802,\n",
       "        -826.63530693, -826.62982149, -826.62532836, -826.62215209,\n",
       "        -826.61925528, -826.61634083, -826.61340998, -826.61049635,\n",
       "        -826.60867672, -826.60685105, -826.60578868, -826.60490746,\n",
       "        -826.60414161, -826.6033898 , -826.6026175 , -826.60208349,\n",
       "        -826.60161994, -826.60114314, -826.60127532, -826.60231718,\n",
       "        -826.60449748, -826.60747032, -826.61041812, -826.61397139,\n",
       "        -826.61837201, -826.62355538, -826.62980619, -826.63622937,\n",
       "        -826.64342914, -826.65171539, -826.66107449, -826.67160688,\n",
       "        -826.68358819, -826.69590043, -826.70839467, -826.72135553,\n",
       "        -826.73493756, -826.74879877, -826.76265702, -826.77663948,\n",
       "        -826.79057171, -826.80445423, -826.81828755, -826.83209873,\n",
       "        -826.84595905, -826.85977122, -826.87353571, -826.88725297,\n",
       "        -826.90097808, -826.91559765, -826.93026093, -826.94576009]),\n",
       " 'mean_train_score': array([-823.28199213, -823.29298222, -823.28592455, -823.26962472,\n",
       "        -823.24882411, -823.2241413 , -823.19792184, -823.17112554,\n",
       "        -823.14356713, -823.11527279, -823.08698029, -823.05859895,\n",
       "        -823.03030158, -823.00201935, -822.97393875, -822.94626326,\n",
       "        -822.91881064, -822.89209496, -822.86609547, -822.84054188,\n",
       "        -822.81523892, -822.79041602, -822.76596074, -822.74208845,\n",
       "        -822.71866019, -822.69570293, -822.67318157, -822.65097362,\n",
       "        -822.62902126, -822.60780982, -822.58733596, -822.56787001,\n",
       "        -822.549229  , -822.53099496, -822.51332104, -822.49597191,\n",
       "        -822.47893793, -822.46299119, -822.44775471, -822.43299266,\n",
       "        -822.41883904, -822.4048595 , -822.39138738, -822.37859528,\n",
       "        -822.36678359, -822.35575285, -822.34516733, -822.33557463,\n",
       "        -822.32639004, -822.31784527, -822.30986587, -822.30247233,\n",
       "        -822.29583002, -822.2892836 , -822.28304956, -822.27765986,\n",
       "        -822.27292248, -822.26845124, -822.26428915, -822.26037206,\n",
       "        -822.25725952, -822.25441872, -822.25190636, -822.25032504,\n",
       "        -822.24921457, -822.24834333, -822.24768039, -822.24752272,\n",
       "        -822.24811688, -822.24931294, -822.25077303, -822.25254542,\n",
       "        -822.25479886, -822.25758227, -822.26081174, -822.26430974,\n",
       "        -822.26855292, -822.27349035, -822.27883706, -822.28467384,\n",
       "        -822.29143046, -822.29860971, -822.30619807, -822.31438161,\n",
       "        -822.32295503, -822.33184029, -822.34084241, -822.35008373,\n",
       "        -822.35966252, -822.36970836, -822.38004837, -822.39063207,\n",
       "        -822.40131787, -822.41206406, -822.42308643, -822.43458041,\n",
       "        -822.44635296, -822.45883268, -822.47156804, -822.48463552]),\n",
       " 'std_train_score': array([6.20412293, 6.23742387, 6.26581193, 6.28812684, 6.30609397,\n",
       "        6.32052968, 6.33156831, 6.33995937, 6.34777082, 6.35506059,\n",
       "        6.36213146, 6.3690114 , 6.37560623, 6.38203372, 6.38819407,\n",
       "        6.39362489, 6.39865769, 6.40283953, 6.40625668, 6.40931741,\n",
       "        6.41200848, 6.41467619, 6.4171937 , 6.41987258, 6.42247566,\n",
       "        6.42473676, 6.4271046 , 6.42932594, 6.43143926, 6.43353115,\n",
       "        6.43529753, 6.43670394, 6.43774259, 6.43874113, 6.43950522,\n",
       "        6.44026728, 6.44102957, 6.44153367, 6.44191305, 6.44222746,\n",
       "        6.4426672 , 6.44327599, 6.44392668, 6.44443826, 6.44521679,\n",
       "        6.44665742, 6.44799238, 6.44984607, 6.45189968, 6.45406621,\n",
       "        6.45649971, 6.45917512, 6.46187626, 6.4646631 , 6.46739045,\n",
       "        6.46974619, 6.47196277, 6.47392096, 6.47607862, 6.47818671,\n",
       "        6.4797361 , 6.48104207, 6.48230567, 6.48309456, 6.48356199,\n",
       "        6.48376924, 6.48395891, 6.48448484, 6.48563793, 6.48725287,\n",
       "        6.48907467, 6.49093771, 6.49270726, 6.49434686, 6.49634045,\n",
       "        6.49825368, 6.50032542, 6.50221282, 6.50405349, 6.50584015,\n",
       "        6.50762224, 6.50921189, 6.51050322, 6.51164255, 6.51270673,\n",
       "        6.51362011, 6.51458733, 6.51550407, 6.51632469, 6.51675274,\n",
       "        6.51710024, 6.51742463, 6.51770573, 6.51808308, 6.51833029,\n",
       "        6.5181793 , 6.51803881, 6.51793716, 6.51773413, 6.51750271])}"
      ]
     },
     "execution_count": 71,
     "metadata": {},
     "output_type": "execute_result"
    }
   ],
   "source": [
    "l_gs.cv_results_"
   ]
  },
  {
   "cell_type": "code",
   "execution_count": 72,
   "metadata": {},
   "outputs": [],
   "source": [
    "def report(results, n_top=3):\n",
    "    for i in range(1, n_top + 1):\n",
    "        candidates = np.flatnonzero(results['rank_test_score'] == i)\n",
    "        for candidate in candidates:\n",
    "            print(\"Model with rank: {0}\".format(i))\n",
    "            print(\"Mean validation score: {0:.3f} (std: {1:.3f})\".format(\n",
    "                  results['mean_test_score'][candidate],\n",
    "                  results['std_test_score'][candidate]))\n",
    "            print(\"Parameters: {0}\".format(results['params'][candidate]))\n",
    "            print(\"\")"
   ]
  },
  {
   "cell_type": "code",
   "execution_count": 73,
   "metadata": {},
   "outputs": [
    {
     "name": "stdout",
     "output_type": "stream",
     "text": [
      "Model with rank: 1\n",
      "Mean validation score: -827.752 (std: 25.678)\n",
      "Parameters: {'alpha': 88.0}\n",
      "\n",
      "Model with rank: 2\n",
      "Mean validation score: -827.752 (std: 25.670)\n",
      "Parameters: {'alpha': 87.0}\n",
      "\n",
      "Model with rank: 3\n",
      "Mean validation score: -827.753 (std: 25.687)\n",
      "Parameters: {'alpha': 89.0}\n",
      "\n",
      "Model with rank: 4\n",
      "Mean validation score: -827.753 (std: 25.662)\n",
      "Parameters: {'alpha': 86.0}\n",
      "\n"
     ]
    }
   ],
   "source": [
    "report(l_gs.cv_results_,4)"
   ]
  },
  {
   "cell_type": "code",
   "execution_count": 74,
   "metadata": {},
   "outputs": [],
   "source": [
    "l=Ridge(alpha=88)"
   ]
  },
  {
   "cell_type": "code",
   "execution_count": 75,
   "metadata": {},
   "outputs": [
    {
     "data": {
      "text/plain": [
       "825.8856238200808"
      ]
     },
     "execution_count": 75,
     "metadata": {},
     "output_type": "execute_result"
    }
   ],
   "source": [
    "l.fit(x_ld_train_train,y_ld_train_train)\n",
    "p_l1=l.predict(x_ld_train_val)\n",
    "mean_absolute_error(ld_train_val[\"Counterfeit_Sales\"],p_l1)"
   ]
  },
  {
   "cell_type": "code",
   "execution_count": 76,
   "metadata": {},
   "outputs": [
    {
     "data": {
      "text/plain": [
       "0.5024096385542169"
      ]
     },
     "execution_count": 76,
     "metadata": {},
     "output_type": "execute_result"
    }
   ],
   "source": [
    "1-(826/1660)"
   ]
  },
  {
   "cell_type": "code",
   "execution_count": 77,
   "metadata": {},
   "outputs": [
    {
     "data": {
      "text/plain": [
       "824.5370754539967"
      ]
     },
     "execution_count": 77,
     "metadata": {},
     "output_type": "execute_result"
    }
   ],
   "source": [
    "lasso=Lasso()\n",
    "lasso_gs=GridSearchCV(lasso,param_grid=params,cv=10,scoring=\"neg_mean_absolute_error\")\n",
    "lasso_gs.fit(x_ld_train_train,y_ld_train_train)\n",
    "p_lasso=lasso_gs.predict(x_ld_train_val)\n",
    "mean_absolute_error(ld_train_val[\"Counterfeit_Sales\"],p_lasso)"
   ]
  },
  {
   "cell_type": "code",
   "execution_count": 78,
   "metadata": {},
   "outputs": [
    {
     "name": "stdout",
     "output_type": "stream",
     "text": [
      "Model with rank: 1\n",
      "Mean validation score: -825.094 (std: 28.776)\n",
      "Parameters: {'alpha': 11.0}\n",
      "\n",
      "Model with rank: 2\n",
      "Mean validation score: -825.099 (std: 28.681)\n",
      "Parameters: {'alpha': 10.0}\n",
      "\n",
      "Model with rank: 3\n",
      "Mean validation score: -825.104 (std: 28.894)\n",
      "Parameters: {'alpha': 12.0}\n",
      "\n",
      "Model with rank: 4\n",
      "Mean validation score: -825.113 (std: 28.614)\n",
      "Parameters: {'alpha': 9.0}\n",
      "\n"
     ]
    }
   ],
   "source": [
    "report(lasso_gs.cv_results_,4)"
   ]
  },
  {
   "cell_type": "code",
   "execution_count": 79,
   "metadata": {},
   "outputs": [],
   "source": [
    "##Tree models"
   ]
  },
  {
   "cell_type": "code",
   "execution_count": 85,
   "metadata": {},
   "outputs": [
    {
     "data": {
      "text/plain": [
       "768.3468674486803"
      ]
     },
     "execution_count": 85,
     "metadata": {},
     "output_type": "execute_result"
    }
   ],
   "source": [
    "dtree=DecisionTreeRegressor(criterion=\"mae\",min_samples_split= 4, min_samples_leaf= 2, max_depth= 5)\n",
    "dtree.fit(x_ld_train_train,y_ld_train_train)\n",
    "p_dtree=dtree.predict(x_ld_train_val)\n",
    "mean_absolute_error(ld_train_val[\"Counterfeit_Sales\"],p_dtree)"
   ]
  },
  {
   "cell_type": "code",
   "execution_count": 83,
   "metadata": {},
   "outputs": [
    {
     "data": {
      "text/plain": [
       "768.3468674486803"
      ]
     },
     "execution_count": 83,
     "metadata": {},
     "output_type": "execute_result"
    }
   ],
   "source": [
    "dtree_params={\"max_depth\":[5,7,10,15,20],\n",
    "             \"min_samples_leaf\":[2,3,4,5,6],\n",
    "             \"min_samples_split\":[2,3,4,5,6]}\n",
    "\n",
    "rs_dtree=RandomizedSearchCV(dtree,param_distributions=dtree_params,cv=10,n_iter=20,n_jobs=-1,scoring=\"neg_mean_absolute_error\")\n",
    "rs_dtree.fit(x_ld_train_train,y_ld_train_train)\n",
    "p_rs_dtree=rs_dtree.predict(x_ld_train_val)\n",
    "mean_absolute_error(ld_train_val[\"Counterfeit_Sales\"],p_rs_dtree)"
   ]
  },
  {
   "cell_type": "code",
   "execution_count": 84,
   "metadata": {},
   "outputs": [
    {
     "data": {
      "text/plain": [
       "{'min_samples_split': 4, 'min_samples_leaf': 2, 'max_depth': 5}"
      ]
     },
     "execution_count": 84,
     "metadata": {},
     "output_type": "execute_result"
    }
   ],
   "source": [
    "rs_dtree.best_params_"
   ]
  },
  {
   "cell_type": "code",
   "execution_count": 99,
   "metadata": {},
   "outputs": [
    {
     "data": {
      "text/plain": [
       "0.5439759036144578"
      ]
     },
     "execution_count": 99,
     "metadata": {},
     "output_type": "execute_result"
    }
   ],
   "source": [
    "1-(757/1660)"
   ]
  },
  {
   "cell_type": "code",
   "execution_count": 87,
   "metadata": {},
   "outputs": [],
   "source": [
    "####RANDOMFOREST"
   ]
  },
  {
   "cell_type": "code",
   "execution_count": 88,
   "metadata": {},
   "outputs": [
    {
     "name": "stderr",
     "output_type": "stream",
     "text": [
      "C:\\Users\\swadhin\\Anaconda3\\lib\\site-packages\\sklearn\\ensemble\\forest.py:246: FutureWarning: The default value of n_estimators will change from 10 in version 0.20 to 100 in 0.22.\n",
      "  \"10 in version 0.20 to 100 in 0.22.\", FutureWarning)\n"
     ]
    },
    {
     "data": {
      "text/plain": [
       "828.7017106671556"
      ]
     },
     "execution_count": 88,
     "metadata": {},
     "output_type": "execute_result"
    }
   ],
   "source": [
    "rf=RandomForestRegressor(criterion=\"mae\")\n",
    "rf.fit(x_ld_train_train,y_ld_train_train)\n",
    "p_rf=rf.predict(x_ld_train_val)\n",
    "mean_absolute_error(ld_train_val[\"Counterfeit_Sales\"],p_rf)"
   ]
  },
  {
   "cell_type": "code",
   "execution_count": 92,
   "metadata": {},
   "outputs": [
    {
     "data": {
      "text/plain": [
       "766.3281608724341"
      ]
     },
     "execution_count": 92,
     "metadata": {},
     "output_type": "execute_result"
    }
   ],
   "source": [
    "rf_params={\"max_depth\":[5,7,10,15,20],\n",
    "            \"min_samples_leaf\":[2,3,4,5,6],\n",
    "            \"min_samples_split\":[2,3,4,5,6],\n",
    "          \"bootstrap\":[True,False],\n",
    "          \"max_features\":[10,15,25,35]}\n",
    "\n",
    "rs_rf=RandomizedSearchCV(rf,param_distributions=rf_params,cv=10,n_iter=100,n_jobs=-1,scoring=\"neg_mean_absolute_error\")\n",
    "rs_rf.fit(x_ld_train_train,y_ld_train_train)\n",
    "p_rs_rf=rs_rf.predict(x_ld_train_val)\n",
    "mean_absolute_error(ld_train_val[\"Counterfeit_Sales\"],p_rs_rf)"
   ]
  },
  {
   "cell_type": "code",
   "execution_count": 93,
   "metadata": {},
   "outputs": [
    {
     "data": {
      "text/plain": [
       "{'min_samples_split': 2,\n",
       " 'min_samples_leaf': 4,\n",
       " 'max_features': 35,\n",
       " 'max_depth': 5,\n",
       " 'bootstrap': True}"
      ]
     },
     "execution_count": 93,
     "metadata": {},
     "output_type": "execute_result"
    }
   ],
   "source": [
    "rs_rf.best_params_"
   ]
  },
  {
   "cell_type": "code",
   "execution_count": 98,
   "metadata": {},
   "outputs": [
    {
     "data": {
      "text/plain": [
       "757.6203886734604"
      ]
     },
     "execution_count": 98,
     "metadata": {},
     "output_type": "execute_result"
    }
   ],
   "source": [
    "rf=RandomForestRegressor(criterion=\"mae\",min_samples_split=2,\n",
    "                        min_samples_leaf=4,max_features=35,\n",
    "                        bootstrap=True,max_depth=5,n_estimators=500)\n",
    "\n",
    "rf.fit(x_ld_train_train,y_ld_train_train)\n",
    "p_rf=rf.predict(x_ld_train_val)\n",
    "mean_absolute_error(ld_train_val[\"Counterfeit_Sales\"],p_rf)"
   ]
  },
  {
   "cell_type": "code",
   "execution_count": 100,
   "metadata": {},
   "outputs": [],
   "source": [
    "rf_main=rf=RandomForestRegressor(criterion=\"mae\",min_samples_split=2,\n",
    "                        min_samples_leaf=4,max_features=35,\n",
    "                        bootstrap=True,max_depth=5,n_estimators=500)\n",
    "x_ld_train=ld_train.drop([\"Counterfeit_Sales\"],axis=1)\n",
    "y_ld_train=ld_train[\"Counterfeit_Sales\"]\n",
    "\n",
    "rf_main.fit(x_ld_train,y_ld_train)\n",
    "p_rf=rf_main.predict(ld_test)\n"
   ]
  },
  {
   "cell_type": "code",
   "execution_count": 105,
   "metadata": {},
   "outputs": [],
   "source": [
    "p_rf=rf_main.predict(ld_test)\n"
   ]
  },
  {
   "cell_type": "code",
   "execution_count": 102,
   "metadata": {},
   "outputs": [],
   "source": [
    "ld_test2=pd.read_csv(file2)"
   ]
  },
  {
   "cell_type": "code",
   "execution_count": 104,
   "metadata": {},
   "outputs": [],
   "source": [
    "ld_test2=ld_test2[\"Medicine_ID\"]"
   ]
  },
  {
   "cell_type": "code",
   "execution_count": 113,
   "metadata": {},
   "outputs": [],
   "source": [
    "p=pd.DataFrame(p_rf,columns=[\"Counterfeit_sales\"])"
   ]
  },
  {
   "cell_type": "code",
   "execution_count": 114,
   "metadata": {},
   "outputs": [],
   "source": [
    "final=pd.concat([ld_test2,p],axis=1)"
   ]
  },
  {
   "cell_type": "code",
   "execution_count": 115,
   "metadata": {},
   "outputs": [
    {
     "data": {
      "text/html": [
       "<div>\n",
       "<style scoped>\n",
       "    .dataframe tbody tr th:only-of-type {\n",
       "        vertical-align: middle;\n",
       "    }\n",
       "\n",
       "    .dataframe tbody tr th {\n",
       "        vertical-align: top;\n",
       "    }\n",
       "\n",
       "    .dataframe thead th {\n",
       "        text-align: right;\n",
       "    }\n",
       "</style>\n",
       "<table border=\"1\" class=\"dataframe\">\n",
       "  <thead>\n",
       "    <tr style=\"text-align: right;\">\n",
       "      <th></th>\n",
       "      <th>Medicine_ID</th>\n",
       "      <th>Counterfeit_sales</th>\n",
       "    </tr>\n",
       "  </thead>\n",
       "  <tbody>\n",
       "    <tr>\n",
       "      <th>0</th>\n",
       "      <td>HLZ81</td>\n",
       "      <td>2146.034282</td>\n",
       "    </tr>\n",
       "    <tr>\n",
       "      <th>1</th>\n",
       "      <td>ECE94</td>\n",
       "      <td>3929.223785</td>\n",
       "    </tr>\n",
       "    <tr>\n",
       "      <th>2</th>\n",
       "      <td>SAD14</td>\n",
       "      <td>1539.438549</td>\n",
       "    </tr>\n",
       "    <tr>\n",
       "      <th>3</th>\n",
       "      <td>EQV63</td>\n",
       "      <td>356.980413</td>\n",
       "    </tr>\n",
       "    <tr>\n",
       "      <th>4</th>\n",
       "      <td>AIR10</td>\n",
       "      <td>317.660928</td>\n",
       "    </tr>\n",
       "    <tr>\n",
       "      <th>5</th>\n",
       "      <td>LIC37</td>\n",
       "      <td>495.410220</td>\n",
       "    </tr>\n",
       "    <tr>\n",
       "      <th>6</th>\n",
       "      <td>EXZ14</td>\n",
       "      <td>4091.507208</td>\n",
       "    </tr>\n",
       "    <tr>\n",
       "      <th>7</th>\n",
       "      <td>UCB79</td>\n",
       "      <td>3618.137390</td>\n",
       "    </tr>\n",
       "    <tr>\n",
       "      <th>8</th>\n",
       "      <td>IDJ12</td>\n",
       "      <td>5537.083513</td>\n",
       "    </tr>\n",
       "    <tr>\n",
       "      <th>9</th>\n",
       "      <td>KLQ71</td>\n",
       "      <td>1539.723512</td>\n",
       "    </tr>\n",
       "    <tr>\n",
       "      <th>10</th>\n",
       "      <td>NZS82</td>\n",
       "      <td>2606.030841</td>\n",
       "    </tr>\n",
       "    <tr>\n",
       "      <th>11</th>\n",
       "      <td>TZV99</td>\n",
       "      <td>3943.455260</td>\n",
       "    </tr>\n",
       "    <tr>\n",
       "      <th>12</th>\n",
       "      <td>FWK70</td>\n",
       "      <td>2552.924636</td>\n",
       "    </tr>\n",
       "    <tr>\n",
       "      <th>13</th>\n",
       "      <td>LKL13</td>\n",
       "      <td>2595.313459</td>\n",
       "    </tr>\n",
       "    <tr>\n",
       "      <th>14</th>\n",
       "      <td>UFQ12</td>\n",
       "      <td>5772.616921</td>\n",
       "    </tr>\n",
       "    <tr>\n",
       "      <th>15</th>\n",
       "      <td>JPE14</td>\n",
       "      <td>2904.715379</td>\n",
       "    </tr>\n",
       "    <tr>\n",
       "      <th>16</th>\n",
       "      <td>SGZ11</td>\n",
       "      <td>2484.798648</td>\n",
       "    </tr>\n",
       "    <tr>\n",
       "      <th>17</th>\n",
       "      <td>JSD91</td>\n",
       "      <td>2594.441926</td>\n",
       "    </tr>\n",
       "    <tr>\n",
       "      <th>18</th>\n",
       "      <td>KSO48</td>\n",
       "      <td>2981.060668</td>\n",
       "    </tr>\n",
       "    <tr>\n",
       "      <th>19</th>\n",
       "      <td>LNA17</td>\n",
       "      <td>822.943206</td>\n",
       "    </tr>\n",
       "    <tr>\n",
       "      <th>20</th>\n",
       "      <td>XQB11</td>\n",
       "      <td>1740.475528</td>\n",
       "    </tr>\n",
       "    <tr>\n",
       "      <th>21</th>\n",
       "      <td>ZKO55</td>\n",
       "      <td>1716.759732</td>\n",
       "    </tr>\n",
       "    <tr>\n",
       "      <th>22</th>\n",
       "      <td>DZC65</td>\n",
       "      <td>950.114335</td>\n",
       "    </tr>\n",
       "    <tr>\n",
       "      <th>23</th>\n",
       "      <td>CYS10</td>\n",
       "      <td>2996.176991</td>\n",
       "    </tr>\n",
       "    <tr>\n",
       "      <th>24</th>\n",
       "      <td>IOW64</td>\n",
       "      <td>2570.608950</td>\n",
       "    </tr>\n",
       "    <tr>\n",
       "      <th>25</th>\n",
       "      <td>JJQ10</td>\n",
       "      <td>2971.314687</td>\n",
       "    </tr>\n",
       "    <tr>\n",
       "      <th>26</th>\n",
       "      <td>ZVR52</td>\n",
       "      <td>1957.164798</td>\n",
       "    </tr>\n",
       "    <tr>\n",
       "      <th>27</th>\n",
       "      <td>DRH86</td>\n",
       "      <td>882.502345</td>\n",
       "    </tr>\n",
       "    <tr>\n",
       "      <th>28</th>\n",
       "      <td>HWM68</td>\n",
       "      <td>2573.855390</td>\n",
       "    </tr>\n",
       "    <tr>\n",
       "      <th>29</th>\n",
       "      <td>OHY21</td>\n",
       "      <td>2568.123518</td>\n",
       "    </tr>\n",
       "    <tr>\n",
       "      <th>...</th>\n",
       "      <td>...</td>\n",
       "      <td>...</td>\n",
       "    </tr>\n",
       "    <tr>\n",
       "      <th>1675</th>\n",
       "      <td>PZT93</td>\n",
       "      <td>810.469443</td>\n",
       "    </tr>\n",
       "    <tr>\n",
       "      <th>1676</th>\n",
       "      <td>IAP71</td>\n",
       "      <td>2958.396836</td>\n",
       "    </tr>\n",
       "    <tr>\n",
       "      <th>1677</th>\n",
       "      <td>NZA81</td>\n",
       "      <td>825.419982</td>\n",
       "    </tr>\n",
       "    <tr>\n",
       "      <th>1678</th>\n",
       "      <td>RMY66</td>\n",
       "      <td>1561.506490</td>\n",
       "    </tr>\n",
       "    <tr>\n",
       "      <th>1679</th>\n",
       "      <td>KGF12</td>\n",
       "      <td>2996.352762</td>\n",
       "    </tr>\n",
       "    <tr>\n",
       "      <th>1680</th>\n",
       "      <td>UQJ12</td>\n",
       "      <td>1540.997187</td>\n",
       "    </tr>\n",
       "    <tr>\n",
       "      <th>1681</th>\n",
       "      <td>JXG94</td>\n",
       "      <td>1720.046121</td>\n",
       "    </tr>\n",
       "    <tr>\n",
       "      <th>1682</th>\n",
       "      <td>RXG14</td>\n",
       "      <td>1835.798780</td>\n",
       "    </tr>\n",
       "    <tr>\n",
       "      <th>1683</th>\n",
       "      <td>GLJ63</td>\n",
       "      <td>1574.147369</td>\n",
       "    </tr>\n",
       "    <tr>\n",
       "      <th>1684</th>\n",
       "      <td>MJB10</td>\n",
       "      <td>1893.084212</td>\n",
       "    </tr>\n",
       "    <tr>\n",
       "      <th>1685</th>\n",
       "      <td>PNK10</td>\n",
       "      <td>1936.890523</td>\n",
       "    </tr>\n",
       "    <tr>\n",
       "      <th>1686</th>\n",
       "      <td>TBT30</td>\n",
       "      <td>3562.825389</td>\n",
       "    </tr>\n",
       "    <tr>\n",
       "      <th>1687</th>\n",
       "      <td>TVS63</td>\n",
       "      <td>2584.873049</td>\n",
       "    </tr>\n",
       "    <tr>\n",
       "      <th>1688</th>\n",
       "      <td>NVY75</td>\n",
       "      <td>2006.213619</td>\n",
       "    </tr>\n",
       "    <tr>\n",
       "      <th>1689</th>\n",
       "      <td>GLS37</td>\n",
       "      <td>777.833258</td>\n",
       "    </tr>\n",
       "    <tr>\n",
       "      <th>1690</th>\n",
       "      <td>CQC14</td>\n",
       "      <td>2913.338155</td>\n",
       "    </tr>\n",
       "    <tr>\n",
       "      <th>1691</th>\n",
       "      <td>WLW19</td>\n",
       "      <td>350.338392</td>\n",
       "    </tr>\n",
       "    <tr>\n",
       "      <th>1692</th>\n",
       "      <td>PYY23</td>\n",
       "      <td>3591.047985</td>\n",
       "    </tr>\n",
       "    <tr>\n",
       "      <th>1693</th>\n",
       "      <td>SLY12</td>\n",
       "      <td>2581.076657</td>\n",
       "    </tr>\n",
       "    <tr>\n",
       "      <th>1694</th>\n",
       "      <td>VKK10</td>\n",
       "      <td>2735.913774</td>\n",
       "    </tr>\n",
       "    <tr>\n",
       "      <th>1695</th>\n",
       "      <td>TTJ13</td>\n",
       "      <td>1539.252125</td>\n",
       "    </tr>\n",
       "    <tr>\n",
       "      <th>1696</th>\n",
       "      <td>GSV13</td>\n",
       "      <td>1748.322647</td>\n",
       "    </tr>\n",
       "    <tr>\n",
       "      <th>1697</th>\n",
       "      <td>ZXN29</td>\n",
       "      <td>1706.037023</td>\n",
       "    </tr>\n",
       "    <tr>\n",
       "      <th>1698</th>\n",
       "      <td>RTV34</td>\n",
       "      <td>3926.894816</td>\n",
       "    </tr>\n",
       "    <tr>\n",
       "      <th>1699</th>\n",
       "      <td>VFE97</td>\n",
       "      <td>610.252064</td>\n",
       "    </tr>\n",
       "    <tr>\n",
       "      <th>1700</th>\n",
       "      <td>KXW10</td>\n",
       "      <td>3270.887403</td>\n",
       "    </tr>\n",
       "    <tr>\n",
       "      <th>1701</th>\n",
       "      <td>CKE54</td>\n",
       "      <td>804.599750</td>\n",
       "    </tr>\n",
       "    <tr>\n",
       "      <th>1702</th>\n",
       "      <td>HAY13</td>\n",
       "      <td>2872.694394</td>\n",
       "    </tr>\n",
       "    <tr>\n",
       "      <th>1703</th>\n",
       "      <td>ZEE32</td>\n",
       "      <td>3684.325900</td>\n",
       "    </tr>\n",
       "    <tr>\n",
       "      <th>1704</th>\n",
       "      <td>NDL93</td>\n",
       "      <td>3899.585032</td>\n",
       "    </tr>\n",
       "  </tbody>\n",
       "</table>\n",
       "<p>1705 rows × 2 columns</p>\n",
       "</div>"
      ],
      "text/plain": [
       "     Medicine_ID  Counterfeit_sales\n",
       "0          HLZ81        2146.034282\n",
       "1          ECE94        3929.223785\n",
       "2          SAD14        1539.438549\n",
       "3          EQV63         356.980413\n",
       "4          AIR10         317.660928\n",
       "5          LIC37         495.410220\n",
       "6          EXZ14        4091.507208\n",
       "7          UCB79        3618.137390\n",
       "8          IDJ12        5537.083513\n",
       "9          KLQ71        1539.723512\n",
       "10         NZS82        2606.030841\n",
       "11         TZV99        3943.455260\n",
       "12         FWK70        2552.924636\n",
       "13         LKL13        2595.313459\n",
       "14         UFQ12        5772.616921\n",
       "15         JPE14        2904.715379\n",
       "16         SGZ11        2484.798648\n",
       "17         JSD91        2594.441926\n",
       "18         KSO48        2981.060668\n",
       "19         LNA17         822.943206\n",
       "20         XQB11        1740.475528\n",
       "21         ZKO55        1716.759732\n",
       "22         DZC65         950.114335\n",
       "23         CYS10        2996.176991\n",
       "24         IOW64        2570.608950\n",
       "25         JJQ10        2971.314687\n",
       "26         ZVR52        1957.164798\n",
       "27         DRH86         882.502345\n",
       "28         HWM68        2573.855390\n",
       "29         OHY21        2568.123518\n",
       "...          ...                ...\n",
       "1675       PZT93         810.469443\n",
       "1676       IAP71        2958.396836\n",
       "1677       NZA81         825.419982\n",
       "1678       RMY66        1561.506490\n",
       "1679       KGF12        2996.352762\n",
       "1680       UQJ12        1540.997187\n",
       "1681       JXG94        1720.046121\n",
       "1682       RXG14        1835.798780\n",
       "1683       GLJ63        1574.147369\n",
       "1684       MJB10        1893.084212\n",
       "1685       PNK10        1936.890523\n",
       "1686       TBT30        3562.825389\n",
       "1687       TVS63        2584.873049\n",
       "1688       NVY75        2006.213619\n",
       "1689       GLS37         777.833258\n",
       "1690       CQC14        2913.338155\n",
       "1691       WLW19         350.338392\n",
       "1692       PYY23        3591.047985\n",
       "1693       SLY12        2581.076657\n",
       "1694       VKK10        2735.913774\n",
       "1695       TTJ13        1539.252125\n",
       "1696       GSV13        1748.322647\n",
       "1697       ZXN29        1706.037023\n",
       "1698       RTV34        3926.894816\n",
       "1699       VFE97         610.252064\n",
       "1700       KXW10        3270.887403\n",
       "1701       CKE54         804.599750\n",
       "1702       HAY13        2872.694394\n",
       "1703       ZEE32        3684.325900\n",
       "1704       NDL93        3899.585032\n",
       "\n",
       "[1705 rows x 2 columns]"
      ]
     },
     "execution_count": 115,
     "metadata": {},
     "output_type": "execute_result"
    }
   ],
   "source": [
    "final"
   ]
  },
  {
   "cell_type": "code",
   "execution_count": 116,
   "metadata": {},
   "outputs": [],
   "source": [
    "final.to_csv(\"harpreet_singh_p3_part2.csv\",index=False)"
   ]
  },
  {
   "cell_type": "code",
   "execution_count": null,
   "metadata": {},
   "outputs": [],
   "source": []
  }
 ],
 "metadata": {
  "kernelspec": {
   "display_name": "Python 3",
   "language": "python",
   "name": "python3"
  },
  "language_info": {
   "codemirror_mode": {
    "name": "ipython",
    "version": 3
   },
   "file_extension": ".py",
   "mimetype": "text/x-python",
   "name": "python",
   "nbconvert_exporter": "python",
   "pygments_lexer": "ipython3",
   "version": "3.7.1"
  }
 },
 "nbformat": 4,
 "nbformat_minor": 2
}

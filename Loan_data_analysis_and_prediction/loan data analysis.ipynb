{
 "cells": [
  {
   "cell_type": "markdown",
   "metadata": {},
   "source": [
    "### import all the libraries that are needed for data analysis and predictive modelling"
   ]
  },
  {
   "cell_type": "code",
   "execution_count": 1,
   "metadata": {},
   "outputs": [
    {
     "name": "stderr",
     "output_type": "stream",
     "text": [
      "Using TensorFlow backend.\n"
     ]
    }
   ],
   "source": [
    "# importing libraries for data manudilation\n",
    "import pandas as pd\n",
    "import numpy as np\n",
    "\n",
    "import warnings\n",
    "warnings.filterwarnings('ignore')\n",
    "\n",
    "# importing libraraies for data visualization\n",
    "import matplotlib.pyplot as plt\n",
    "import seaborn as sns\n",
    "%matplotlib inline\n",
    "from wordcloud import WordCloud,STOPWORDS\n",
    "\n",
    "# importing libraries for data spliting and predictive modelling\n",
    "from sklearn.linear_model import LogisticRegression\n",
    "from sklearn.model_selection import train_test_split,RandomizedSearchCV,GridSearchCV\n",
    "from sklearn.metrics import roc_auc_score,confusion_matrix\n",
    "from sklearn.ensemble import RandomForestClassifier\n",
    "from xgboost.sklearn import XGBClassifier\n",
    "\n",
    "# importing deep learning libaries\n",
    "import keras\n",
    "from keras.models import Sequential\n",
    "from keras.layers import Dense\n",
    "from sklearn.preprocessing import StandardScaler\n"
   ]
  },
  {
   "cell_type": "code",
   "execution_count": 2,
   "metadata": {},
   "outputs": [],
   "source": [
    "# import dataset\n",
    "data=pd.read_csv(\"loan_data.csv\",engine=\"python\")"
   ]
  },
  {
   "cell_type": "code",
   "execution_count": 3,
   "metadata": {},
   "outputs": [
    {
     "data": {
      "text/html": [
       "<div>\n",
       "<style scoped>\n",
       "    .dataframe tbody tr th:only-of-type {\n",
       "        vertical-align: middle;\n",
       "    }\n",
       "\n",
       "    .dataframe tbody tr th {\n",
       "        vertical-align: top;\n",
       "    }\n",
       "\n",
       "    .dataframe thead th {\n",
       "        text-align: right;\n",
       "    }\n",
       "</style>\n",
       "<table border=\"1\" class=\"dataframe\">\n",
       "  <thead>\n",
       "    <tr style=\"text-align: right;\">\n",
       "      <th></th>\n",
       "      <th>Id</th>\n",
       "      <th>is_bad</th>\n",
       "      <th>emp_title</th>\n",
       "      <th>emp_length</th>\n",
       "      <th>home_ownership</th>\n",
       "      <th>annual_inc</th>\n",
       "      <th>verification_status</th>\n",
       "      <th>pymnt_plan</th>\n",
       "      <th>Notes</th>\n",
       "      <th>purpose_cat</th>\n",
       "      <th>...</th>\n",
       "      <th>mths_since_last_record</th>\n",
       "      <th>open_acc</th>\n",
       "      <th>pub_rec</th>\n",
       "      <th>revol_bal</th>\n",
       "      <th>revol_util</th>\n",
       "      <th>total_acc</th>\n",
       "      <th>initial_list_status</th>\n",
       "      <th>collections_12_mths_ex_med</th>\n",
       "      <th>mths_since_last_major_derog</th>\n",
       "      <th>policy_code</th>\n",
       "    </tr>\n",
       "  </thead>\n",
       "  <tbody>\n",
       "    <tr>\n",
       "      <th>0</th>\n",
       "      <td>1</td>\n",
       "      <td>0</td>\n",
       "      <td>Time Warner Cable</td>\n",
       "      <td>10</td>\n",
       "      <td>MORTGAGE</td>\n",
       "      <td>50000.0</td>\n",
       "      <td>not verified</td>\n",
       "      <td>n</td>\n",
       "      <td>NaN</td>\n",
       "      <td>medical</td>\n",
       "      <td>...</td>\n",
       "      <td>NaN</td>\n",
       "      <td>15.0</td>\n",
       "      <td>0.0</td>\n",
       "      <td>12087</td>\n",
       "      <td>12.1</td>\n",
       "      <td>44.0</td>\n",
       "      <td>f</td>\n",
       "      <td>0.0</td>\n",
       "      <td>1</td>\n",
       "      <td>PC4</td>\n",
       "    </tr>\n",
       "    <tr>\n",
       "      <th>1</th>\n",
       "      <td>2</td>\n",
       "      <td>0</td>\n",
       "      <td>Ottawa University</td>\n",
       "      <td>1</td>\n",
       "      <td>RENT</td>\n",
       "      <td>39216.0</td>\n",
       "      <td>not verified</td>\n",
       "      <td>n</td>\n",
       "      <td>Borrower added on 04/14/11 &gt; I will be using t...</td>\n",
       "      <td>debt consolidation</td>\n",
       "      <td>...</td>\n",
       "      <td>NaN</td>\n",
       "      <td>4.0</td>\n",
       "      <td>0.0</td>\n",
       "      <td>10114</td>\n",
       "      <td>64.0</td>\n",
       "      <td>5.0</td>\n",
       "      <td>f</td>\n",
       "      <td>0.0</td>\n",
       "      <td>2</td>\n",
       "      <td>PC1</td>\n",
       "    </tr>\n",
       "  </tbody>\n",
       "</table>\n",
       "<p>2 rows × 28 columns</p>\n",
       "</div>"
      ],
      "text/plain": [
       "   Id  is_bad          emp_title emp_length home_ownership  annual_inc  \\\n",
       "0   1       0  Time Warner Cable         10       MORTGAGE     50000.0   \n",
       "1   2       0  Ottawa University          1           RENT     39216.0   \n",
       "\n",
       "  verification_status pymnt_plan  \\\n",
       "0        not verified          n   \n",
       "1        not verified          n   \n",
       "\n",
       "                                               Notes         purpose_cat  \\\n",
       "0                                                NaN             medical   \n",
       "1  Borrower added on 04/14/11 > I will be using t...  debt consolidation   \n",
       "\n",
       "      ...      mths_since_last_record open_acc pub_rec  revol_bal  revol_util  \\\n",
       "0     ...                         NaN     15.0     0.0      12087        12.1   \n",
       "1     ...                         NaN      4.0     0.0      10114        64.0   \n",
       "\n",
       "  total_acc  initial_list_status  collections_12_mths_ex_med  \\\n",
       "0      44.0                    f                         0.0   \n",
       "1       5.0                    f                         0.0   \n",
       "\n",
       "   mths_since_last_major_derog  policy_code  \n",
       "0                            1          PC4  \n",
       "1                            2          PC1  \n",
       "\n",
       "[2 rows x 28 columns]"
      ]
     },
     "execution_count": 3,
     "metadata": {},
     "output_type": "execute_result"
    }
   ],
   "source": [
    "# overview of data\n",
    "data.head(2)"
   ]
  },
  {
   "cell_type": "code",
   "execution_count": 4,
   "metadata": {},
   "outputs": [
    {
     "name": "stdout",
     "output_type": "stream",
     "text": [
      "dataset has 10000 rows and 28 columns\n"
     ]
    }
   ],
   "source": [
    "# checkin no of obeservation and features of our dataset\n",
    "\n",
    "print(\"dataset has {} rows and {} columns\".format(data.shape[0],data.shape[1]))"
   ]
  },
  {
   "cell_type": "code",
   "execution_count": 5,
   "metadata": {},
   "outputs": [
    {
     "data": {
      "text/plain": [
       "0    8705\n",
       "1    1295\n",
       "Name: is_bad, dtype: int64"
      ]
     },
     "execution_count": 5,
     "metadata": {},
     "output_type": "execute_result"
    }
   ],
   "source": [
    "# checking value counts for target variable\n",
    "\n",
    "data[\"is_bad\"].value_counts()"
   ]
  },
  {
   "cell_type": "code",
   "execution_count": 6,
   "metadata": {},
   "outputs": [
    {
     "data": {
      "text/plain": [
       "<matplotlib.axes._subplots.AxesSubplot at 0x22459704978>"
      ]
     },
     "execution_count": 6,
     "metadata": {},
     "output_type": "execute_result"
    },
    {
     "data": {
      "image/png": "[encoded data removed]",
      "text/plain": [
       "<Figure size 432x288 with 1 Axes>"
      ]
     },
     "metadata": {},
     "output_type": "display_data"
    }
   ],
   "source": [
    "data[\"is_bad\"].value_counts().plot.pie(explode=[0,0.25], autopct='%1.2f%%', shadow=True, \n",
    "                                              fontsize=12, startangle=70)"
   ]
  },
  {
   "cell_type": "code",
   "execution_count": 7,
   "metadata": {},
   "outputs": [
    {
     "data": {
      "text/plain": [
       "Id                               int64\n",
       "is_bad                           int64\n",
       "emp_title                       object\n",
       "emp_length                      object\n",
       "home_ownership                  object\n",
       "annual_inc                     float64\n",
       "verification_status             object\n",
       "pymnt_plan                      object\n",
       "Notes                           object\n",
       "purpose_cat                     object\n",
       "purpose                         object\n",
       "zip_code                        object\n",
       "addr_state                      object\n",
       "debt_to_income                 float64\n",
       "delinq_2yrs                    float64\n",
       "earliest_cr_line                object\n",
       "inq_last_6mths                 float64\n",
       "mths_since_last_delinq         float64\n",
       "mths_since_last_record         float64\n",
       "open_acc                       float64\n",
       "pub_rec                        float64\n",
       "revol_bal                        int64\n",
       "revol_util                     float64\n",
       "total_acc                      float64\n",
       "initial_list_status             object\n",
       "collections_12_mths_ex_med     float64\n",
       "mths_since_last_major_derog      int64\n",
       "policy_code                     object\n",
       "dtype: object"
      ]
     },
     "execution_count": 7,
     "metadata": {},
     "output_type": "execute_result"
    }
   ],
   "source": [
    "# cheching datatypes od all the features so that we can analyze them accordingly\n",
    "\n",
    "data.dtypes"
   ]
  },
  {
   "cell_type": "code",
   "execution_count": 8,
   "metadata": {},
   "outputs": [
    {
     "data": {
      "text/plain": [
       "Text(0.5, 0, 'Column names')"
      ]
     },
     "execution_count": 8,
     "metadata": {},
     "output_type": "execute_result"
    },
    {
     "data": {
      "image/png": "[encoded data removed]",
      "text/plain": [
       "<Figure size 1440x288 with 1 Axes>"
      ]
     },
     "metadata": {
      "needs_background": "light"
     },
     "output_type": "display_data"
    }
   ],
   "source": [
    "#plotting graph for the columns which have missing values\n",
    "\n",
    "na_count=data.isnull().sum()\n",
    "na_count=na_count[na_count.values>0]\n",
    "plt.figure(figsize=(20,4))\n",
    "na_count.plot(kind=\"bar\")\n",
    "plt.title(\"Columns which have missing values\",fontsize=20)\n",
    "plt.xlabel(\"Column names\",fontsize=16)"
   ]
  },
  {
   "cell_type": "markdown",
   "metadata": {},
   "source": [
    "### Two columns have more than 60 % and one column have more than 30% so we will remove these three columns because they are not giving us useful information.\n"
   ]
  },
  {
   "cell_type": "code",
   "execution_count": 9,
   "metadata": {},
   "outputs": [],
   "source": [
    "# dropping features which have more than 30% null values\n",
    "\n",
    "data.drop([\"mths_since_last_record\",\"mths_since_last_delinq\",\"Notes\"],axis=1,inplace=True)"
   ]
  },
  {
   "cell_type": "code",
   "execution_count": 10,
   "metadata": {},
   "outputs": [
    {
     "data": {
      "text/html": [
       "<div>\n",
       "<style scoped>\n",
       "    .dataframe tbody tr th:only-of-type {\n",
       "        vertical-align: middle;\n",
       "    }\n",
       "\n",
       "    .dataframe tbody tr th {\n",
       "        vertical-align: top;\n",
       "    }\n",
       "\n",
       "    .dataframe thead th {\n",
       "        text-align: right;\n",
       "    }\n",
       "</style>\n",
       "<table border=\"1\" class=\"dataframe\">\n",
       "  <thead>\n",
       "    <tr style=\"text-align: right;\">\n",
       "      <th></th>\n",
       "      <th>Id</th>\n",
       "      <th>is_bad</th>\n",
       "      <th>emp_title</th>\n",
       "      <th>emp_length</th>\n",
       "      <th>home_ownership</th>\n",
       "      <th>annual_inc</th>\n",
       "      <th>verification_status</th>\n",
       "      <th>pymnt_plan</th>\n",
       "      <th>purpose_cat</th>\n",
       "      <th>purpose</th>\n",
       "      <th>...</th>\n",
       "      <th>inq_last_6mths</th>\n",
       "      <th>open_acc</th>\n",
       "      <th>pub_rec</th>\n",
       "      <th>revol_bal</th>\n",
       "      <th>revol_util</th>\n",
       "      <th>total_acc</th>\n",
       "      <th>initial_list_status</th>\n",
       "      <th>collections_12_mths_ex_med</th>\n",
       "      <th>mths_since_last_major_derog</th>\n",
       "      <th>policy_code</th>\n",
       "    </tr>\n",
       "  </thead>\n",
       "  <tbody>\n",
       "    <tr>\n",
       "      <th>0</th>\n",
       "      <td>1</td>\n",
       "      <td>0</td>\n",
       "      <td>Time Warner Cable</td>\n",
       "      <td>10</td>\n",
       "      <td>MORTGAGE</td>\n",
       "      <td>50000.0</td>\n",
       "      <td>not verified</td>\n",
       "      <td>n</td>\n",
       "      <td>medical</td>\n",
       "      <td>Medical</td>\n",
       "      <td>...</td>\n",
       "      <td>0.0</td>\n",
       "      <td>15.0</td>\n",
       "      <td>0.0</td>\n",
       "      <td>12087</td>\n",
       "      <td>12.1</td>\n",
       "      <td>44.0</td>\n",
       "      <td>f</td>\n",
       "      <td>0.0</td>\n",
       "      <td>1</td>\n",
       "      <td>PC4</td>\n",
       "    </tr>\n",
       "    <tr>\n",
       "      <th>1</th>\n",
       "      <td>2</td>\n",
       "      <td>0</td>\n",
       "      <td>Ottawa University</td>\n",
       "      <td>1</td>\n",
       "      <td>RENT</td>\n",
       "      <td>39216.0</td>\n",
       "      <td>not verified</td>\n",
       "      <td>n</td>\n",
       "      <td>debt consolidation</td>\n",
       "      <td>My Debt Consolidation Loan</td>\n",
       "      <td>...</td>\n",
       "      <td>2.0</td>\n",
       "      <td>4.0</td>\n",
       "      <td>0.0</td>\n",
       "      <td>10114</td>\n",
       "      <td>64.0</td>\n",
       "      <td>5.0</td>\n",
       "      <td>f</td>\n",
       "      <td>0.0</td>\n",
       "      <td>2</td>\n",
       "      <td>PC1</td>\n",
       "    </tr>\n",
       "  </tbody>\n",
       "</table>\n",
       "<p>2 rows × 25 columns</p>\n",
       "</div>"
      ],
      "text/plain": [
       "   Id  is_bad          emp_title emp_length home_ownership  annual_inc  \\\n",
       "0   1       0  Time Warner Cable         10       MORTGAGE     50000.0   \n",
       "1   2       0  Ottawa University          1           RENT     39216.0   \n",
       "\n",
       "  verification_status pymnt_plan         purpose_cat  \\\n",
       "0        not verified          n             medical   \n",
       "1        not verified          n  debt consolidation   \n",
       "\n",
       "                      purpose     ...      inq_last_6mths open_acc  pub_rec  \\\n",
       "0                     Medical     ...                 0.0     15.0      0.0   \n",
       "1  My Debt Consolidation Loan     ...                 2.0      4.0      0.0   \n",
       "\n",
       "   revol_bal revol_util  total_acc  initial_list_status  \\\n",
       "0      12087       12.1       44.0                    f   \n",
       "1      10114       64.0        5.0                    f   \n",
       "\n",
       "   collections_12_mths_ex_med  mths_since_last_major_derog  policy_code  \n",
       "0                         0.0                            1          PC4  \n",
       "1                         0.0                            2          PC1  \n",
       "\n",
       "[2 rows x 25 columns]"
      ]
     },
     "execution_count": 10,
     "metadata": {},
     "output_type": "execute_result"
    }
   ],
   "source": [
    "data.head(2)"
   ]
  },
  {
   "cell_type": "code",
   "execution_count": 11,
   "metadata": {},
   "outputs": [
    {
     "name": "stdout",
     "output_type": "stream",
     "text": [
      "column emp_title has 8180 unique values\n",
      "column emp_length has 14 unique values\n",
      "column home_ownership has 5 unique values\n",
      "column verification_status has 3 unique values\n",
      "column pymnt_plan has 2 unique values\n",
      "column purpose_cat has 27 unique values\n",
      "column purpose has 5672 unique values\n",
      "column zip_code has 720 unique values\n",
      "column addr_state has 50 unique values\n",
      "column earliest_cr_line has 463 unique values\n",
      "column initial_list_status has 2 unique values\n",
      "column policy_code has 5 unique values\n"
     ]
    }
   ],
   "source": [
    "# checking no of unique values of categorical columns\n",
    "\n",
    "for i in data.select_dtypes([\"object\"]).columns:\n",
    "    print(\"column {} has {} unique values\".format(i,data[i].nunique()))"
   ]
  },
  {
   "cell_type": "markdown",
   "metadata": {},
   "source": [
    "### Deleting columns based on no of unique values\n",
    "* \"emp_title\" because it has 8180 unique values so we will delete tis feature.\n",
    "* \"Purpose\" has 5672 unique values and it is also same as \"purpose_cat\" so we will also delete this.\n",
    "* \"zip_code\" has 720 unique values and also last two digits are \"XX\" so we will delete this.\n",
    "* \"earliest_cr_line\" has unique values and also date column for past years."
   ]
  },
  {
   "cell_type": "code",
   "execution_count": 12,
   "metadata": {},
   "outputs": [],
   "source": [
    "# deleting columns \"earliest_cr_line\",\"zip_code\",\"emp_title\",\"purpose\" and \"Id\"\n",
    "\n",
    "data.drop([\"earliest_cr_line\",\"zip_code\",\"emp_title\",\"purpose\",\"Id\"],axis=1,inplace=True)"
   ]
  },
  {
   "cell_type": "code",
   "execution_count": 13,
   "metadata": {},
   "outputs": [
    {
     "data": {
      "text/plain": [
       "f    9983\n",
       "m      17\n",
       "Name: initial_list_status, dtype: int64"
      ]
     },
     "execution_count": 13,
     "metadata": {},
     "output_type": "execute_result"
    }
   ],
   "source": [
    "data[\"initial_list_status\"].value_counts()"
   ]
  },
  {
   "cell_type": "code",
   "execution_count": 14,
   "metadata": {},
   "outputs": [
    {
     "data": {
      "text/plain": [
       "n    9998\n",
       "y       2\n",
       "Name: pymnt_plan, dtype: int64"
      ]
     },
     "execution_count": 14,
     "metadata": {},
     "output_type": "execute_result"
    }
   ],
   "source": [
    "data[\"pymnt_plan\"].value_counts()"
   ]
  },
  {
   "cell_type": "code",
   "execution_count": 15,
   "metadata": {},
   "outputs": [
    {
     "data": {
      "text/plain": [
       "0.0    9968\n",
       "Name: collections_12_mths_ex_med, dtype: int64"
      ]
     },
     "execution_count": 15,
     "metadata": {},
     "output_type": "execute_result"
    }
   ],
   "source": [
    "data[\"collections_12_mths_ex_med\"].value_counts()"
   ]
  },
  {
   "cell_type": "markdown",
   "metadata": {},
   "source": [
    "* **delete \"collections_12_mths_ex_med\" because it has only one value i.e 0**\n",
    "* **\"initial_list_status\" and \"payment_plan\" have one category of more than 99% so we will delete these columns**"
   ]
  },
  {
   "cell_type": "code",
   "execution_count": 16,
   "metadata": {},
   "outputs": [],
   "source": [
    "# deleting \"collections_12_mths_ex_med\",\"initial_list_status\" and \"pymnt_plan\"\n",
    "\n",
    "data.drop([\"collections_12_mths_ex_med\",\"initial_list_status\",\"pymnt_plan\"],axis=1,inplace=True)"
   ]
  },
  {
   "cell_type": "code",
   "execution_count": 17,
   "metadata": {},
   "outputs": [
    {
     "data": {
      "text/plain": [
       "annual_inc        float64\n",
       "delinq_2yrs       float64\n",
       "inq_last_6mths    float64\n",
       "open_acc          float64\n",
       "pub_rec           float64\n",
       "revol_util        float64\n",
       "total_acc         float64\n",
       "dtype: object"
      ]
     },
     "execution_count": 17,
     "metadata": {},
     "output_type": "execute_result"
    }
   ],
   "source": [
    "# checking datatypes of columns which have null values\n",
    "\n",
    "na_columns=data.isnull().sum()\n",
    "na_columns=na_columns[na_columns.values>0]\n",
    "na_columns=data[na_columns.index].dtypes\n",
    "na_columns"
   ]
  },
  {
   "cell_type": "markdown",
   "metadata": {},
   "source": [
    "* **we have only numeric column which have null values**\n",
    "* **So Imputing missing values for numeric variable with thier mean according to target variable**"
   ]
  },
  {
   "cell_type": "code",
   "execution_count": 20,
   "metadata": {},
   "outputs": [],
   "source": [
    "#imputing null values\n",
    "\n",
    "for i in data.columns:\n",
    "    if (data[i].isnull().sum())>0:\n",
    "        data.loc[(data[i].isnull()) & (data[\"is_bad\"]==0),i]=data.loc[data[\"is_bad\"]==0,i].mean()\n",
    "        data.loc[(data[i].isnull()) & (data[\"is_bad\"]==1),i]=data.loc[data[\"is_bad\"]==1,i].mean()"
   ]
  },
  {
   "cell_type": "code",
   "execution_count": 22,
   "metadata": {},
   "outputs": [],
   "source": [
    "# chanfe emp_length to numeric beacuse it is supposed to be numeric\n",
    "\n",
    "data[\"emp_length\"]=pd.to_numeric(data[\"emp_length\"],errors=\"coerce\")\n",
    "data.loc[data[\"emp_length\"].isnull(),\"emp_length\"]=round(data[\"emp_length\"].mean())"
   ]
  },
  {
   "cell_type": "code",
   "execution_count": 23,
   "metadata": {},
   "outputs": [],
   "source": [
    "# replcaing all categories to \"small business\" those have category like \"%small category%\"\n",
    "\n",
    "data['purpose_cat']=data['purpose_cat'].replace({\"small business small business\":\"small business\"})\n",
    "data['purpose_cat']=data['purpose_cat'].replace({\"home improvement small business\":\"small business\"})\n",
    "data['purpose_cat']=data['purpose_cat'].replace({\"major purchase small business\":\"small business\"})\n",
    "data['purpose_cat']=data['purpose_cat'].replace({\"small business small business\":\"small business\"})\n",
    "data['purpose_cat']=data['purpose_cat'].replace({\"educational small business\":\"small business\"})\n",
    "data['purpose_cat']=data['purpose_cat'].replace({\"car small business\":\"small business\"})\n",
    "data['purpose_cat']=data['purpose_cat'].replace({\"house small business\":\"small business\"})\n",
    "data['purpose_cat']=data['purpose_cat'].replace({\"moving small business\":\"small business\"})\n",
    "data['purpose_cat']=data['purpose_cat'].replace({\"debt consolidation small business\":\"small business\"})\n",
    "data['purpose_cat']=data['purpose_cat'].replace({\"vacation small business\":\"small business\"})\n",
    "data['purpose_cat']=data['purpose_cat'].replace({\"wedding small business\":\"small business\"})\n",
    "data['purpose_cat']=data['purpose_cat'].replace({\"medical small business\":\"small business\"})\n",
    "data['purpose_cat']=data['purpose_cat'].replace({\"other small business\":\"small business\"})\n",
    "data['purpose_cat']=data['purpose_cat'].replace({\"credit card small business\":\"small business\"})"
   ]
  },
  {
   "cell_type": "code",
   "execution_count": 24,
   "metadata": {},
   "outputs": [
    {
     "data": {
      "text/html": [
       "<div>\n",
       "<style scoped>\n",
       "    .dataframe tbody tr th:only-of-type {\n",
       "        vertical-align: middle;\n",
       "    }\n",
       "\n",
       "    .dataframe tbody tr th {\n",
       "        vertical-align: top;\n",
       "    }\n",
       "\n",
       "    .dataframe thead th {\n",
       "        text-align: right;\n",
       "    }\n",
       "</style>\n",
       "<table border=\"1\" class=\"dataframe\">\n",
       "  <thead>\n",
       "    <tr style=\"text-align: right;\">\n",
       "      <th></th>\n",
       "      <th>is_bad</th>\n",
       "      <th>emp_length</th>\n",
       "      <th>annual_inc</th>\n",
       "      <th>debt_to_income</th>\n",
       "      <th>delinq_2yrs</th>\n",
       "      <th>inq_last_6mths</th>\n",
       "      <th>open_acc</th>\n",
       "      <th>pub_rec</th>\n",
       "      <th>revol_bal</th>\n",
       "      <th>revol_util</th>\n",
       "      <th>total_acc</th>\n",
       "      <th>mths_since_last_major_derog</th>\n",
       "    </tr>\n",
       "  </thead>\n",
       "  <tbody>\n",
       "    <tr>\n",
       "      <th>count</th>\n",
       "      <td>10000.000000</td>\n",
       "      <td>10000.000000</td>\n",
       "      <td>10000.000000</td>\n",
       "      <td>10000.000000</td>\n",
       "      <td>10000.000000</td>\n",
       "      <td>10000.000000</td>\n",
       "      <td>10000.000000</td>\n",
       "      <td>10000.000000</td>\n",
       "      <td>1.000000e+04</td>\n",
       "      <td>10000.000000</td>\n",
       "      <td>10000.000000</td>\n",
       "      <td>10000.000000</td>\n",
       "    </tr>\n",
       "    <tr>\n",
       "      <th>mean</th>\n",
       "      <td>0.129500</td>\n",
       "      <td>4.988900</td>\n",
       "      <td>68203.107074</td>\n",
       "      <td>13.338704</td>\n",
       "      <td>0.148172</td>\n",
       "      <td>1.066934</td>\n",
       "      <td>9.334585</td>\n",
       "      <td>0.060129</td>\n",
       "      <td>1.427101e+04</td>\n",
       "      <td>48.449759</td>\n",
       "      <td>22.011431</td>\n",
       "      <td>2.002200</td>\n",
       "    </tr>\n",
       "    <tr>\n",
       "      <th>std</th>\n",
       "      <td>0.335769</td>\n",
       "      <td>3.404253</td>\n",
       "      <td>48587.823880</td>\n",
       "      <td>6.754212</td>\n",
       "      <td>0.506143</td>\n",
       "      <td>1.475683</td>\n",
       "      <td>4.525458</td>\n",
       "      <td>0.251182</td>\n",
       "      <td>2.543791e+04</td>\n",
       "      <td>28.184028</td>\n",
       "      <td>11.706473</td>\n",
       "      <td>0.810963</td>\n",
       "    </tr>\n",
       "    <tr>\n",
       "      <th>min</th>\n",
       "      <td>0.000000</td>\n",
       "      <td>1.000000</td>\n",
       "      <td>2000.000000</td>\n",
       "      <td>0.000000</td>\n",
       "      <td>0.000000</td>\n",
       "      <td>0.000000</td>\n",
       "      <td>1.000000</td>\n",
       "      <td>0.000000</td>\n",
       "      <td>0.000000e+00</td>\n",
       "      <td>0.000000</td>\n",
       "      <td>1.000000</td>\n",
       "      <td>1.000000</td>\n",
       "    </tr>\n",
       "    <tr>\n",
       "      <th>25%</th>\n",
       "      <td>0.000000</td>\n",
       "      <td>2.000000</td>\n",
       "      <td>40000.000000</td>\n",
       "      <td>8.160000</td>\n",
       "      <td>0.000000</td>\n",
       "      <td>0.000000</td>\n",
       "      <td>6.000000</td>\n",
       "      <td>0.000000</td>\n",
       "      <td>3.524500e+03</td>\n",
       "      <td>25.000000</td>\n",
       "      <td>13.000000</td>\n",
       "      <td>1.000000</td>\n",
       "    </tr>\n",
       "    <tr>\n",
       "      <th>50%</th>\n",
       "      <td>0.000000</td>\n",
       "      <td>4.000000</td>\n",
       "      <td>58000.000000</td>\n",
       "      <td>13.410000</td>\n",
       "      <td>0.000000</td>\n",
       "      <td>1.000000</td>\n",
       "      <td>9.000000</td>\n",
       "      <td>0.000000</td>\n",
       "      <td>8.645500e+03</td>\n",
       "      <td>48.550000</td>\n",
       "      <td>20.000000</td>\n",
       "      <td>2.000000</td>\n",
       "    </tr>\n",
       "    <tr>\n",
       "      <th>75%</th>\n",
       "      <td>0.000000</td>\n",
       "      <td>8.000000</td>\n",
       "      <td>82000.000000</td>\n",
       "      <td>18.692500</td>\n",
       "      <td>0.000000</td>\n",
       "      <td>2.000000</td>\n",
       "      <td>12.000000</td>\n",
       "      <td>0.000000</td>\n",
       "      <td>1.695225e+04</td>\n",
       "      <td>71.800000</td>\n",
       "      <td>29.000000</td>\n",
       "      <td>3.000000</td>\n",
       "    </tr>\n",
       "    <tr>\n",
       "      <th>max</th>\n",
       "      <td>1.000000</td>\n",
       "      <td>33.000000</td>\n",
       "      <td>900000.000000</td>\n",
       "      <td>29.990000</td>\n",
       "      <td>11.000000</td>\n",
       "      <td>25.000000</td>\n",
       "      <td>39.000000</td>\n",
       "      <td>3.000000</td>\n",
       "      <td>1.207359e+06</td>\n",
       "      <td>100.600000</td>\n",
       "      <td>90.000000</td>\n",
       "      <td>3.000000</td>\n",
       "    </tr>\n",
       "  </tbody>\n",
       "</table>\n",
       "</div>"
      ],
      "text/plain": [
       "             is_bad    emp_length     annual_inc  debt_to_income  \\\n",
       "count  10000.000000  10000.000000   10000.000000    10000.000000   \n",
       "mean       0.129500      4.988900   68203.107074       13.338704   \n",
       "std        0.335769      3.404253   48587.823880        6.754212   \n",
       "min        0.000000      1.000000    2000.000000        0.000000   \n",
       "25%        0.000000      2.000000   40000.000000        8.160000   \n",
       "50%        0.000000      4.000000   58000.000000       13.410000   \n",
       "75%        0.000000      8.000000   82000.000000       18.692500   \n",
       "max        1.000000     33.000000  900000.000000       29.990000   \n",
       "\n",
       "        delinq_2yrs  inq_last_6mths      open_acc       pub_rec     revol_bal  \\\n",
       "count  10000.000000    10000.000000  10000.000000  10000.000000  1.000000e+04   \n",
       "mean       0.148172        1.066934      9.334585      0.060129  1.427101e+04   \n",
       "std        0.506143        1.475683      4.525458      0.251182  2.543791e+04   \n",
       "min        0.000000        0.000000      1.000000      0.000000  0.000000e+00   \n",
       "25%        0.000000        0.000000      6.000000      0.000000  3.524500e+03   \n",
       "50%        0.000000        1.000000      9.000000      0.000000  8.645500e+03   \n",
       "75%        0.000000        2.000000     12.000000      0.000000  1.695225e+04   \n",
       "max       11.000000       25.000000     39.000000      3.000000  1.207359e+06   \n",
       "\n",
       "         revol_util     total_acc  mths_since_last_major_derog  \n",
       "count  10000.000000  10000.000000                 10000.000000  \n",
       "mean      48.449759     22.011431                     2.002200  \n",
       "std       28.184028     11.706473                     0.810963  \n",
       "min        0.000000      1.000000                     1.000000  \n",
       "25%       25.000000     13.000000                     1.000000  \n",
       "50%       48.550000     20.000000                     2.000000  \n",
       "75%       71.800000     29.000000                     3.000000  \n",
       "max      100.600000     90.000000                     3.000000  "
      ]
     },
     "execution_count": 24,
     "metadata": {},
     "output_type": "execute_result"
    }
   ],
   "source": [
    "# checking various stats for numeric columns\n",
    "\n",
    "data.describe()"
   ]
  },
  {
   "cell_type": "code",
   "execution_count": 25,
   "metadata": {},
   "outputs": [
    {
     "data": {
      "text/html": [
       "<div>\n",
       "<style scoped>\n",
       "    .dataframe tbody tr th:only-of-type {\n",
       "        vertical-align: middle;\n",
       "    }\n",
       "\n",
       "    .dataframe tbody tr th {\n",
       "        vertical-align: top;\n",
       "    }\n",
       "\n",
       "    .dataframe thead th {\n",
       "        text-align: right;\n",
       "    }\n",
       "</style>\n",
       "<table border=\"1\" class=\"dataframe\">\n",
       "  <thead>\n",
       "    <tr style=\"text-align: right;\">\n",
       "      <th></th>\n",
       "      <th>home_ownership</th>\n",
       "      <th>verification_status</th>\n",
       "      <th>purpose_cat</th>\n",
       "      <th>addr_state</th>\n",
       "      <th>policy_code</th>\n",
       "    </tr>\n",
       "  </thead>\n",
       "  <tbody>\n",
       "    <tr>\n",
       "      <th>count</th>\n",
       "      <td>10000</td>\n",
       "      <td>10000</td>\n",
       "      <td>10000</td>\n",
       "      <td>10000</td>\n",
       "      <td>10000</td>\n",
       "    </tr>\n",
       "    <tr>\n",
       "      <th>unique</th>\n",
       "      <td>5</td>\n",
       "      <td>3</td>\n",
       "      <td>14</td>\n",
       "      <td>50</td>\n",
       "      <td>5</td>\n",
       "    </tr>\n",
       "    <tr>\n",
       "      <th>top</th>\n",
       "      <td>RENT</td>\n",
       "      <td>not verified</td>\n",
       "      <td>debt consolidation</td>\n",
       "      <td>CA</td>\n",
       "      <td>PC3</td>\n",
       "    </tr>\n",
       "    <tr>\n",
       "      <th>freq</th>\n",
       "      <td>4745</td>\n",
       "      <td>4367</td>\n",
       "      <td>4454</td>\n",
       "      <td>1748</td>\n",
       "      <td>2098</td>\n",
       "    </tr>\n",
       "  </tbody>\n",
       "</table>\n",
       "</div>"
      ],
      "text/plain": [
       "       home_ownership verification_status         purpose_cat addr_state  \\\n",
       "count           10000               10000               10000      10000   \n",
       "unique              5                   3                  14         50   \n",
       "top              RENT        not verified  debt consolidation         CA   \n",
       "freq             4745                4367                4454       1748   \n",
       "\n",
       "       policy_code  \n",
       "count        10000  \n",
       "unique           5  \n",
       "top            PC3  \n",
       "freq          2098  "
      ]
     },
     "execution_count": 25,
     "metadata": {},
     "output_type": "execute_result"
    }
   ],
   "source": [
    "# checking some stats on categorical columns\n",
    "\n",
    "categorical_columns=data.select_dtypes([\"object\"]).columns\n",
    "data[categorical_columns].describe()"
   ]
  },
  {
   "cell_type": "markdown",
   "metadata": {},
   "source": [
    "## Univariate Analysis"
   ]
  },
  {
   "cell_type": "code",
   "execution_count": 26,
   "metadata": {},
   "outputs": [
    {
     "data": {
      "text/plain": [
       "Text(0.5, 1.0, 'Boxplot for Annual income')"
      ]
     },
     "execution_count": 26,
     "metadata": {},
     "output_type": "execute_result"
    },
    {
     "data": {
      "image/png": "[encoded data removed]",
      "text/plain": [
       "<Figure size 432x288 with 1 Axes>"
      ]
     },
     "metadata": {
      "needs_background": "light"
     },
     "output_type": "display_data"
    }
   ],
   "source": [
    "#boxplot for \"annual income\" feature\n",
    "\n",
    "sns.boxplot(x=data[\"annual_inc\"])\n",
    "plt.title(\"Boxplot for Annual income\",fontsize=(20))"
   ]
  },
  {
   "cell_type": "code",
   "execution_count": 27,
   "metadata": {},
   "outputs": [],
   "source": [
    "# removing outliers from annual_inc features\n",
    "\n",
    "data.loc[data[\"annual_inc\"]>600000,\"annual_inc\"]=600000"
   ]
  },
  {
   "cell_type": "code",
   "execution_count": 28,
   "metadata": {},
   "outputs": [
    {
     "data": {
      "text/plain": [
       "Text(0.5, 1.0, 'Boxplot for No of inquiries in last 6 months')"
      ]
     },
     "execution_count": 28,
     "metadata": {},
     "output_type": "execute_result"
    },
    {
     "data": {
      "image/png": "[encoded data removed]",
      "text/plain": [
       "<Figure size 432x288 with 1 Axes>"
      ]
     },
     "metadata": {
      "needs_background": "light"
     },
     "output_type": "display_data"
    }
   ],
   "source": [
    "# for \"inq_last_6mths\"\n",
    "\n",
    "sns.boxplot(data=data,x=\"inq_last_6mths\")\n",
    "plt.title(\"Boxplot for No of inquiries in last 6 months\",fontsize=(20))"
   ]
  },
  {
   "cell_type": "code",
   "execution_count": 29,
   "metadata": {},
   "outputs": [],
   "source": [
    "# changing the values for the outliers\n",
    "\n",
    "data.loc[data[\"inq_last_6mths\"]>5,\"inq_last_6mths\"]=5"
   ]
  },
  {
   "cell_type": "code",
   "execution_count": 30,
   "metadata": {},
   "outputs": [
    {
     "data": {
      "text/plain": [
       "Text(0.5, 1.0, 'Boxplot for employement length')"
      ]
     },
     "execution_count": 30,
     "metadata": {},
     "output_type": "execute_result"
    },
    {
     "data": {
      "image/png": "[encoded data removed]",
      "text/plain": [
       "<Figure size 432x288 with 1 Axes>"
      ]
     },
     "metadata": {
      "needs_background": "light"
     },
     "output_type": "display_data"
    }
   ],
   "source": [
    "# for \"emp_length\"\n",
    "\n",
    "sns.boxplot(x=data[\"emp_length\"])\n",
    "plt.title(\"Boxplot for employement length\",fontsize=(20))"
   ]
  },
  {
   "cell_type": "code",
   "execution_count": 31,
   "metadata": {},
   "outputs": [],
   "source": [
    "data=data.loc[data[\"emp_length\"]<15,]"
   ]
  },
  {
   "cell_type": "code",
   "execution_count": 32,
   "metadata": {},
   "outputs": [
    {
     "data": {
      "text/plain": [
       "Text(0.5, 1.0, 'Boxplot for debt to income ratio')"
      ]
     },
     "execution_count": 32,
     "metadata": {},
     "output_type": "execute_result"
    },
    {
     "data": {
      "image/png": "[encoded data removed]",
      "text/plain": [
       "<Figure size 432x288 with 1 Axes>"
      ]
     },
     "metadata": {
      "needs_background": "light"
     },
     "output_type": "display_data"
    }
   ],
   "source": [
    "# for \"total_acc\"\n",
    "\n",
    "sns.boxplot(x=data[\"debt_to_income\"])\n",
    "plt.title(\"Boxplot for debt to income ratio\",fontsize=(20))"
   ]
  },
  {
   "cell_type": "code",
   "execution_count": 33,
   "metadata": {},
   "outputs": [
    {
     "data": {
      "text/plain": [
       "Text(0.5, 1.0, 'Boxplot for total accounts')"
      ]
     },
     "execution_count": 33,
     "metadata": {},
     "output_type": "execute_result"
    },
    {
     "data": {
      "image/png": "[encoded data removed]",
      "text/plain": [
       "<Figure size 432x288 with 1 Axes>"
      ]
     },
     "metadata": {
      "needs_background": "light"
     },
     "output_type": "display_data"
    }
   ],
   "source": [
    "# for \"total_acc\"\n",
    "\n",
    "sns.boxplot(x=data[\"total_acc\"])\n",
    "plt.title(\"Boxplot for total accounts\",fontsize=(20))"
   ]
  },
  {
   "cell_type": "code",
   "execution_count": 34,
   "metadata": {},
   "outputs": [
    {
     "data": {
      "text/plain": [
       "Text(0.5, 1.0, 'Distribution plot for annual income')"
      ]
     },
     "execution_count": 34,
     "metadata": {},
     "output_type": "execute_result"
    },
    {
     "data": {
      "image/png": "[encoded data removed]",
      "text/plain": [
       "<Figure size 432x288 with 1 Axes>"
      ]
     },
     "metadata": {
      "needs_background": "light"
     },
     "output_type": "display_data"
    }
   ],
   "source": [
    "# distribution plot for \"annual_inc\"\n",
    "\n",
    "sns.distplot(data[\"annual_inc\"])\n",
    "plt.title(\"Distribution plot for annual income\",fontsize=20)"
   ]
  },
  {
   "cell_type": "code",
   "execution_count": 35,
   "metadata": {},
   "outputs": [
    {
     "data": {
      "text/plain": [
       "Text(0.5, 1.0, 'Distribution plot for Debt to income ratio')"
      ]
     },
     "execution_count": 35,
     "metadata": {},
     "output_type": "execute_result"
    },
    {
     "data": {
      "image/png": "[encoded data removed]",
      "text/plain": [
       "<Figure size 432x288 with 1 Axes>"
      ]
     },
     "metadata": {
      "needs_background": "light"
     },
     "output_type": "display_data"
    }
   ],
   "source": [
    "# distribution plot for \"debt_to_income\"\n",
    "\n",
    "sns.distplot(data[\"debt_to_income\"])\n",
    "plt.title(\"Distribution plot for Debt to income ratio\",fontsize=16)"
   ]
  },
  {
   "cell_type": "code",
   "execution_count": 36,
   "metadata": {},
   "outputs": [
    {
     "data": {
      "text/plain": [
       "Text(0.5, 1.0, 'distibution plot for total accounts')"
      ]
     },
     "execution_count": 36,
     "metadata": {},
     "output_type": "execute_result"
    },
    {
     "data": {
      "image/png": "[encoded data removed]",
      "text/plain": [
       "<Figure size 432x288 with 1 Axes>"
      ]
     },
     "metadata": {
      "needs_background": "light"
     },
     "output_type": "display_data"
    }
   ],
   "source": [
    "# distribution plot for \"total_acc\"\n",
    "\n",
    "sns.distplot(data[\"total_acc\"])\n",
    "plt.title(\"distibution plot for total accounts\",fontsize=20)"
   ]
  },
  {
   "cell_type": "code",
   "execution_count": 37,
   "metadata": {},
   "outputs": [
    {
     "data": {
      "text/plain": [
       "Text(0.5, 1.0, 'distribution plot for Employement length')"
      ]
     },
     "execution_count": 37,
     "metadata": {},
     "output_type": "execute_result"
    },
    {
     "data": {
      "image/png": "[encoded data removed]",
      "text/plain": [
       "<Figure size 432x288 with 1 Axes>"
      ]
     },
     "metadata": {
      "needs_background": "light"
     },
     "output_type": "display_data"
    }
   ],
   "source": [
    "# distribution plot for \"emp_length\"\n",
    "\n",
    "sns.distplot(data[\"emp_length\"])\n",
    "plt.title(\"distribution plot for Employement length\",fontsize=16)"
   ]
  },
  {
   "cell_type": "code",
   "execution_count": 38,
   "metadata": {},
   "outputs": [
    {
     "data": {
      "text/plain": [
       "array([<matplotlib.axes._subplots.AxesSubplot object at 0x000002245982E198>],\n",
       "      dtype=object)"
      ]
     },
     "execution_count": 38,
     "metadata": {},
     "output_type": "execute_result"
    },
    {
     "data": {
      "image/png": "[encoded data removed]",
      "text/plain": [
       "<Figure size 648x432 with 1 Axes>"
      ]
     },
     "metadata": {},
     "output_type": "display_data"
    }
   ],
   "source": [
    "data['policy_code'].value_counts().plot(kind='pie', figsize=(9,6), title='percentage of policy_code categories', subplots=True, autopct='%.f%%')"
   ]
  },
  {
   "cell_type": "code",
   "execution_count": 39,
   "metadata": {},
   "outputs": [
    {
     "data": {
      "text/plain": [
       "<matplotlib.image.AxesImage at 0x224598877f0>"
      ]
     },
     "execution_count": 39,
     "metadata": {},
     "output_type": "execute_result"
    },
    {
     "data": {
      "image/png": "[encoded data removed]",
      "text/plain": [
       "<Figure size 432x288 with 1 Axes>"
      ]
     },
     "metadata": {
      "needs_background": "light"
     },
     "output_type": "display_data"
    }
   ],
   "source": [
    "from wordcloud import WordCloud,STOPWORDS\n",
    "purpose_cat=\" \".join(data[\"purpose_cat\"])\n",
    "wordcloud=WordCloud(stopwords=STOPWORDS,background_color=\"white\",width=400,height=250).generate(purpose_cat)\n",
    "plt.imshow(wordcloud)"
   ]
  },
  {
   "cell_type": "code",
   "execution_count": 40,
   "metadata": {},
   "outputs": [
    {
     "data": {
      "text/plain": [
       "array([<matplotlib.axes._subplots.AxesSubplot object at 0x00000224598978D0>],\n",
       "      dtype=object)"
      ]
     },
     "execution_count": 40,
     "metadata": {},
     "output_type": "execute_result"
    },
    {
     "data": {
      "image/png": "[encoded data removed]",
      "text/plain": [
       "<Figure size 792x504 with 1 Axes>"
      ]
     },
     "metadata": {},
     "output_type": "display_data"
    }
   ],
   "source": [
    "data['purpose_cat'].value_counts().plot(kind='pie', figsize=(11,7), title='percentage of purpose categories', subplots=True, autopct='%.f%%')"
   ]
  },
  {
   "cell_type": "code",
   "execution_count": 41,
   "metadata": {},
   "outputs": [
    {
     "data": {
      "text/plain": [
       "array([<matplotlib.axes._subplots.AxesSubplot object at 0x00000224598B7470>],\n",
       "      dtype=object)"
      ]
     },
     "execution_count": 41,
     "metadata": {},
     "output_type": "execute_result"
    },
    {
     "data": {
      "image/png": "[encoded data removed]",
      "text/plain": [
       "<Figure size 792x504 with 1 Axes>"
      ]
     },
     "metadata": {},
     "output_type": "display_data"
    }
   ],
   "source": [
    "data['verification_status'].value_counts().plot(kind='pie', figsize=(11,7), title='percentage of verification_status categories', subplots=True, autopct='%.f%%')"
   ]
  },
  {
   "cell_type": "code",
   "execution_count": 42,
   "metadata": {},
   "outputs": [
    {
     "data": {
      "text/plain": [
       "array([<matplotlib.axes._subplots.AxesSubplot object at 0x00000224598C8208>],\n",
       "      dtype=object)"
      ]
     },
     "execution_count": 42,
     "metadata": {},
     "output_type": "execute_result"
    },
    {
     "data": {
      "image/png": "[encoded data removed]",
      "text/plain": [
       "<Figure size 792x504 with 1 Axes>"
      ]
     },
     "metadata": {},
     "output_type": "display_data"
    }
   ],
   "source": [
    "data['home_ownership'].value_counts().plot(kind='pie', figsize=(11,7), title='percentage of home_ownership categories', subplots=True, autopct='%.f%%')"
   ]
  },
  {
   "cell_type": "markdown",
   "metadata": {},
   "source": [
    "## Bivariate Analysis"
   ]
  },
  {
   "cell_type": "code",
   "execution_count": 43,
   "metadata": {},
   "outputs": [
    {
     "data": {
      "text/plain": [
       "Text(0, 0.5, 'count of customers')"
      ]
     },
     "execution_count": 43,
     "metadata": {},
     "output_type": "execute_result"
    },
    {
     "data": {
      "image/png": "[encoded data removed]",
      "text/plain": [
       "<Figure size 432x288 with 1 Axes>"
      ]
     },
     "metadata": {
      "needs_background": "light"
     },
     "output_type": "display_data"
    }
   ],
   "source": [
    "# check home ownership categories with respect to target variable\n",
    "\n",
    "sns.countplot(data=data,x=\"home_ownership\",hue=\"is_bad\")\n",
    "plt.title(\"count of customers for home _ownership with the target variable\",fontsize=12)\n",
    "plt.ylabel(\"count of customers\")"
   ]
  },
  {
   "cell_type": "code",
   "execution_count": 44,
   "metadata": {},
   "outputs": [
    {
     "data": {
      "text/html": [
       "<style  type=\"text/css\" >\n",
       "    #T_c9876ac8_4405_11ea_b5b5_3ca82abc3f9frow0_col0 {\n",
       "            background-color:  #d4f6d4;\n",
       "        }    #T_c9876ac8_4405_11ea_b5b5_3ca82abc3f9frow0_col1 {\n",
       "            background-color:  #dbf9db;\n",
       "        }    #T_c9876ac8_4405_11ea_b5b5_3ca82abc3f9frow1_col0 {\n",
       "            background-color:  #a2daa2;\n",
       "        }    #T_c9876ac8_4405_11ea_b5b5_3ca82abc3f9frow1_col1 {\n",
       "            background-color:  #b9e7b9;\n",
       "        }    #T_c9876ac8_4405_11ea_b5b5_3ca82abc3f9frow2_col0 {\n",
       "            background-color:  #008000;\n",
       "        }    #T_c9876ac8_4405_11ea_b5b5_3ca82abc3f9frow2_col1 {\n",
       "            background-color:  #008000;\n",
       "        }    #T_c9876ac8_4405_11ea_b5b5_3ca82abc3f9frow3_col0 {\n",
       "            background-color:  #e1fde1;\n",
       "        }    #T_c9876ac8_4405_11ea_b5b5_3ca82abc3f9frow3_col1 {\n",
       "            background-color:  #e5ffe5;\n",
       "        }    #T_c9876ac8_4405_11ea_b5b5_3ca82abc3f9frow4_col0 {\n",
       "            background-color:  #bde9bd;\n",
       "        }    #T_c9876ac8_4405_11ea_b5b5_3ca82abc3f9frow4_col1 {\n",
       "            background-color:  #c2ebc2;\n",
       "        }    #T_c9876ac8_4405_11ea_b5b5_3ca82abc3f9frow5_col0 {\n",
       "            background-color:  #e2fde2;\n",
       "        }    #T_c9876ac8_4405_11ea_b5b5_3ca82abc3f9frow5_col1 {\n",
       "            background-color:  #e5ffe5;\n",
       "        }    #T_c9876ac8_4405_11ea_b5b5_3ca82abc3f9frow6_col0 {\n",
       "            background-color:  #caf0ca;\n",
       "        }    #T_c9876ac8_4405_11ea_b5b5_3ca82abc3f9frow6_col1 {\n",
       "            background-color:  #d0f3d0;\n",
       "        }    #T_c9876ac8_4405_11ea_b5b5_3ca82abc3f9frow7_col0 {\n",
       "            background-color:  #ddfbdd;\n",
       "        }    #T_c9876ac8_4405_11ea_b5b5_3ca82abc3f9frow7_col1 {\n",
       "            background-color:  #dcfadc;\n",
       "        }    #T_c9876ac8_4405_11ea_b5b5_3ca82abc3f9frow8_col0 {\n",
       "            background-color:  #defbde;\n",
       "        }    #T_c9876ac8_4405_11ea_b5b5_3ca82abc3f9frow8_col1 {\n",
       "            background-color:  #e1fde1;\n",
       "        }    #T_c9876ac8_4405_11ea_b5b5_3ca82abc3f9frow9_col0 {\n",
       "            background-color:  #b2e3b2;\n",
       "        }    #T_c9876ac8_4405_11ea_b5b5_3ca82abc3f9frow9_col1 {\n",
       "            background-color:  #b0e1b0;\n",
       "        }    #T_c9876ac8_4405_11ea_b5b5_3ca82abc3f9frow10_col0 {\n",
       "            background-color:  #e5ffe5;\n",
       "        }    #T_c9876ac8_4405_11ea_b5b5_3ca82abc3f9frow10_col1 {\n",
       "            background-color:  #e5ffe5;\n",
       "        }    #T_c9876ac8_4405_11ea_b5b5_3ca82abc3f9frow11_col0 {\n",
       "            background-color:  #d3f5d3;\n",
       "        }    #T_c9876ac8_4405_11ea_b5b5_3ca82abc3f9frow11_col1 {\n",
       "            background-color:  #62b662;\n",
       "        }    #T_c9876ac8_4405_11ea_b5b5_3ca82abc3f9frow12_col0 {\n",
       "            background-color:  #e2fde2;\n",
       "        }    #T_c9876ac8_4405_11ea_b5b5_3ca82abc3f9frow12_col1 {\n",
       "            background-color:  #e3fee3;\n",
       "        }    #T_c9876ac8_4405_11ea_b5b5_3ca82abc3f9frow13_col0 {\n",
       "            background-color:  #d9f8d9;\n",
       "        }    #T_c9876ac8_4405_11ea_b5b5_3ca82abc3f9frow13_col1 {\n",
       "            background-color:  #e1fde1;\n",
       "        }</style>  \n",
       "<table id=\"T_c9876ac8_4405_11ea_b5b5_3ca82abc3f9f\" > \n",
       "<thead>    <tr> \n",
       "        <th class=\"index_name level0\" >is_bad</th> \n",
       "        <th class=\"col_heading level0 col0\" >0</th> \n",
       "        <th class=\"col_heading level0 col1\" >1</th> \n",
       "    </tr>    <tr> \n",
       "        <th class=\"index_name level0\" >purpose_cat</th> \n",
       "        <th class=\"blank\" ></th> \n",
       "        <th class=\"blank\" ></th> \n",
       "    </tr></thead> \n",
       "<tbody>    <tr> \n",
       "        <th id=\"T_c9876ac8_4405_11ea_b5b5_3ca82abc3f9flevel0_row0\" class=\"row_heading level0 row0\" >car</th> \n",
       "        <td id=\"T_c9876ac8_4405_11ea_b5b5_3ca82abc3f9frow0_col0\" class=\"data row0 col0\" >3.68</td> \n",
       "        <td id=\"T_c9876ac8_4405_11ea_b5b5_3ca82abc3f9frow0_col1\" class=\"data row0 col1\" >2.17</td> \n",
       "    </tr>    <tr> \n",
       "        <th id=\"T_c9876ac8_4405_11ea_b5b5_3ca82abc3f9flevel0_row1\" class=\"row_heading level0 row1\" >credit card</th> \n",
       "        <td id=\"T_c9876ac8_4405_11ea_b5b5_3ca82abc3f9frow1_col0\" class=\"data row1 col0\" >13.44</td> \n",
       "        <td id=\"T_c9876ac8_4405_11ea_b5b5_3ca82abc3f9frow1_col1\" class=\"data row1 col1\" >7.99</td> \n",
       "    </tr>    <tr> \n",
       "        <th id=\"T_c9876ac8_4405_11ea_b5b5_3ca82abc3f9flevel0_row2\" class=\"row_heading level0 row2\" >debt consolidation</th> \n",
       "        <td id=\"T_c9876ac8_4405_11ea_b5b5_3ca82abc3f9frow2_col0\" class=\"data row2 col0\" >45.17</td> \n",
       "        <td id=\"T_c9876ac8_4405_11ea_b5b5_3ca82abc3f9frow2_col1\" class=\"data row2 col1\" >40.5</td> \n",
       "    </tr>    <tr> \n",
       "        <th id=\"T_c9876ac8_4405_11ea_b5b5_3ca82abc3f9flevel0_row3\" class=\"row_heading level0 row3\" >educational</th> \n",
       "        <td id=\"T_c9876ac8_4405_11ea_b5b5_3ca82abc3f9frow3_col0\" class=\"data row3 col0\" >1.16</td> \n",
       "        <td id=\"T_c9876ac8_4405_11ea_b5b5_3ca82abc3f9frow3_col1\" class=\"data row3 col1\" >0.47</td> \n",
       "    </tr>    <tr> \n",
       "        <th id=\"T_c9876ac8_4405_11ea_b5b5_3ca82abc3f9flevel0_row4\" class=\"row_heading level0 row4\" >home improvement</th> \n",
       "        <td id=\"T_c9876ac8_4405_11ea_b5b5_3ca82abc3f9frow4_col0\" class=\"data row4 col0\" >8.2</td> \n",
       "        <td id=\"T_c9876ac8_4405_11ea_b5b5_3ca82abc3f9frow4_col1\" class=\"data row4 col1\" >6.59</td> \n",
       "    </tr>    <tr> \n",
       "        <th id=\"T_c9876ac8_4405_11ea_b5b5_3ca82abc3f9flevel0_row5\" class=\"row_heading level0 row5\" >house</th> \n",
       "        <td id=\"T_c9876ac8_4405_11ea_b5b5_3ca82abc3f9frow5_col0\" class=\"data row5 col0\" >1.01</td> \n",
       "        <td id=\"T_c9876ac8_4405_11ea_b5b5_3ca82abc3f9frow5_col1\" class=\"data row5 col1\" >0.47</td> \n",
       "    </tr>    <tr> \n",
       "        <th id=\"T_c9876ac8_4405_11ea_b5b5_3ca82abc3f9flevel0_row6\" class=\"row_heading level0 row6\" >major purchase</th> \n",
       "        <td id=\"T_c9876ac8_4405_11ea_b5b5_3ca82abc3f9frow6_col0\" class=\"data row6 col0\" >5.69</td> \n",
       "        <td id=\"T_c9876ac8_4405_11ea_b5b5_3ca82abc3f9frow6_col1\" class=\"data row6 col1\" >3.96</td> \n",
       "    </tr>    <tr> \n",
       "        <th id=\"T_c9876ac8_4405_11ea_b5b5_3ca82abc3f9flevel0_row7\" class=\"row_heading level0 row7\" >medical</th> \n",
       "        <td id=\"T_c9876ac8_4405_11ea_b5b5_3ca82abc3f9frow7_col0\" class=\"data row7 col0\" >1.82</td> \n",
       "        <td id=\"T_c9876ac8_4405_11ea_b5b5_3ca82abc3f9frow7_col1\" class=\"data row7 col1\" >1.94</td> \n",
       "    </tr>    <tr> \n",
       "        <th id=\"T_c9876ac8_4405_11ea_b5b5_3ca82abc3f9flevel0_row8\" class=\"row_heading level0 row8\" >moving</th> \n",
       "        <td id=\"T_c9876ac8_4405_11ea_b5b5_3ca82abc3f9frow8_col0\" class=\"data row8 col0\" >1.65</td> \n",
       "        <td id=\"T_c9876ac8_4405_11ea_b5b5_3ca82abc3f9frow8_col1\" class=\"data row8 col1\" >1.09</td> \n",
       "    </tr>    <tr> \n",
       "        <th id=\"T_c9876ac8_4405_11ea_b5b5_3ca82abc3f9flevel0_row9\" class=\"row_heading level0 row9\" >other</th> \n",
       "        <td id=\"T_c9876ac8_4405_11ea_b5b5_3ca82abc3f9frow9_col0\" class=\"data row9 col0\" >10.35</td> \n",
       "        <td id=\"T_c9876ac8_4405_11ea_b5b5_3ca82abc3f9frow9_col1\" class=\"data row9 col1\" >9.62</td> \n",
       "    </tr>    <tr> \n",
       "        <th id=\"T_c9876ac8_4405_11ea_b5b5_3ca82abc3f9flevel0_row10\" class=\"row_heading level0 row10\" >renewable energy</th> \n",
       "        <td id=\"T_c9876ac8_4405_11ea_b5b5_3ca82abc3f9frow10_col0\" class=\"data row10 col0\" >0.2</td> \n",
       "        <td id=\"T_c9876ac8_4405_11ea_b5b5_3ca82abc3f9frow10_col1\" class=\"data row10 col1\" >0.16</td> \n",
       "    </tr>    <tr> \n",
       "        <th id=\"T_c9876ac8_4405_11ea_b5b5_3ca82abc3f9flevel0_row11\" class=\"row_heading level0 row11\" >small business</th> \n",
       "        <td id=\"T_c9876ac8_4405_11ea_b5b5_3ca82abc3f9frow11_col0\" class=\"data row11 col0\" >3.96</td> \n",
       "        <td id=\"T_c9876ac8_4405_11ea_b5b5_3ca82abc3f9frow11_col1\" class=\"data row11 col1\" >23.2</td> \n",
       "    </tr>    <tr> \n",
       "        <th id=\"T_c9876ac8_4405_11ea_b5b5_3ca82abc3f9flevel0_row12\" class=\"row_heading level0 row12\" >vacation</th> \n",
       "        <td id=\"T_c9876ac8_4405_11ea_b5b5_3ca82abc3f9frow12_col0\" class=\"data row12 col0\" >0.96</td> \n",
       "        <td id=\"T_c9876ac8_4405_11ea_b5b5_3ca82abc3f9frow12_col1\" class=\"data row12 col1\" >0.78</td> \n",
       "    </tr>    <tr> \n",
       "        <th id=\"T_c9876ac8_4405_11ea_b5b5_3ca82abc3f9flevel0_row13\" class=\"row_heading level0 row13\" >wedding</th> \n",
       "        <td id=\"T_c9876ac8_4405_11ea_b5b5_3ca82abc3f9frow13_col0\" class=\"data row13 col0\" >2.71</td> \n",
       "        <td id=\"T_c9876ac8_4405_11ea_b5b5_3ca82abc3f9frow13_col1\" class=\"data row13 col1\" >1.09</td> \n",
       "    </tr></tbody> \n",
       "</table> "
      ],
      "text/plain": [
       "<pandas.io.formats.style.Styler at 0x224598f31d0>"
      ]
     },
     "execution_count": 44,
     "metadata": {},
     "output_type": "execute_result"
    }
   ],
   "source": [
    "#Exploring the loan_status x purpose\n",
    "purp_loan= ['purpose_cat', 'is_bad']\n",
    "cm = sns.light_palette(\"green\", as_cmap=True)\n",
    "(round(pd.crosstab(data[purp_loan[0]], data[purp_loan[1]], \n",
    "                   normalize='columns') * 100,2)).style.background_gradient(cmap = cm)"
   ]
  },
  {
   "cell_type": "code",
   "execution_count": 45,
   "metadata": {},
   "outputs": [
    {
     "data": {
      "text/plain": [
       "Text(0, 0.5, 'count of customers')"
      ]
     },
     "execution_count": 45,
     "metadata": {},
     "output_type": "execute_result"
    },
    {
     "data": {
      "image/png": "[encoded data removed]",
      "text/plain": [
       "<Figure size 432x288 with 1 Axes>"
      ]
     },
     "metadata": {
      "needs_background": "light"
     },
     "output_type": "display_data"
    }
   ],
   "source": [
    "# check verification status of income with respect to target variable\n",
    "\n",
    "sns.countplot(data=data,x=\"verification_status\",hue=\"is_bad\")\n",
    "plt.title(\"count of customers for Verification status with the target variable\",fontsize=12)\n",
    "plt.ylabel(\"count of customers\")"
   ]
  },
  {
   "cell_type": "code",
   "execution_count": 47,
   "metadata": {},
   "outputs": [
    {
     "data": {
      "text/plain": [
       "Text(0, 0.5, 'count of customers')"
      ]
     },
     "execution_count": 47,
     "metadata": {},
     "output_type": "execute_result"
    },
    {
     "data": {
      "image/png": "[encoded data removed]",
      "text/plain": [
       "<Figure size 432x288 with 1 Axes>"
      ]
     },
     "metadata": {
      "needs_background": "light"
     },
     "output_type": "display_data"
    }
   ],
   "source": [
    "# check policy code categories with respect to target variable\n",
    "\n",
    "sns.countplot(data=data,x=\"policy_code\",hue=\"is_bad\")\n",
    "plt.title(\"count of customers for policy code with the target variable\",fontsize=12)\n",
    "plt.ylabel(\"count of customers\")"
   ]
  },
  {
   "cell_type": "code",
   "execution_count": 48,
   "metadata": {},
   "outputs": [
    {
     "data": {
      "text/plain": [
       "Text(0, 0.5, 'count of customers')"
      ]
     },
     "execution_count": 48,
     "metadata": {},
     "output_type": "execute_result"
    },
    {
     "data": {
      "image/png": "[encoded data removed]",
      "text/plain": [
       "<Figure size 1440x576 with 1 Axes>"
      ]
     },
     "metadata": {
      "needs_background": "light"
     },
     "output_type": "display_data"
    }
   ],
   "source": [
    "# check purpose of loan categories with respect to target variable\n",
    "\n",
    "plt.figure(figsize=(20,8))\n",
    "sns.countplot(data=data,x=\"purpose_cat\",hue=\"is_bad\")\n",
    "plt.xticks(rotation=\"vertical\")\n",
    "plt.ylabel(\"count of customers\")"
   ]
  },
  {
   "cell_type": "code",
   "execution_count": null,
   "metadata": {},
   "outputs": [],
   "source": [
    "sns.boxplot(data =data, x='purpose_cat', y='annual_inc', hue ='is_bad')"
   ]
  },
  {
   "cell_type": "code",
   "execution_count": 49,
   "metadata": {},
   "outputs": [
    {
     "data": {
      "text/plain": [
       "<matplotlib.axes._subplots.AxesSubplot at 0x22459734c88>"
      ]
     },
     "execution_count": 49,
     "metadata": {},
     "output_type": "execute_result"
    },
    {
     "data": {
      "image/png": "[encoded data removed]",
      "text/plain": [
       "<Figure size 1080x576 with 2 Axes>"
      ]
     },
     "metadata": {
      "needs_background": "light"
     },
     "output_type": "display_data"
    }
   ],
   "source": [
    "# plotting graph to check the correlation between numeric variables\n",
    "\n",
    "plt.figure(figsize=(15,8))\n",
    "sns.heatmap(data.corr(),annot=True)"
   ]
  },
  {
   "cell_type": "code",
   "execution_count": 50,
   "metadata": {},
   "outputs": [
    {
     "data": {
      "text/plain": [
       "is_bad\n",
       "0    69007.982894\n",
       "1    61703.286765\n",
       "Name: annual_inc, dtype: float64"
      ]
     },
     "execution_count": 50,
     "metadata": {},
     "output_type": "execute_result"
    }
   ],
   "source": [
    "data.groupby([\"is_bad\"])[\"annual_inc\"].mean()"
   ]
  },
  {
   "cell_type": "code",
   "execution_count": 51,
   "metadata": {},
   "outputs": [
    {
     "name": "stdout",
     "output_type": "stream",
     "text": [
      "now our dataset has 9994 rows and 17 columns\n"
     ]
    }
   ],
   "source": [
    "# checkin no of obeservation and features of our dataset\n",
    "\n",
    "print(\"now our dataset has {} rows and {} columns\".format(data.shape[0],data.shape[1]))"
   ]
  },
  {
   "cell_type": "markdown",
   "metadata": {},
   "source": [
    "### convert the categorical columns into dummy variable to make a model"
   ]
  },
  {
   "cell_type": "code",
   "execution_count": 52,
   "metadata": {},
   "outputs": [],
   "source": [
    "for i in data.select_dtypes([\"object\"]).columns:\n",
    "    new=pd.get_dummies(data[i],prefix=i,)\n",
    "    del data[i]\n",
    "    data=pd.concat([data,new],axis=1)"
   ]
  },
  {
   "cell_type": "code",
   "execution_count": 53,
   "metadata": {},
   "outputs": [
    {
     "data": {
      "text/html": [
       "<div>\n",
       "<style scoped>\n",
       "    .dataframe tbody tr th:only-of-type {\n",
       "        vertical-align: middle;\n",
       "    }\n",
       "\n",
       "    .dataframe tbody tr th {\n",
       "        vertical-align: top;\n",
       "    }\n",
       "\n",
       "    .dataframe thead th {\n",
       "        text-align: right;\n",
       "    }\n",
       "</style>\n",
       "<table border=\"1\" class=\"dataframe\">\n",
       "  <thead>\n",
       "    <tr style=\"text-align: right;\">\n",
       "      <th></th>\n",
       "      <th>is_bad</th>\n",
       "      <th>emp_length</th>\n",
       "      <th>annual_inc</th>\n",
       "      <th>debt_to_income</th>\n",
       "      <th>delinq_2yrs</th>\n",
       "      <th>inq_last_6mths</th>\n",
       "      <th>open_acc</th>\n",
       "      <th>pub_rec</th>\n",
       "      <th>revol_bal</th>\n",
       "      <th>revol_util</th>\n",
       "      <th>...</th>\n",
       "      <th>addr_state_VT</th>\n",
       "      <th>addr_state_WA</th>\n",
       "      <th>addr_state_WI</th>\n",
       "      <th>addr_state_WV</th>\n",
       "      <th>addr_state_WY</th>\n",
       "      <th>policy_code_PC1</th>\n",
       "      <th>policy_code_PC2</th>\n",
       "      <th>policy_code_PC3</th>\n",
       "      <th>policy_code_PC4</th>\n",
       "      <th>policy_code_PC5</th>\n",
       "    </tr>\n",
       "  </thead>\n",
       "  <tbody>\n",
       "    <tr>\n",
       "      <th>0</th>\n",
       "      <td>0</td>\n",
       "      <td>10.0</td>\n",
       "      <td>50000.0</td>\n",
       "      <td>10.87</td>\n",
       "      <td>0.0</td>\n",
       "      <td>0.0</td>\n",
       "      <td>15.0</td>\n",
       "      <td>0.0</td>\n",
       "      <td>12087</td>\n",
       "      <td>12.1</td>\n",
       "      <td>...</td>\n",
       "      <td>0</td>\n",
       "      <td>0</td>\n",
       "      <td>0</td>\n",
       "      <td>0</td>\n",
       "      <td>0</td>\n",
       "      <td>0</td>\n",
       "      <td>0</td>\n",
       "      <td>0</td>\n",
       "      <td>1</td>\n",
       "      <td>0</td>\n",
       "    </tr>\n",
       "    <tr>\n",
       "      <th>1</th>\n",
       "      <td>0</td>\n",
       "      <td>1.0</td>\n",
       "      <td>39216.0</td>\n",
       "      <td>9.15</td>\n",
       "      <td>0.0</td>\n",
       "      <td>2.0</td>\n",
       "      <td>4.0</td>\n",
       "      <td>0.0</td>\n",
       "      <td>10114</td>\n",
       "      <td>64.0</td>\n",
       "      <td>...</td>\n",
       "      <td>0</td>\n",
       "      <td>0</td>\n",
       "      <td>0</td>\n",
       "      <td>0</td>\n",
       "      <td>0</td>\n",
       "      <td>1</td>\n",
       "      <td>0</td>\n",
       "      <td>0</td>\n",
       "      <td>0</td>\n",
       "      <td>0</td>\n",
       "    </tr>\n",
       "    <tr>\n",
       "      <th>2</th>\n",
       "      <td>0</td>\n",
       "      <td>4.0</td>\n",
       "      <td>65000.0</td>\n",
       "      <td>11.24</td>\n",
       "      <td>0.0</td>\n",
       "      <td>0.0</td>\n",
       "      <td>4.0</td>\n",
       "      <td>0.0</td>\n",
       "      <td>81</td>\n",
       "      <td>0.6</td>\n",
       "      <td>...</td>\n",
       "      <td>0</td>\n",
       "      <td>0</td>\n",
       "      <td>0</td>\n",
       "      <td>0</td>\n",
       "      <td>0</td>\n",
       "      <td>0</td>\n",
       "      <td>0</td>\n",
       "      <td>0</td>\n",
       "      <td>1</td>\n",
       "      <td>0</td>\n",
       "    </tr>\n",
       "    <tr>\n",
       "      <th>3</th>\n",
       "      <td>0</td>\n",
       "      <td>10.0</td>\n",
       "      <td>57500.0</td>\n",
       "      <td>6.18</td>\n",
       "      <td>1.0</td>\n",
       "      <td>0.0</td>\n",
       "      <td>6.0</td>\n",
       "      <td>0.0</td>\n",
       "      <td>10030</td>\n",
       "      <td>37.1</td>\n",
       "      <td>...</td>\n",
       "      <td>0</td>\n",
       "      <td>0</td>\n",
       "      <td>0</td>\n",
       "      <td>0</td>\n",
       "      <td>0</td>\n",
       "      <td>0</td>\n",
       "      <td>1</td>\n",
       "      <td>0</td>\n",
       "      <td>0</td>\n",
       "      <td>0</td>\n",
       "    </tr>\n",
       "    <tr>\n",
       "      <th>4</th>\n",
       "      <td>0</td>\n",
       "      <td>10.0</td>\n",
       "      <td>50004.0</td>\n",
       "      <td>19.03</td>\n",
       "      <td>0.0</td>\n",
       "      <td>4.0</td>\n",
       "      <td>8.0</td>\n",
       "      <td>0.0</td>\n",
       "      <td>10740</td>\n",
       "      <td>40.4</td>\n",
       "      <td>...</td>\n",
       "      <td>0</td>\n",
       "      <td>0</td>\n",
       "      <td>0</td>\n",
       "      <td>0</td>\n",
       "      <td>0</td>\n",
       "      <td>0</td>\n",
       "      <td>0</td>\n",
       "      <td>1</td>\n",
       "      <td>0</td>\n",
       "      <td>0</td>\n",
       "    </tr>\n",
       "  </tbody>\n",
       "</table>\n",
       "<p>5 rows × 89 columns</p>\n",
       "</div>"
      ],
      "text/plain": [
       "   is_bad  emp_length  annual_inc  debt_to_income  delinq_2yrs  \\\n",
       "0       0        10.0     50000.0           10.87          0.0   \n",
       "1       0         1.0     39216.0            9.15          0.0   \n",
       "2       0         4.0     65000.0           11.24          0.0   \n",
       "3       0        10.0     57500.0            6.18          1.0   \n",
       "4       0        10.0     50004.0           19.03          0.0   \n",
       "\n",
       "   inq_last_6mths  open_acc  pub_rec  revol_bal  revol_util       ...         \\\n",
       "0             0.0      15.0      0.0      12087        12.1       ...          \n",
       "1             2.0       4.0      0.0      10114        64.0       ...          \n",
       "2             0.0       4.0      0.0         81         0.6       ...          \n",
       "3             0.0       6.0      0.0      10030        37.1       ...          \n",
       "4             4.0       8.0      0.0      10740        40.4       ...          \n",
       "\n",
       "   addr_state_VT  addr_state_WA  addr_state_WI  addr_state_WV  addr_state_WY  \\\n",
       "0              0              0              0              0              0   \n",
       "1              0              0              0              0              0   \n",
       "2              0              0              0              0              0   \n",
       "3              0              0              0              0              0   \n",
       "4              0              0              0              0              0   \n",
       "\n",
       "   policy_code_PC1  policy_code_PC2  policy_code_PC3  policy_code_PC4  \\\n",
       "0                0                0                0                1   \n",
       "1                1                0                0                0   \n",
       "2                0                0                0                1   \n",
       "3                0                1                0                0   \n",
       "4                0                0                1                0   \n",
       "\n",
       "   policy_code_PC5  \n",
       "0                0  \n",
       "1                0  \n",
       "2                0  \n",
       "3                0  \n",
       "4                0  \n",
       "\n",
       "[5 rows x 89 columns]"
      ]
     },
     "execution_count": 53,
     "metadata": {},
     "output_type": "execute_result"
    }
   ],
   "source": [
    "data.head()"
   ]
  },
  {
   "cell_type": "markdown",
   "metadata": {},
   "source": [
    "#### splitting the data into train and test.so that we can make a model on train and validate on test\n",
    "* we divide train and test data with 75 % and 25% respectively"
   ]
  },
  {
   "cell_type": "code",
   "execution_count": 54,
   "metadata": {},
   "outputs": [],
   "source": [
    "# using train_test_split to divide the data\n",
    "\n",
    "train,test=train_test_split(data,test_size=.25,random_state=2)"
   ]
  },
  {
   "cell_type": "code",
   "execution_count": 55,
   "metadata": {},
   "outputs": [],
   "source": [
    "# splitting the dependent variable and target variable\n",
    "\n",
    "x_train=train.drop([\"is_bad\"],axis=1)\n",
    "y_train=train[\"is_bad\"]\n",
    "x_test=test.drop([\"is_bad\"],axis=1)\n",
    "y_test=test[\"is_bad\"]"
   ]
  },
  {
   "cell_type": "markdown",
   "metadata": {},
   "source": [
    "#### try logistic regression on the data"
   ]
  },
  {
   "cell_type": "code",
   "execution_count": 57,
   "metadata": {},
   "outputs": [],
   "source": [
    "params_lr={\"class_weight\":[\"balanced\",None],\n",
    "       \"penalty\":[\"l1\",\"l2\"],\n",
    "       \"C\":np.linspace(0.1,100,50)}"
   ]
  },
  {
   "cell_type": "code",
   "execution_count": 58,
   "metadata": {},
   "outputs": [
    {
     "data": {
      "text/plain": [
       "GridSearchCV(cv=5, error_score='raise-deprecating',\n",
       "       estimator=LogisticRegression(C=1.0, class_weight='balanced', dual=False,\n",
       "          fit_intercept=True, intercept_scaling=1, max_iter=100,\n",
       "          multi_class='warn', n_jobs=None, penalty='l2', random_state=None,\n",
       "          solver='warn', tol=0.0001, verbose=0, warm_start=False),\n",
       "       fit_params=None, iid='warn', n_jobs=None,\n",
       "       param_grid={'class_weight': ['balanced', None], 'penalty': ['l1', 'l2'], 'C': array([  0.1    ,   2.13878,   4.17755,   6.21633,   8.2551 ,  10.29388,\n",
       "        12.33265,  14.37143,  16.4102 ,  18.44898,  20.48776,  22.52653,\n",
       "        24.56531,  26.60408,  28.64286,  30.68163,  32.72041,  34.75918,\n",
       "   ...     85.72857,  87.76735,  89.80612,  91.8449 ,  93.88367,  95.92245,\n",
       "        97.96122, 100.     ])},\n",
       "       pre_dispatch='2*n_jobs', refit=True, return_train_score='warn',\n",
       "       scoring='roc_auc', verbose=0)"
      ]
     },
     "execution_count": 58,
     "metadata": {},
     "output_type": "execute_result"
    }
   ],
   "source": [
    "lr=LogisticRegression(class_weight=\"balanced\")\n",
    "grid_search=GridSearchCV(lr,param_grid=params_lr,cv=5,scoring=\"roc_auc\")\n",
    "grid_search.fit(x_train,y_train)"
   ]
  },
  {
   "cell_type": "code",
   "execution_count": 59,
   "metadata": {},
   "outputs": [],
   "source": [
    "def report(results, n_top=3):\n",
    "    for i in range(1, n_top + 1):\n",
    "        candidates = np.flatnonzero(results['rank_test_score'] == i)\n",
    "        for candidate in candidates:\n",
    "            print(\"Model with rank: {0}\".format(i))\n",
    "            print(\"Mean validation score: {0:.3f} (std: {1:.3f})\".format(\n",
    "                  results['mean_test_score'][candidate],\n",
    "                  results['std_test_score'][candidate]))\n",
    "            print(\"Parameters: {0}\".format(results['params'][candidate]))\n",
    "            print(\"\")"
   ]
  },
  {
   "cell_type": "code",
   "execution_count": 61,
   "metadata": {},
   "outputs": [
    {
     "name": "stdout",
     "output_type": "stream",
     "text": [
      "Model with rank: 1\n",
      "Mean validation score: 0.692 (std: 0.011)\n",
      "Parameters: {'C': 20.487755102040822, 'class_weight': 'balanced', 'penalty': 'l2'}\n",
      "\n",
      "Model with rank: 2\n",
      "Mean validation score: 0.691 (std: 0.014)\n",
      "Parameters: {'C': 0.1, 'class_weight': None, 'penalty': 'l1'}\n",
      "\n",
      "Model with rank: 3\n",
      "Mean validation score: 0.691 (std: 0.013)\n",
      "Parameters: {'C': 59.22448979591837, 'class_weight': 'balanced', 'penalty': 'l2'}\n",
      "\n",
      "Model with rank: 4\n",
      "Mean validation score: 0.691 (std: 0.015)\n",
      "Parameters: {'C': 63.30204081632654, 'class_weight': 'balanced', 'penalty': 'l2'}\n",
      "\n",
      "Model with rank: 5\n",
      "Mean validation score: 0.691 (std: 0.011)\n",
      "Parameters: {'C': 0.1, 'class_weight': 'balanced', 'penalty': 'l2'}\n",
      "\n"
     ]
    }
   ],
   "source": [
    "report(grid_search.cv_results_,5)"
   ]
  },
  {
   "cell_type": "code",
   "execution_count": 62,
   "metadata": {},
   "outputs": [
    {
     "data": {
      "text/plain": [
       "LogisticRegression(C=20.487755102040822, class_weight='balanced', dual=False,\n",
       "          fit_intercept=True, intercept_scaling=1, max_iter=100,\n",
       "          multi_class='warn', n_jobs=None, penalty='l2', random_state=None,\n",
       "          solver='warn', tol=0.0001, verbose=0, warm_start=False)"
      ]
     },
     "execution_count": 62,
     "metadata": {},
     "output_type": "execute_result"
    }
   ],
   "source": [
    "grid_search.best_estimator_"
   ]
  },
  {
   "cell_type": "code",
   "execution_count": 65,
   "metadata": {},
   "outputs": [
    {
     "data": {
      "text/plain": [
       "0.6069351900376831"
      ]
     },
     "execution_count": 65,
     "metadata": {},
     "output_type": "execute_result"
    }
   ],
   "source": [
    "lr=LogisticRegression(C=20.487755102040822, class_weight='balanced', dual=False,\n",
    "          fit_intercept=True, intercept_scaling=1, max_iter=100,\n",
    "          multi_class='warn', n_jobs=None, penalty='l2', random_state=None,\n",
    "          solver='warn', tol=0.0001, verbose=0, warm_start=False)\n",
    "lr.fit(x_train,y_train)\n",
    "p_lr=lr.predict(x_test)\n",
    "roc_auc_score(y_test,p_lr)"
   ]
  },
  {
   "cell_type": "code",
   "execution_count": 67,
   "metadata": {},
   "outputs": [
    {
     "data": {
      "text/plain": [
       "(array([0.481]), 0.6138811942136042)"
      ]
     },
     "execution_count": 67,
     "metadata": {},
     "output_type": "execute_result"
    }
   ],
   "source": [
    "p_lr=lr.predict_proba(x_test)[:,1]\n",
    "cutoff=np.linspace(0.001,.999,999)\n",
    "real=y_test\n",
    "roc=[]\n",
    "for c in cutoff:\n",
    "    predicted=(p_lr>c).astype(int)\n",
    "    score=roc_auc_score(real,predicted)\n",
    "    roc.append(score)\n",
    "cutoff[roc==max(roc)],max(roc)"
   ]
  },
  {
   "cell_type": "code",
   "execution_count": 69,
   "metadata": {},
   "outputs": [],
   "source": [
    "prediction=(p_lr>0.481).astype(int)"
   ]
  },
  {
   "cell_type": "code",
   "execution_count": 70,
   "metadata": {},
   "outputs": [
    {
     "data": {
      "text/plain": [
       "array([[1456,  710],\n",
       "       [ 148,  185]], dtype=int64)"
      ]
     },
     "execution_count": 70,
     "metadata": {},
     "output_type": "execute_result"
    }
   ],
   "source": [
    "confusion_matrix(y_test,prediction)"
   ]
  },
  {
   "cell_type": "markdown",
   "metadata": {},
   "source": [
    "## Random Forest"
   ]
  },
  {
   "cell_type": "code",
   "execution_count": 74,
   "metadata": {},
   "outputs": [
    {
     "data": {
      "text/plain": [
       "RandomForestClassifier(bootstrap=True, class_weight='balanced',\n",
       "            criterion='gini', max_depth=None, max_features='auto',\n",
       "            max_leaf_nodes=None, min_impurity_decrease=0.0,\n",
       "            min_impurity_split=None, min_samples_leaf=1,\n",
       "            min_samples_split=2, min_weight_fraction_leaf=0.0,\n",
       "            n_estimators=10, n_jobs=None, oob_score=False,\n",
       "            random_state=None, verbose=0, warm_start=False)"
      ]
     },
     "execution_count": 74,
     "metadata": {},
     "output_type": "execute_result"
    }
   ],
   "source": [
    "# making object of RandomForestClassifier\n",
    "\n",
    "rf=RandomForestClassifier(class_weight=\"balanced\")\n",
    "rf.fit(x_train,y_train)"
   ]
  },
  {
   "cell_type": "code",
   "execution_count": 76,
   "metadata": {},
   "outputs": [
    {
     "data": {
      "text/html": [
       "<div>\n",
       "<style scoped>\n",
       "    .dataframe tbody tr th:only-of-type {\n",
       "        vertical-align: middle;\n",
       "    }\n",
       "\n",
       "    .dataframe tbody tr th {\n",
       "        vertical-align: top;\n",
       "    }\n",
       "\n",
       "    .dataframe thead th {\n",
       "        text-align: right;\n",
       "    }\n",
       "</style>\n",
       "<table border=\"1\" class=\"dataframe\">\n",
       "  <thead>\n",
       "    <tr style=\"text-align: right;\">\n",
       "      <th></th>\n",
       "      <th>features</th>\n",
       "      <th>feature_importance</th>\n",
       "    </tr>\n",
       "  </thead>\n",
       "  <tbody>\n",
       "    <tr>\n",
       "      <th>74</th>\n",
       "      <td>addr_state_TN</td>\n",
       "      <td>0.000000</td>\n",
       "    </tr>\n",
       "    <tr>\n",
       "      <th>54</th>\n",
       "      <td>addr_state_ME</td>\n",
       "      <td>0.000000</td>\n",
       "    </tr>\n",
       "    <tr>\n",
       "      <th>12</th>\n",
       "      <td>home_ownership_NONE</td>\n",
       "      <td>0.000000</td>\n",
       "    </tr>\n",
       "    <tr>\n",
       "      <th>58</th>\n",
       "      <td>addr_state_MS</td>\n",
       "      <td>0.000007</td>\n",
       "    </tr>\n",
       "    <tr>\n",
       "      <th>46</th>\n",
       "      <td>addr_state_ID</td>\n",
       "      <td>0.000011</td>\n",
       "    </tr>\n",
       "    <tr>\n",
       "      <th>45</th>\n",
       "      <td>addr_state_IA</td>\n",
       "      <td>0.000020</td>\n",
       "    </tr>\n",
       "    <tr>\n",
       "      <th>48</th>\n",
       "      <td>addr_state_IN</td>\n",
       "      <td>0.000034</td>\n",
       "    </tr>\n",
       "    <tr>\n",
       "      <th>61</th>\n",
       "      <td>addr_state_NE</td>\n",
       "      <td>0.000036</td>\n",
       "    </tr>\n",
       "    <tr>\n",
       "      <th>78</th>\n",
       "      <td>addr_state_VT</td>\n",
       "      <td>0.000110</td>\n",
       "    </tr>\n",
       "    <tr>\n",
       "      <th>82</th>\n",
       "      <td>addr_state_WY</td>\n",
       "      <td>0.000254</td>\n",
       "    </tr>\n",
       "    <tr>\n",
       "      <th>41</th>\n",
       "      <td>addr_state_DE</td>\n",
       "      <td>0.000298</td>\n",
       "    </tr>\n",
       "    <tr>\n",
       "      <th>73</th>\n",
       "      <td>addr_state_SD</td>\n",
       "      <td>0.000313</td>\n",
       "    </tr>\n",
       "    <tr>\n",
       "      <th>59</th>\n",
       "      <td>addr_state_MT</td>\n",
       "      <td>0.000356</td>\n",
       "    </tr>\n",
       "    <tr>\n",
       "      <th>40</th>\n",
       "      <td>addr_state_DC</td>\n",
       "      <td>0.000439</td>\n",
       "    </tr>\n",
       "    <tr>\n",
       "      <th>49</th>\n",
       "      <td>addr_state_KS</td>\n",
       "      <td>0.000439</td>\n",
       "    </tr>\n",
       "    <tr>\n",
       "      <th>44</th>\n",
       "      <td>addr_state_HI</td>\n",
       "      <td>0.000441</td>\n",
       "    </tr>\n",
       "    <tr>\n",
       "      <th>29</th>\n",
       "      <td>purpose_cat_renewable energy</td>\n",
       "      <td>0.000517</td>\n",
       "    </tr>\n",
       "    <tr>\n",
       "      <th>76</th>\n",
       "      <td>addr_state_UT</td>\n",
       "      <td>0.000685</td>\n",
       "    </tr>\n",
       "    <tr>\n",
       "      <th>35</th>\n",
       "      <td>addr_state_AR</td>\n",
       "      <td>0.000697</td>\n",
       "    </tr>\n",
       "    <tr>\n",
       "      <th>71</th>\n",
       "      <td>addr_state_RI</td>\n",
       "      <td>0.000796</td>\n",
       "    </tr>\n",
       "    <tr>\n",
       "      <th>81</th>\n",
       "      <td>addr_state_WV</td>\n",
       "      <td>0.000847</td>\n",
       "    </tr>\n",
       "    <tr>\n",
       "      <th>31</th>\n",
       "      <td>purpose_cat_vacation</td>\n",
       "      <td>0.000990</td>\n",
       "    </tr>\n",
       "    <tr>\n",
       "      <th>62</th>\n",
       "      <td>addr_state_NH</td>\n",
       "      <td>0.000996</td>\n",
       "    </tr>\n",
       "    <tr>\n",
       "      <th>50</th>\n",
       "      <td>addr_state_KY</td>\n",
       "      <td>0.001069</td>\n",
       "    </tr>\n",
       "    <tr>\n",
       "      <th>33</th>\n",
       "      <td>addr_state_AK</td>\n",
       "      <td>0.001187</td>\n",
       "    </tr>\n",
       "    <tr>\n",
       "      <th>13</th>\n",
       "      <td>home_ownership_OTHER</td>\n",
       "      <td>0.001193</td>\n",
       "    </tr>\n",
       "    <tr>\n",
       "      <th>24</th>\n",
       "      <td>purpose_cat_house</td>\n",
       "      <td>0.001289</td>\n",
       "    </tr>\n",
       "    <tr>\n",
       "      <th>68</th>\n",
       "      <td>addr_state_OK</td>\n",
       "      <td>0.001417</td>\n",
       "    </tr>\n",
       "    <tr>\n",
       "      <th>72</th>\n",
       "      <td>addr_state_SC</td>\n",
       "      <td>0.001565</td>\n",
       "    </tr>\n",
       "    <tr>\n",
       "      <th>69</th>\n",
       "      <td>addr_state_OR</td>\n",
       "      <td>0.001773</td>\n",
       "    </tr>\n",
       "    <tr>\n",
       "      <th>...</th>\n",
       "      <td>...</td>\n",
       "      <td>...</td>\n",
       "    </tr>\n",
       "    <tr>\n",
       "      <th>63</th>\n",
       "      <td>addr_state_NJ</td>\n",
       "      <td>0.007111</td>\n",
       "    </tr>\n",
       "    <tr>\n",
       "      <th>66</th>\n",
       "      <td>addr_state_NY</td>\n",
       "      <td>0.007880</td>\n",
       "    </tr>\n",
       "    <tr>\n",
       "      <th>75</th>\n",
       "      <td>addr_state_TX</td>\n",
       "      <td>0.008382</td>\n",
       "    </tr>\n",
       "    <tr>\n",
       "      <th>17</th>\n",
       "      <td>verification_status_VERIFIED - income source</td>\n",
       "      <td>0.008949</td>\n",
       "    </tr>\n",
       "    <tr>\n",
       "      <th>6</th>\n",
       "      <td>pub_rec</td>\n",
       "      <td>0.009077</td>\n",
       "    </tr>\n",
       "    <tr>\n",
       "      <th>18</th>\n",
       "      <td>verification_status_not verified</td>\n",
       "      <td>0.009248</td>\n",
       "    </tr>\n",
       "    <tr>\n",
       "      <th>42</th>\n",
       "      <td>addr_state_FL</td>\n",
       "      <td>0.009840</td>\n",
       "    </tr>\n",
       "    <tr>\n",
       "      <th>28</th>\n",
       "      <td>purpose_cat_other</td>\n",
       "      <td>0.010104</td>\n",
       "    </tr>\n",
       "    <tr>\n",
       "      <th>15</th>\n",
       "      <td>home_ownership_RENT</td>\n",
       "      <td>0.010991</td>\n",
       "    </tr>\n",
       "    <tr>\n",
       "      <th>16</th>\n",
       "      <td>verification_status_VERIFIED - income</td>\n",
       "      <td>0.011662</td>\n",
       "    </tr>\n",
       "    <tr>\n",
       "      <th>20</th>\n",
       "      <td>purpose_cat_credit card</td>\n",
       "      <td>0.011740</td>\n",
       "    </tr>\n",
       "    <tr>\n",
       "      <th>83</th>\n",
       "      <td>policy_code_PC1</td>\n",
       "      <td>0.011781</td>\n",
       "    </tr>\n",
       "    <tr>\n",
       "      <th>3</th>\n",
       "      <td>delinq_2yrs</td>\n",
       "      <td>0.011965</td>\n",
       "    </tr>\n",
       "    <tr>\n",
       "      <th>87</th>\n",
       "      <td>policy_code_PC5</td>\n",
       "      <td>0.011987</td>\n",
       "    </tr>\n",
       "    <tr>\n",
       "      <th>86</th>\n",
       "      <td>policy_code_PC4</td>\n",
       "      <td>0.012533</td>\n",
       "    </tr>\n",
       "    <tr>\n",
       "      <th>84</th>\n",
       "      <td>policy_code_PC2</td>\n",
       "      <td>0.013709</td>\n",
       "    </tr>\n",
       "    <tr>\n",
       "      <th>37</th>\n",
       "      <td>addr_state_CA</td>\n",
       "      <td>0.013733</td>\n",
       "    </tr>\n",
       "    <tr>\n",
       "      <th>11</th>\n",
       "      <td>home_ownership_MORTGAGE</td>\n",
       "      <td>0.013870</td>\n",
       "    </tr>\n",
       "    <tr>\n",
       "      <th>85</th>\n",
       "      <td>policy_code_PC3</td>\n",
       "      <td>0.014410</td>\n",
       "    </tr>\n",
       "    <tr>\n",
       "      <th>21</th>\n",
       "      <td>purpose_cat_debt consolidation</td>\n",
       "      <td>0.015183</td>\n",
       "    </tr>\n",
       "    <tr>\n",
       "      <th>10</th>\n",
       "      <td>mths_since_last_major_derog</td>\n",
       "      <td>0.028462</td>\n",
       "    </tr>\n",
       "    <tr>\n",
       "      <th>4</th>\n",
       "      <td>inq_last_6mths</td>\n",
       "      <td>0.039225</td>\n",
       "    </tr>\n",
       "    <tr>\n",
       "      <th>0</th>\n",
       "      <td>emp_length</td>\n",
       "      <td>0.041458</td>\n",
       "    </tr>\n",
       "    <tr>\n",
       "      <th>30</th>\n",
       "      <td>purpose_cat_small business</td>\n",
       "      <td>0.061548</td>\n",
       "    </tr>\n",
       "    <tr>\n",
       "      <th>5</th>\n",
       "      <td>open_acc</td>\n",
       "      <td>0.064006</td>\n",
       "    </tr>\n",
       "    <tr>\n",
       "      <th>9</th>\n",
       "      <td>total_acc</td>\n",
       "      <td>0.069822</td>\n",
       "    </tr>\n",
       "    <tr>\n",
       "      <th>7</th>\n",
       "      <td>revol_bal</td>\n",
       "      <td>0.077259</td>\n",
       "    </tr>\n",
       "    <tr>\n",
       "      <th>2</th>\n",
       "      <td>debt_to_income</td>\n",
       "      <td>0.086136</td>\n",
       "    </tr>\n",
       "    <tr>\n",
       "      <th>1</th>\n",
       "      <td>annual_inc</td>\n",
       "      <td>0.087683</td>\n",
       "    </tr>\n",
       "    <tr>\n",
       "      <th>8</th>\n",
       "      <td>revol_util</td>\n",
       "      <td>0.097846</td>\n",
       "    </tr>\n",
       "  </tbody>\n",
       "</table>\n",
       "<p>88 rows × 2 columns</p>\n",
       "</div>"
      ],
      "text/plain": [
       "                                        features  feature_importance\n",
       "74                                 addr_state_TN            0.000000\n",
       "54                                 addr_state_ME            0.000000\n",
       "12                           home_ownership_NONE            0.000000\n",
       "58                                 addr_state_MS            0.000007\n",
       "46                                 addr_state_ID            0.000011\n",
       "45                                 addr_state_IA            0.000020\n",
       "48                                 addr_state_IN            0.000034\n",
       "61                                 addr_state_NE            0.000036\n",
       "78                                 addr_state_VT            0.000110\n",
       "82                                 addr_state_WY            0.000254\n",
       "41                                 addr_state_DE            0.000298\n",
       "73                                 addr_state_SD            0.000313\n",
       "59                                 addr_state_MT            0.000356\n",
       "40                                 addr_state_DC            0.000439\n",
       "49                                 addr_state_KS            0.000439\n",
       "44                                 addr_state_HI            0.000441\n",
       "29                  purpose_cat_renewable energy            0.000517\n",
       "76                                 addr_state_UT            0.000685\n",
       "35                                 addr_state_AR            0.000697\n",
       "71                                 addr_state_RI            0.000796\n",
       "81                                 addr_state_WV            0.000847\n",
       "31                          purpose_cat_vacation            0.000990\n",
       "62                                 addr_state_NH            0.000996\n",
       "50                                 addr_state_KY            0.001069\n",
       "33                                 addr_state_AK            0.001187\n",
       "13                          home_ownership_OTHER            0.001193\n",
       "24                             purpose_cat_house            0.001289\n",
       "68                                 addr_state_OK            0.001417\n",
       "72                                 addr_state_SC            0.001565\n",
       "69                                 addr_state_OR            0.001773\n",
       "..                                           ...                 ...\n",
       "63                                 addr_state_NJ            0.007111\n",
       "66                                 addr_state_NY            0.007880\n",
       "75                                 addr_state_TX            0.008382\n",
       "17  verification_status_VERIFIED - income source            0.008949\n",
       "6                                        pub_rec            0.009077\n",
       "18              verification_status_not verified            0.009248\n",
       "42                                 addr_state_FL            0.009840\n",
       "28                             purpose_cat_other            0.010104\n",
       "15                           home_ownership_RENT            0.010991\n",
       "16         verification_status_VERIFIED - income            0.011662\n",
       "20                       purpose_cat_credit card            0.011740\n",
       "83                               policy_code_PC1            0.011781\n",
       "3                                    delinq_2yrs            0.011965\n",
       "87                               policy_code_PC5            0.011987\n",
       "86                               policy_code_PC4            0.012533\n",
       "84                               policy_code_PC2            0.013709\n",
       "37                                 addr_state_CA            0.013733\n",
       "11                       home_ownership_MORTGAGE            0.013870\n",
       "85                               policy_code_PC3            0.014410\n",
       "21                purpose_cat_debt consolidation            0.015183\n",
       "10                   mths_since_last_major_derog            0.028462\n",
       "4                                 inq_last_6mths            0.039225\n",
       "0                                     emp_length            0.041458\n",
       "30                    purpose_cat_small business            0.061548\n",
       "5                                       open_acc            0.064006\n",
       "9                                      total_acc            0.069822\n",
       "7                                      revol_bal            0.077259\n",
       "2                                 debt_to_income            0.086136\n",
       "1                                     annual_inc            0.087683\n",
       "8                                     revol_util            0.097846\n",
       "\n",
       "[88 rows x 2 columns]"
      ]
     },
     "execution_count": 76,
     "metadata": {},
     "output_type": "execute_result"
    }
   ],
   "source": [
    "# checking the feature importance for the features so that we can remove unimportant variables based on that\n",
    "\n",
    "d=pd.DataFrame({\"features\":x_train.columns,\"feature_importance\":rf.feature_importances_})\n",
    "d.sort_values(\"feature_importance\",ascending=True)"
   ]
  },
  {
   "cell_type": "code",
   "execution_count": 77,
   "metadata": {},
   "outputs": [],
   "source": [
    "# removing features which have very low feature importance\n",
    "\n",
    "\n",
    "x_train.drop([\"addr_state_WY\",\"addr_state_WV\",\"addr_state_VT\",\"addr_state_UT\",\"addr_state_TN\",\"addr_state_SD\",\n",
    "\"addr_state_RI\",\"addr_state_NH\",\"addr_state_NE\",\"addr_state_MT\",\"addr_state_MS\",\"addr_state_ME\",\n",
    "\"addr_state_IN\",\"addr_state_ID\",\"addr_state_IA\",\"addr_state_HI\",\"addr_state_DE\",\"addr_state_DC\",\n",
    "\"purpose_cat_renewable energy\",\"home_ownership_NONE\",\"home_ownership_NONE\"],axis=1,inplace=True)\n",
    "x_test.drop([\"addr_state_WY\",\"addr_state_WV\",\"addr_state_VT\",\"addr_state_UT\",\"addr_state_TN\",\"addr_state_SD\",\n",
    "\"addr_state_RI\",\"addr_state_NH\",\"addr_state_NE\",\"addr_state_MT\",\"addr_state_MS\",\"addr_state_ME\",\n",
    "\"addr_state_IN\",\"addr_state_ID\",\"addr_state_IA\",\"addr_state_HI\",\"addr_state_DE\",\"addr_state_DC\",\n",
    "\"purpose_cat_renewable energy\",\"home_ownership_NONE\",\"home_ownership_NONE\"],axis=1,inplace=True)"
   ]
  },
  {
   "cell_type": "code",
   "execution_count": 78,
   "metadata": {},
   "outputs": [],
   "source": [
    "# parameters for randomforest\n",
    "\n",
    "params={\"n_estimators\":[50,100,200,300,500],\n",
    "       \"class_weight\":[\"balanced\",None],\n",
    "       \"criterion\":[\"gini\",\"entropy\"],\n",
    "       \"bootstrap\":[True,False],\n",
    "       \"max_depth\":[20,25,30,40,50],\n",
    "       \"min_samples_split\":[2,3,4,5,6],\n",
    "       \"min_samples_leaf\":[1,2,3,4,5],\n",
    "       \"max_features\":[10,15,20,30,50]}"
   ]
  },
  {
   "cell_type": "code",
   "execution_count": 79,
   "metadata": {},
   "outputs": [
    {
     "data": {
      "text/plain": [
       "RandomizedSearchCV(cv=5, error_score='raise-deprecating',\n",
       "          estimator=RandomForestClassifier(bootstrap=True, class_weight=None, criterion='gini',\n",
       "            max_depth=None, max_features='auto', max_leaf_nodes=None,\n",
       "            min_impurity_decrease=0.0, min_impurity_split=None,\n",
       "            min_samples_leaf=1, min_samples_split=2,\n",
       "            min_weight_fraction_leaf=0.0, n_estimators='warn', n_jobs=None,\n",
       "            oob_score=False, random_state=None, verbose=0,\n",
       "            warm_start=False),\n",
       "          fit_params=None, iid='warn', n_iter=200, n_jobs=None,\n",
       "          param_distributions={'n_estimators': [50, 100, 200, 300, 500], 'class_weight': ['balanced', None], 'criterion': ['gini', 'entropy'], 'bootstrap': [True, False], 'max_depth': [20, 25, 30, 40, 50], 'min_samples_split': [2, 3, 4, 5, 6], 'min_samples_leaf': [1, 2, 3, 4, 5], 'max_features': [10, 15, 20, 30, 50]},\n",
       "          pre_dispatch='2*n_jobs', random_state=None, refit=True,\n",
       "          return_train_score='warn', scoring='roc_auc', verbose=0)"
      ]
     },
     "execution_count": 79,
     "metadata": {},
     "output_type": "execute_result"
    }
   ],
   "source": [
    "rf=RandomForestClassifier()\n",
    "random_search_rf=RandomizedSearchCV(rf,param_distributions=params,cv=5,scoring=\"roc_auc\",n_iter=200)\n",
    "random_search_rf.fit(x_train,y_train)"
   ]
  },
  {
   "cell_type": "code",
   "execution_count": 80,
   "metadata": {},
   "outputs": [
    {
     "name": "stdout",
     "output_type": "stream",
     "text": [
      "Model with rank: 1\n",
      "Mean validation score: 0.712 (std: 0.021)\n",
      "Parameters: {'n_estimators': 300, 'min_samples_split': 4, 'min_samples_leaf': 5, 'max_features': 10, 'max_depth': 20, 'criterion': 'gini', 'class_weight': None, 'bootstrap': True}\n",
      "\n",
      "Model with rank: 2\n",
      "Mean validation score: 0.711 (std: 0.015)\n",
      "Parameters: {'n_estimators': 500, 'min_samples_split': 2, 'min_samples_leaf': 3, 'max_features': 10, 'max_depth': 50, 'criterion': 'entropy', 'class_weight': 'balanced', 'bootstrap': True}\n",
      "\n",
      "Model with rank: 3\n",
      "Mean validation score: 0.711 (std: 0.018)\n",
      "Parameters: {'n_estimators': 500, 'min_samples_split': 4, 'min_samples_leaf': 4, 'max_features': 15, 'max_depth': 50, 'criterion': 'entropy', 'class_weight': None, 'bootstrap': True}\n",
      "\n",
      "Model with rank: 4\n",
      "Mean validation score: 0.710 (std: 0.016)\n",
      "Parameters: {'n_estimators': 300, 'min_samples_split': 3, 'min_samples_leaf': 4, 'max_features': 10, 'max_depth': 20, 'criterion': 'gini', 'class_weight': 'balanced', 'bootstrap': True}\n",
      "\n",
      "Model with rank: 5\n",
      "Mean validation score: 0.710 (std: 0.015)\n",
      "Parameters: {'n_estimators': 500, 'min_samples_split': 2, 'min_samples_leaf': 4, 'max_features': 10, 'max_depth': 20, 'criterion': 'gini', 'class_weight': 'balanced', 'bootstrap': True}\n",
      "\n"
     ]
    }
   ],
   "source": [
    "report(random_search_rf.cv_results_,5)"
   ]
  },
  {
   "cell_type": "code",
   "execution_count": null,
   "metadata": {},
   "outputs": [],
   "source": [
    "'n_estimators': 500, 'min_samples_split': 2, 'min_samples_leaf': 3, 'max_features': 10, 'max_depth': 50, 'criterion': 'entropy', 'class_weight': 'balanced', 'bootstrap': True"
   ]
  },
  {
   "cell_type": "code",
   "execution_count": 82,
   "metadata": {},
   "outputs": [
    {
     "data": {
      "text/plain": [
       "RandomForestClassifier(bootstrap=True, class_weight='balanced',\n",
       "            criterion='entropy', max_depth=50, max_features=10,\n",
       "            max_leaf_nodes=None, min_impurity_decrease=0.0,\n",
       "            min_impurity_split=None, min_samples_leaf=3,\n",
       "            min_samples_split=2, min_weight_fraction_leaf=0.0,\n",
       "            n_estimators=500, n_jobs=None, oob_score=False,\n",
       "            random_state=None, verbose=0, warm_start=False)"
      ]
     },
     "execution_count": 82,
     "metadata": {},
     "output_type": "execute_result"
    }
   ],
   "source": [
    "rf=RandomForestClassifier(n_estimators=500,min_samples_split=2\n",
    "                         ,min_samples_leaf=3,max_features=10,max_depth=50,\n",
    "                         criterion=\"entropy\",class_weight=\"balanced\",bootstrap=True)\n",
    "rf.fit(x_train,y_train)"
   ]
  },
  {
   "cell_type": "code",
   "execution_count": 83,
   "metadata": {},
   "outputs": [
    {
     "data": {
      "text/plain": [
       "0.5725399915150609"
      ]
     },
     "execution_count": 83,
     "metadata": {},
     "output_type": "execute_result"
    }
   ],
   "source": [
    "p_rf=rf.predict(x_test)\n",
    "roc_auc_score(y_test,p_rf)"
   ]
  },
  {
   "cell_type": "code",
   "execution_count": 84,
   "metadata": {},
   "outputs": [
    {
     "data": {
      "text/plain": [
       "(array([0.301]), 0.6227051150873866)"
      ]
     },
     "execution_count": 84,
     "metadata": {},
     "output_type": "execute_result"
    }
   ],
   "source": [
    "p_rf=rf.predict_proba(x_test)[:,1]\n",
    "cutoff=np.linspace(0.001,.999,999)\n",
    "real=y_test\n",
    "roc=[]\n",
    "for c in cutoff:\n",
    "    predicted=(p_rf>c).astype(int)\n",
    "    score=roc_auc_score(real,predicted)\n",
    "    roc.append(score)\n",
    "cutoff[roc==max(roc)],max(roc)"
   ]
  },
  {
   "cell_type": "code",
   "execution_count": 85,
   "metadata": {},
   "outputs": [
    {
     "data": {
      "text/plain": [
       "array([[1891,  275],\n",
       "       [ 209,  124]], dtype=int64)"
      ]
     },
     "execution_count": 85,
     "metadata": {},
     "output_type": "execute_result"
    }
   ],
   "source": [
    "prediction_rf=(p_rf>0.301).astype(int)\n",
    "confusion_matrix(y_test,prediction_rf)"
   ]
  },
  {
   "cell_type": "code",
   "execution_count": 99,
   "metadata": {},
   "outputs": [
    {
     "data": {
      "text/plain": [
       "0    2166\n",
       "1     333\n",
       "Name: is_bad, dtype: int64"
      ]
     },
     "execution_count": 99,
     "metadata": {},
     "output_type": "execute_result"
    }
   ],
   "source": [
    "y_test.value_counts()"
   ]
  },
  {
   "cell_type": "markdown",
   "metadata": {},
   "source": [
    "## XGBoost"
   ]
  },
  {
   "cell_type": "code",
   "execution_count": 86,
   "metadata": {},
   "outputs": [],
   "source": [
    "params_xg={\"n_estimators\":[50,80,100,150,20],\n",
    "       \"max_depth\":[2,3,4,5,6],\n",
    "       \"subsample\":[.6,.7,.8,.9,1],\n",
    "       \"colsample_bytree\":[.6,.7,.8,.9,1],\n",
    "       \"colsample_bylevel\":[.6,.7,.8,.9,1],\n",
    "       \"colsample_bynode\":[.6,.7,.8,.9,1],\n",
    "       \"learning_rate\":[.01,.05,.1,.15,.20],\n",
    "       \"scale_pos_weight\":[1,2,3,4],\n",
    "       \"gamma\":[.1,.2,.3]}"
   ]
  },
  {
   "cell_type": "code",
   "execution_count": 88,
   "metadata": {},
   "outputs": [
    {
     "data": {
      "text/plain": [
       "RandomizedSearchCV(cv=5, error_score='raise-deprecating',\n",
       "          estimator=XGBClassifier(base_score=0.5, booster='gbtree', colsample_bylevel=1,\n",
       "       colsample_bynode=1, colsample_bytree=1, gamma=0, learning_rate=0.1,\n",
       "       max_delta_step=0, max_depth=3, min_child_weight=1, missing=None,\n",
       "       n_estimators=100, n_jobs=1, nthread=None,\n",
       "       objective='binary:logistic', random_state=0, reg_alpha=0,\n",
       "       reg_lambda=1, scale_pos_weight=1, seed=None, silent=None,\n",
       "       subsample=1, verbosity=1),\n",
       "          fit_params=None, iid='warn', n_iter=150, n_jobs=None,\n",
       "          param_distributions={'n_estimators': [50, 80, 100, 150, 20], 'max_depth': [2, 3, 4, 5, 6], 'subsample': [0.6, 0.7, 0.8, 0.9, 1], 'colsample_bytree': [0.6, 0.7, 0.8, 0.9, 1], 'colsample_bylevel': [0.6, 0.7, 0.8, 0.9, 1], 'colsample_bynode': [0.6, 0.7, 0.8, 0.9, 1], 'learning_rate': [0.01, 0.05, 0.1, 0.15, 0.2], 'scale_pos_weight': [1, 2, 3, 4], 'gamma': [0.1, 0.2, 0.3]},\n",
       "          pre_dispatch='2*n_jobs', random_state=None, refit=True,\n",
       "          return_train_score='warn', scoring='roc_auc', verbose=0)"
      ]
     },
     "execution_count": 88,
     "metadata": {},
     "output_type": "execute_result"
    }
   ],
   "source": [
    "xg=XGBClassifier(objective=\"binary:logistic\")\n",
    "random_search_xg=RandomizedSearchCV(xg,param_distributions=params_xg,cv=5,scoring=\"roc_auc\",n_iter=150)\n",
    "random_search_xg.fit(x_train,y_train)"
   ]
  },
  {
   "cell_type": "code",
   "execution_count": 89,
   "metadata": {},
   "outputs": [
    {
     "name": "stdout",
     "output_type": "stream",
     "text": [
      "Model with rank: 1\n",
      "Mean validation score: 0.713 (std: 0.015)\n",
      "Parameters: {'subsample': 0.9, 'scale_pos_weight': 1, 'n_estimators': 100, 'max_depth': 2, 'learning_rate': 0.15, 'gamma': 0.1, 'colsample_bytree': 0.7, 'colsample_bynode': 0.9, 'colsample_bylevel': 0.6}\n",
      "\n",
      "Model with rank: 2\n",
      "Mean validation score: 0.712 (std: 0.018)\n",
      "Parameters: {'subsample': 0.7, 'scale_pos_weight': 1, 'n_estimators': 100, 'max_depth': 5, 'learning_rate': 0.05, 'gamma': 0.1, 'colsample_bytree': 0.9, 'colsample_bynode': 0.7, 'colsample_bylevel': 0.8}\n",
      "\n",
      "Model with rank: 3\n",
      "Mean validation score: 0.711 (std: 0.016)\n",
      "Parameters: {'subsample': 0.8, 'scale_pos_weight': 1, 'n_estimators': 150, 'max_depth': 2, 'learning_rate': 0.1, 'gamma': 0.3, 'colsample_bytree': 0.6, 'colsample_bynode': 0.6, 'colsample_bylevel': 0.6}\n",
      "\n",
      "Model with rank: 4\n",
      "Mean validation score: 0.710 (std: 0.020)\n",
      "Parameters: {'subsample': 0.9, 'scale_pos_weight': 3, 'n_estimators': 100, 'max_depth': 5, 'learning_rate': 0.05, 'gamma': 0.1, 'colsample_bytree': 0.6, 'colsample_bynode': 1, 'colsample_bylevel': 0.6}\n",
      "\n",
      "Model with rank: 5\n",
      "Mean validation score: 0.710 (std: 0.014)\n",
      "Parameters: {'subsample': 0.8, 'scale_pos_weight': 3, 'n_estimators': 50, 'max_depth': 4, 'learning_rate': 0.1, 'gamma': 0.3, 'colsample_bytree': 0.8, 'colsample_bynode': 0.7, 'colsample_bylevel': 0.7}\n",
      "\n"
     ]
    }
   ],
   "source": [
    "report(random_search_xg.cv_results_,5)"
   ]
  },
  {
   "cell_type": "code",
   "execution_count": 92,
   "metadata": {},
   "outputs": [
    {
     "data": {
      "text/plain": [
       "XGBClassifier(base_score=0.5, booster='gbtree', colsample_bylevel=0.6,\n",
       "       colsample_bynode=0.9, colsample_bytree=0.7, gamma=0.1,\n",
       "       learning_rate=0.15, max_delta_step=0, max_depth=2,\n",
       "       min_child_weight=1, missing=None, n_estimators=100, n_jobs=1,\n",
       "       nthread=None, objective='binary:logistic', random_state=0,\n",
       "       reg_alpha=0, reg_lambda=1, scale_pos_weight=5, seed=None,\n",
       "       silent=None, subsample=1, verbosity=1)"
      ]
     },
     "execution_count": 92,
     "metadata": {},
     "output_type": "execute_result"
    }
   ],
   "source": [
    "xg=XGBClassifier(objective=\"binary:logistic\",scale_pos_weight=5,n_estimators=100,\n",
    "                max_depth=2,learning_rate=0.15,gamma=0.1,colsample_bytree=0.7,colsample_bynode=.9,\n",
    "                 colsample_bylevel=.6)\n",
    "xg.fit(x_train,y_train)"
   ]
  },
  {
   "cell_type": "code",
   "execution_count": 93,
   "metadata": {},
   "outputs": [
    {
     "data": {
      "text/plain": [
       "0.6180779117067206"
      ]
     },
     "execution_count": 93,
     "metadata": {},
     "output_type": "execute_result"
    }
   ],
   "source": [
    "p_xg=xg.predict(x_test)\n",
    "roc_auc_score(y_test,p_xg)"
   ]
  },
  {
   "cell_type": "code",
   "execution_count": 94,
   "metadata": {},
   "outputs": [
    {
     "data": {
      "text/plain": [
       "(array([0.417]), 0.6424970677048238)"
      ]
     },
     "execution_count": 94,
     "metadata": {},
     "output_type": "execute_result"
    }
   ],
   "source": [
    "p_xg=xg.predict_proba(x_test)[:,1]\n",
    "cutoff=np.linspace(0.001,.999,999)\n",
    "real=y_test\n",
    "roc=[]\n",
    "for c in cutoff:\n",
    "    predicted=(p_xg>c).astype(int)\n",
    "    score=roc_auc_score(real,predicted)\n",
    "    roc.append(score)\n",
    "cutoff[roc==max(roc)],max(roc)"
   ]
  },
  {
   "cell_type": "code",
   "execution_count": 100,
   "metadata": {},
   "outputs": [
    {
     "data": {
      "text/plain": [
       "array([[1632,  534],\n",
       "       [ 156,  177]], dtype=int64)"
      ]
     },
     "execution_count": 100,
     "metadata": {},
     "output_type": "execute_result"
    }
   ],
   "source": [
    "prediction_xg=(p_xg>0.417).astype(int)\n",
    "confusion_matrix(y_test,prediction_xg)"
   ]
  },
  {
   "cell_type": "code",
   "execution_count": null,
   "metadata": {},
   "outputs": [],
   "source": []
  }
 ],
 "metadata": {
  "kernelspec": {
   "display_name": "Python 3",
   "language": "python",
   "name": "python3"
  },
  "language_info": {
   "codemirror_mode": {
    "name": "ipython",
    "version": 3
   },
   "file_extension": ".py",
   "mimetype": "text/x-python",
   "name": "python",
   "nbconvert_exporter": "python",
   "pygments_lexer": "ipython3",
   "version": "3.7.1"
  }
 },
 "nbformat": 4,
 "nbformat_minor": 2
}
